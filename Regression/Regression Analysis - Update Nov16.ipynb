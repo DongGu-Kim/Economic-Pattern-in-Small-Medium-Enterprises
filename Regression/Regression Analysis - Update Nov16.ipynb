{
 "cells": [
  {
   "cell_type": "code",
   "execution_count": 34,
   "metadata": {
    "collapsed": false
   },
   "outputs": [],
   "source": [
    "# import necessary packages\n",
    "import pandas as pd\n",
    "import numpy as np\n",
    "from sklearn import preprocessing\n",
    "import statsmodels.api as sm\n",
    "from sklearn import linear_model"
   ]
  },
  {
   "cell_type": "markdown",
   "metadata": {},
   "source": [
    "## Working with industry data"
   ]
  },
  {
   "cell_type": "code",
   "execution_count": 51,
   "metadata": {
    "collapsed": false
   },
   "outputs": [],
   "source": [
    "industry_target = pd.read_csv('industry_target from sba.csv')\n",
    "industry_data = pd.read_csv('industry_all from census.csv')\n",
    "industry_index = pd.read_csv('Codes.csv')"
   ]
  },
  {
   "cell_type": "markdown",
   "metadata": {},
   "source": [
    "### Let's start with mapping targets from SBA"
   ]
  },
  {
   "cell_type": "code",
   "execution_count": 56,
   "metadata": {
    "collapsed": false
   },
   "outputs": [],
   "source": [
    "# reading in the index file\n",
    "industry_index = industry_index.rename(index=str, columns={\"2017 NAICS US   Code\": \"NAICS\"})\n",
    "industry_index['NAICS'] = pd.to_numeric(industry_index['NAICS'])"
   ]
  },
  {
   "cell_type": "code",
   "execution_count": 57,
   "metadata": {
    "collapsed": false
   },
   "outputs": [],
   "source": [
    "industry_target=industry_target.merge(industry_index, on='NAICS', how='left')"
   ]
  },
  {
   "cell_type": "code",
   "execution_count": 58,
   "metadata": {
    "collapsed": false
   },
   "outputs": [],
   "source": [
    "# filtering for those firms of size less than 500 employees \n",
    "ind_state_target = industry_target.loc[industry_target['firm type'].isin(['firm', 'firms'])][['Year', \n",
    "                                                        'State', 'NAICS', '<500', '2017 NAICS US Title']]\n",
    "ind_state_target['<500'] = pd.to_numeric(ind_state_target['<500'])"
   ]
  },
  {
   "cell_type": "code",
   "execution_count": 61,
   "metadata": {
    "collapsed": false
   },
   "outputs": [],
   "source": [
    "# create one for the US\n",
    "ind_us_target = ind_state_target.groupby(['NAICS', 'Year']).sum()"
   ]
  },
  {
   "cell_type": "code",
   "execution_count": 39,
   "metadata": {
    "collapsed": false
   },
   "outputs": [
    {
     "data": {
      "text/html": [
       "<div>\n",
       "<style scoped>\n",
       "    .dataframe tbody tr th:only-of-type {\n",
       "        vertical-align: middle;\n",
       "    }\n",
       "\n",
       "    .dataframe tbody tr th {\n",
       "        vertical-align: top;\n",
       "    }\n",
       "\n",
       "    .dataframe thead th {\n",
       "        text-align: right;\n",
       "    }\n",
       "</style>\n",
       "<table border=\"1\" class=\"dataframe\">\n",
       "  <thead>\n",
       "    <tr style=\"text-align: right;\">\n",
       "      <th></th>\n",
       "      <th>Year</th>\n",
       "      <th>State</th>\n",
       "      <th>NAICS</th>\n",
       "      <th>&lt;500</th>\n",
       "      <th>2017 NAICS US Title</th>\n",
       "    </tr>\n",
       "  </thead>\n",
       "  <tbody>\n",
       "    <tr>\n",
       "      <th>0</th>\n",
       "      <td>2011.0</td>\n",
       "      <td>Alabama</td>\n",
       "      <td>113</td>\n",
       "      <td>586</td>\n",
       "      <td>Forestry and Logging</td>\n",
       "    </tr>\n",
       "    <tr>\n",
       "      <th>1</th>\n",
       "      <td>2011.0</td>\n",
       "      <td>Alabama</td>\n",
       "      <td>114</td>\n",
       "      <td>22</td>\n",
       "      <td>Fishing, Hunting and Trapping</td>\n",
       "    </tr>\n",
       "    <tr>\n",
       "      <th>2</th>\n",
       "      <td>2011.0</td>\n",
       "      <td>Alabama</td>\n",
       "      <td>115</td>\n",
       "      <td>163</td>\n",
       "      <td>Support Activities for Agriculture and Forestry</td>\n",
       "    </tr>\n",
       "    <tr>\n",
       "      <th>3</th>\n",
       "      <td>2011.0</td>\n",
       "      <td>Alabama</td>\n",
       "      <td>211</td>\n",
       "      <td>18</td>\n",
       "      <td>Oil and Gas Extraction</td>\n",
       "    </tr>\n",
       "    <tr>\n",
       "      <th>4</th>\n",
       "      <td>2011.0</td>\n",
       "      <td>Alabama</td>\n",
       "      <td>212</td>\n",
       "      <td>78</td>\n",
       "      <td>Mining (except Oil and Gas)</td>\n",
       "    </tr>\n",
       "  </tbody>\n",
       "</table>\n",
       "</div>"
      ],
      "text/plain": [
       "     Year    State  NAICS <500  \\\n",
       "0  2011.0  Alabama    113  586   \n",
       "1  2011.0  Alabama    114   22   \n",
       "2  2011.0  Alabama    115  163   \n",
       "3  2011.0  Alabama    211   18   \n",
       "4  2011.0  Alabama    212   78   \n",
       "\n",
       "                               2017 NAICS US Title  \n",
       "0                             Forestry and Logging  \n",
       "1                    Fishing, Hunting and Trapping  \n",
       "2  Support Activities for Agriculture and Forestry  \n",
       "3                           Oil and Gas Extraction  \n",
       "4                      Mining (except Oil and Gas)  "
      ]
     },
     "execution_count": 39,
     "metadata": {},
     "output_type": "execute_result"
    }
   ],
   "source": [
    "ind_state_target.head()"
   ]
  },
  {
   "cell_type": "code",
   "execution_count": 62,
   "metadata": {
    "collapsed": false
   },
   "outputs": [
    {
     "data": {
      "text/html": [
       "<div>\n",
       "<style scoped>\n",
       "    .dataframe tbody tr th:only-of-type {\n",
       "        vertical-align: middle;\n",
       "    }\n",
       "\n",
       "    .dataframe tbody tr th {\n",
       "        vertical-align: top;\n",
       "    }\n",
       "\n",
       "    .dataframe thead th {\n",
       "        text-align: right;\n",
       "    }\n",
       "</style>\n",
       "<table border=\"1\" class=\"dataframe\">\n",
       "  <thead>\n",
       "    <tr style=\"text-align: right;\">\n",
       "      <th></th>\n",
       "      <th></th>\n",
       "      <th>&lt;500</th>\n",
       "    </tr>\n",
       "    <tr>\n",
       "      <th>NAICS</th>\n",
       "      <th>Year</th>\n",
       "      <th></th>\n",
       "    </tr>\n",
       "  </thead>\n",
       "  <tbody>\n",
       "    <tr>\n",
       "      <th rowspan=\"5\" valign=\"top\">113</th>\n",
       "      <th>1998.0</th>\n",
       "      <td>13982.0</td>\n",
       "    </tr>\n",
       "    <tr>\n",
       "      <th>1999.0</th>\n",
       "      <td>13444.0</td>\n",
       "    </tr>\n",
       "    <tr>\n",
       "      <th>2000.0</th>\n",
       "      <td>13099.0</td>\n",
       "    </tr>\n",
       "    <tr>\n",
       "      <th>2001.0</th>\n",
       "      <td>12561.0</td>\n",
       "    </tr>\n",
       "    <tr>\n",
       "      <th>2002.0</th>\n",
       "      <td>12274.0</td>\n",
       "    </tr>\n",
       "  </tbody>\n",
       "</table>\n",
       "</div>"
      ],
      "text/plain": [
       "                 <500\n",
       "NAICS Year           \n",
       "113   1998.0  13982.0\n",
       "      1999.0  13444.0\n",
       "      2000.0  13099.0\n",
       "      2001.0  12561.0\n",
       "      2002.0  12274.0"
      ]
     },
     "execution_count": 62,
     "metadata": {},
     "output_type": "execute_result"
    }
   ],
   "source": [
    "ind_us_target.head()"
   ]
  },
  {
   "cell_type": "markdown",
   "metadata": {},
   "source": [
    "### Now we can take a look at the data from CENSUS\n",
    "\n",
    "The feature description table:"
   ]
  },
  {
   "cell_type": "markdown",
   "metadata": {},
   "source": [
    "|  Name | Type   |  Description |\n",
    "|---|---|---|\n",
    "|  STATE | \tC   | Geographic Area Code, FIPS State 2-digit codes  |\n",
    "| NAICS  |  C   |  Industry Code; 6-digit, North American Industry Classification System (NAICS) |\n",
    "|  ENTRSIZE |  C  |  Enterprise Employment Size Code |\n",
    "|  INIT_ESTB |  N  |  Number of Initial Year Establishments |\n",
    "|  INIT_EMPL |  N  | Initial Year Employment with Noise  |\n",
    "|  INIT_EMPLFL_N |  C  | Initial Year Employment Noise Flag   |\n",
    "| INIT_EMPFL_R  | C   |   Initial Year Employment Range Flag / Data Suppression Flag |\n",
    "|  NETCHG_ESTB |  N |  Change in Establishments |\n",
    "| NETCHG_EMPL   |  N |  Change in Employment |\n",
    "|  NETCHG_EMPLFL_N  | C  | Net Change Noise Flag (G,H,D,S... see INIT_EMPLFL_N)  |\n",
    "|  BIRTHS_ESTB  | N   |  Number of Establishment Births  |\n",
    "|  BIRTHS_EMPL  |  N  |  Establishment Births Employment with Noise  |\n",
    "|   BIRTHS_EMPLFL_N|  C   |  Establishment Births Noise Flag (G,H,D,S... see INIT_EMPLFL_N  |\n",
    "|  DEATHS_ESTB  |  N   |  Number of Establishment Deaths  |\n",
    "|  DEATHS_EMPL   |   N  |  Establishment Deaths Employment with Noise  |\n",
    "|  DEATHS_EMPLFL_N  |  C   |  Establishment Deaths Noise Flag (G,H,D,S... see INIT_EMPLFL_N)  |\n",
    "|   EXP_ESTB |  N   |  Number of Establishment Expansions  |\n",
    "|   EXP_EMPL |  N   |   Establishment Expansions Change in Employment with Noise |\n",
    "|  EXP_EMPLFL_N  |  C   |  Establishment Expansion Noise Flag  |\n",
    "|  CONTR_ESTB  |   N  |  Number of Establishment Contractions  |\n",
    "|  CONTR_EMPL  |   N |  Establishment Contractions Change in Employment with Noise  |\n",
    "|  CONTR_EMPLFL_N  |   C  | Establish Contractors Noise Flag   |\n",
    "|   PCTCHG_ESTB |  N   |  Percent Change Establishments  |\n",
    "|  PCTCHG_EMPL  |  N  |   Percent Change in Employment |\n",
    "|  PCTCHG_BIRTHS_EMPL  |  N   |  Percent Change in Employment Due to Births  |\n",
    "|  PCTCHG_DEATHS_EMPL  |  N   |   Percent Change in Employment Due to Deaths |\n",
    "|  PCTCHG_BIRTHS_EXP_EMPL  |  N   |   Percent Change in Employment Due to Births & Expansion |\n",
    "|  PCTCGH_DEATHS_CONTR_EMPL  | N   | Percent change in Employment Due to Deaths & Contractions    |\n",
    "|  STATEDSCR  |  C   |  State Description  |\n",
    "|  NAICSDSCR  |   C  |  NAICS Industry Description  |\n",
    "|  ENTRSIZEDSCR  |  C   |  Enterprise Employment Size Description  |"
   ]
  },
  {
   "cell_type": "markdown",
   "metadata": {},
   "source": [
    "This denotes employment size class for data withheld to avoid disclosure (confidentiality) or withheld because data do not meet publication standards.\n",
    " \n",
    "1. A:        0-19\n",
    "2. B:        20-99\n",
    "3. C:        100-249\n",
    "4. E:        250-499\n",
    "5. F:        500-999\n",
    "6. G:        1,000-2,499\n",
    "7. H:        2,500-4,999\n",
    "8. I:        5,000-9,999\n",
    "9. J:        10,000-24,999\n",
    "10. K:        25,000-49,999\n",
    "11. L:        50,000-99,999\n",
    "12. M:        100,000 or More\n",
    "\n",
    "_____________________\n",
    "Other marks\n",
    "1. G:        Low noise applied to cell value (0 to < 2%)\n",
    "2. H:        Medium noise applied to cell value (2 to < 5%)\n",
    "3. D:        Data withheld and value set to 0 to avoid disclosing data for individual businesses; data are included in higher level totals. \n",
    "4. S:       Data withheld and value set to 0 to avoise releasing information that does not meet publication standards; data are included in higher level totals."
   ]
  },
  {
   "cell_type": "markdown",
   "metadata": {},
   "source": [
    "Will be treating as targets:\n",
    "1. Number of Initial Year Establishments\n",
    "2. Change in Establishments\n",
    "3. Number of Establishment Births\n",
    "4. Number of Establishment Deaths\n",
    "5. Number of Establishment Expansions\n",
    "6. Number of Establishment Contractions\n",
    "7. Percent Change Establishments"
   ]
  },
  {
   "cell_type": "code",
   "execution_count": 74,
   "metadata": {
    "collapsed": false
   },
   "outputs": [],
   "source": [
    "# split the US data with States and using '7' to filter for industries with less than 500 employees\n",
    "industry_us_data = industry_data.loc[(industry_data['STATE'] == 0) & (industry_data['ENTRSIZE'] == 7)][['NAICS',\n",
    "                                                    'INIT_ESTB', 'NETCHG_ESTB', 'BIRTHS_ESTB', 'DEATHS_ESTB', \n",
    "                                                'EXP_ESTB', 'CONTR_ESTB', 'PCTCHG_ESTB','NCSDSCR','year' ]]\n",
    "industry_state_data = industry_data.loc[(industry_data['STATE'] != 0) & (industry_data['ENTRSIZE'] == 7)][['STATE',\n",
    "                                                 'NAICS', 'INIT_ESTB', 'NETCHG_ESTB', 'BIRTHS_ESTB', 'DEATHS_ESTB', \n",
    "                                             'EXP_ESTB', 'CONTR_ESTB', 'PCTCHG_ESTB','NCSDSCR','year', 'STATEDSCR']]"
   ]
  },
  {
   "cell_type": "code",
   "execution_count": 75,
   "metadata": {
    "collapsed": false
   },
   "outputs": [
    {
     "data": {
      "text/html": [
       "<div>\n",
       "<style scoped>\n",
       "    .dataframe tbody tr th:only-of-type {\n",
       "        vertical-align: middle;\n",
       "    }\n",
       "\n",
       "    .dataframe tbody tr th {\n",
       "        vertical-align: top;\n",
       "    }\n",
       "\n",
       "    .dataframe thead th {\n",
       "        text-align: right;\n",
       "    }\n",
       "</style>\n",
       "<table border=\"1\" class=\"dataframe\">\n",
       "  <thead>\n",
       "    <tr style=\"text-align: right;\">\n",
       "      <th></th>\n",
       "      <th>NAICS</th>\n",
       "      <th>INIT_ESTB</th>\n",
       "      <th>NETCHG_ESTB</th>\n",
       "      <th>BIRTHS_ESTB</th>\n",
       "      <th>DEATHS_ESTB</th>\n",
       "      <th>EXP_ESTB</th>\n",
       "      <th>CONTR_ESTB</th>\n",
       "      <th>PCTCHG_ESTB</th>\n",
       "      <th>NCSDSCR</th>\n",
       "      <th>year</th>\n",
       "    </tr>\n",
       "  </thead>\n",
       "  <tbody>\n",
       "    <tr>\n",
       "      <th>6</th>\n",
       "      <td>--</td>\n",
       "      <td>5572590</td>\n",
       "      <td>57956</td>\n",
       "      <td>587233</td>\n",
       "      <td>529277</td>\n",
       "      <td>1487582</td>\n",
       "      <td>1271341</td>\n",
       "      <td>1.0</td>\n",
       "      <td>Total</td>\n",
       "      <td>2015</td>\n",
       "    </tr>\n",
       "    <tr>\n",
       "      <th>14</th>\n",
       "      <td>11</td>\n",
       "      <td>17603</td>\n",
       "      <td>433</td>\n",
       "      <td>2186</td>\n",
       "      <td>1753</td>\n",
       "      <td>4259</td>\n",
       "      <td>3853</td>\n",
       "      <td>2.5</td>\n",
       "      <td>Agriculture, Forestry, Fishing and Hunting</td>\n",
       "      <td>2015</td>\n",
       "    </tr>\n",
       "    <tr>\n",
       "      <th>22</th>\n",
       "      <td>113</td>\n",
       "      <td>7455</td>\n",
       "      <td>145</td>\n",
       "      <td>811</td>\n",
       "      <td>666</td>\n",
       "      <td>2114</td>\n",
       "      <td>1890</td>\n",
       "      <td>1.9</td>\n",
       "      <td>Forestry and Logging</td>\n",
       "      <td>2015</td>\n",
       "    </tr>\n",
       "  </tbody>\n",
       "</table>\n",
       "</div>"
      ],
      "text/plain": [
       "   NAICS  INIT_ESTB  NETCHG_ESTB  BIRTHS_ESTB  DEATHS_ESTB  EXP_ESTB  \\\n",
       "6     --    5572590        57956       587233       529277   1487582   \n",
       "14    11      17603          433         2186         1753      4259   \n",
       "22   113       7455          145          811          666      2114   \n",
       "\n",
       "    CONTR_ESTB  PCTCHG_ESTB                                     NCSDSCR  year  \n",
       "6      1271341          1.0                                       Total  2015  \n",
       "14        3853          2.5  Agriculture, Forestry, Fishing and Hunting  2015  \n",
       "22        1890          1.9                        Forestry and Logging  2015  "
      ]
     },
     "execution_count": 75,
     "metadata": {},
     "output_type": "execute_result"
    }
   ],
   "source": [
    "industry_us_data.head(3)"
   ]
  },
  {
   "cell_type": "code",
   "execution_count": 94,
   "metadata": {
    "collapsed": false
   },
   "outputs": [
    {
     "data": {
      "text/html": [
       "<div>\n",
       "<style scoped>\n",
       "    .dataframe tbody tr th:only-of-type {\n",
       "        vertical-align: middle;\n",
       "    }\n",
       "\n",
       "    .dataframe tbody tr th {\n",
       "        vertical-align: top;\n",
       "    }\n",
       "\n",
       "    .dataframe thead th {\n",
       "        text-align: right;\n",
       "    }\n",
       "</style>\n",
       "<table border=\"1\" class=\"dataframe\">\n",
       "  <thead>\n",
       "    <tr style=\"text-align: right;\">\n",
       "      <th></th>\n",
       "      <th>STATE</th>\n",
       "      <th>NAICS</th>\n",
       "      <th>INIT_ESTB</th>\n",
       "      <th>NETCHG_ESTB</th>\n",
       "      <th>BIRTHS_ESTB</th>\n",
       "      <th>DEATHS_ESTB</th>\n",
       "      <th>EXP_ESTB</th>\n",
       "      <th>CONTR_ESTB</th>\n",
       "      <th>PCTCHG_ESTB</th>\n",
       "      <th>NCSDSCR</th>\n",
       "      <th>year</th>\n",
       "      <th>STATEDSCR</th>\n",
       "    </tr>\n",
       "  </thead>\n",
       "  <tbody>\n",
       "    <tr>\n",
       "      <th>3156</th>\n",
       "      <td>1</td>\n",
       "      <td>--</td>\n",
       "      <td>71519</td>\n",
       "      <td>-5</td>\n",
       "      <td>6202</td>\n",
       "      <td>6207</td>\n",
       "      <td>18952</td>\n",
       "      <td>17554</td>\n",
       "      <td>0.0</td>\n",
       "      <td>Total</td>\n",
       "      <td>2015</td>\n",
       "      <td>Alabama</td>\n",
       "    </tr>\n",
       "    <tr>\n",
       "      <th>3164</th>\n",
       "      <td>1</td>\n",
       "      <td>11</td>\n",
       "      <td>717</td>\n",
       "      <td>6</td>\n",
       "      <td>63</td>\n",
       "      <td>57</td>\n",
       "      <td>178</td>\n",
       "      <td>192</td>\n",
       "      <td>0.8</td>\n",
       "      <td>Agriculture, Forestry, Fishing and Hunting</td>\n",
       "      <td>2015</td>\n",
       "      <td>Alabama</td>\n",
       "    </tr>\n",
       "    <tr>\n",
       "      <th>3172</th>\n",
       "      <td>1</td>\n",
       "      <td>21</td>\n",
       "      <td>140</td>\n",
       "      <td>-8</td>\n",
       "      <td>4</td>\n",
       "      <td>12</td>\n",
       "      <td>44</td>\n",
       "      <td>42</td>\n",
       "      <td>-5.7</td>\n",
       "      <td>Mining, Quarrying, and Oil and Gas Extraction</td>\n",
       "      <td>2015</td>\n",
       "      <td>Alabama</td>\n",
       "    </tr>\n",
       "  </tbody>\n",
       "</table>\n",
       "</div>"
      ],
      "text/plain": [
       "      STATE NAICS  INIT_ESTB  NETCHG_ESTB  BIRTHS_ESTB  DEATHS_ESTB  EXP_ESTB  \\\n",
       "3156      1    --      71519           -5         6202         6207     18952   \n",
       "3164      1    11        717            6           63           57       178   \n",
       "3172      1    21        140           -8            4           12        44   \n",
       "\n",
       "      CONTR_ESTB  PCTCHG_ESTB                                        NCSDSCR  \\\n",
       "3156       17554          0.0                                          Total   \n",
       "3164         192          0.8     Agriculture, Forestry, Fishing and Hunting   \n",
       "3172          42         -5.7  Mining, Quarrying, and Oil and Gas Extraction   \n",
       "\n",
       "      year STATEDSCR  \n",
       "3156  2015   Alabama  \n",
       "3164  2015   Alabama  \n",
       "3172  2015   Alabama  "
      ]
     },
     "execution_count": 94,
     "metadata": {},
     "output_type": "execute_result"
    }
   ],
   "source": [
    "industry_state_data.head(3)"
   ]
  },
  {
   "cell_type": "markdown",
   "metadata": {},
   "source": [
    "_______________"
   ]
  },
  {
   "cell_type": "markdown",
   "metadata": {},
   "source": [
    "## Proposal for regression analysis\n",
    "\n",
    "1. Run a regression on the state data linked to the top industry\n",
    "2. Run a regression on just the industries for the entire US"
   ]
  },
  {
   "cell_type": "markdown",
   "metadata": {},
   "source": [
    "## Now looking at states full dataset"
   ]
  },
  {
   "cell_type": "code",
   "execution_count": 218,
   "metadata": {
    "collapsed": false
   },
   "outputs": [],
   "source": [
    "# create a 1:1 match between a state and a top industry to add into the bigger state regression\n",
    "state_industry = pd.read_csv('State to Industry Mapping.csv')\n",
    "temp_data = pd.read_csv('final_data(industry not added).csv')\n",
    "temp_data = temp_data.replace('(NA)', None).dropna()\n",
    "final_data = temp_data.merge(state_industry, on='state', how='left')"
   ]
  },
  {
   "cell_type": "code",
   "execution_count": 224,
   "metadata": {
    "collapsed": false
   },
   "outputs": [],
   "source": [
    "feature_data = temp_data.drop(['GeoName', 'year', 'state'], axis=1)\n",
    "feature_data = feature_data.apply(pd.to_numeric)\n",
    "feature_data['GDP PC'] = feature_data['Real GDP by state']/feature_data['Population (persons) ']"
   ]
  },
  {
   "cell_type": "code",
   "execution_count": 226,
   "metadata": {
    "collapsed": false
   },
   "outputs": [],
   "source": [
    "# normalize the dataset\n",
    "min_max_scaler = preprocessing.MinMaxScaler()\n",
    "data_normalized = pd.DataFrame(min_max_scaler.fit_transform(feature_data))\n",
    "data_normalized.columns = feature_data.columns"
   ]
  },
  {
   "cell_type": "code",
   "execution_count": 227,
   "metadata": {
    "collapsed": true
   },
   "outputs": [],
   "source": [
    "#data_normalized['State'] = temp_data['state']\n",
    "#data_normalized['Year'] = temp_data['year']\n",
    "contract_establish = data_normalized['contract_establish']\n",
    "end_establish = data_normalized['end_establish']\n",
    "expand_establish = data_normalized['expand_establish']\n",
    "net_change = data_normalized['net_change']\n",
    "open_establish = data_normalized['open_establish']\n",
    "total_contract = data_normalized['total_contract']\n",
    "total_expand = data_normalized['total_expand']\n",
    "data_normalized = data_normalized.drop(['contract_establish', 'end_establish', 'expand_establish', 'net_change',\n",
    "                                        'open_establish', 'total_contract', 'total_expand'], axis=1)"
   ]
  },
  {
   "cell_type": "code",
   "execution_count": 249,
   "metadata": {
    "collapsed": false
   },
   "outputs": [],
   "source": [
    "from sklearn.feature_selection import SelectKBest\n",
    "from sklearn.feature_selection import f_regression\n",
    "from sklearn.feature_selection import SelectFromModel\n",
    "X = data_normalized\n",
    "y = open_establish"
   ]
  },
  {
   "cell_type": "code",
   "execution_count": 354,
   "metadata": {
    "collapsed": false
   },
   "outputs": [],
   "source": [
    "# Create and fit selector\n",
    "selector = SelectKBest(f_regression, k=21)\n",
    "selector.fit(X, y)\n",
    "# Get idxs of columns to keep\n",
    "idxs_selected = selector.get_support(indices=True)\n",
    "kbest_scores = pd.DataFrame(selector.scores_)\n",
    "kbest_scores.columns = ['kbest_score']"
   ]
  },
  {
   "cell_type": "code",
   "execution_count": 353,
   "metadata": {
    "collapsed": false
   },
   "outputs": [],
   "source": [
    "m = X.corr()\n",
    "corr = m.stack().reset_index()\n",
    "corr.columns = ['var1','var2','corr']\n",
    "corr_drop = corr.loc[(corr['corr']>0.94) & (corr['corr']<1.00)]\n",
    "columns = pd.DataFrame(X.columns)\n",
    "columns.columns = ['var1']\n",
    "kbest_scores = columns.join(kbest_scores)\n",
    "corr_drop = corr_drop.merge(kbest_scores, on='var1', how='left')[['var1', 'var2','corr','kbest_score']]\n",
    "kbest_scores['var2'] = kbest_scores['var1']\n",
    "corr_drop = corr_drop.merge(kbest_scores, on='var2', how='left')[['var1_x', 'var2',\n",
    "                                                                  'corr','kbest_score_x', 'kbest_score_y']]"
   ]
  },
  {
   "cell_type": "code",
   "execution_count": 360,
   "metadata": {
    "collapsed": false
   },
   "outputs": [],
   "source": [
    "corr_drop['var1_drop'] = corr_drop['kbest_score_x']<corr_drop['kbest_score_y']\n",
    "list1 = corr_drop.loc[corr_drop['var1_drop']==True]['var1_x']\n",
    "list2 = corr_drop.loc[corr_drop['var1_drop']==False]['var2']"
   ]
  },
  {
   "cell_type": "code",
   "execution_count": 367,
   "metadata": {
    "collapsed": false
   },
   "outputs": [],
   "source": [
    "list1 = list1.drop_duplicates()\n",
    "list2 = list2.drop_duplicates()\n",
    "final_drop = pd.concat([list1,list2]).reset_index().drop(['index'], axis=1)"
   ]
  },
  {
   "cell_type": "code",
   "execution_count": 368,
   "metadata": {
    "collapsed": false
   },
   "outputs": [
    {
     "data": {
      "text/html": [
       "<div>\n",
       "<style scoped>\n",
       "    .dataframe tbody tr th:only-of-type {\n",
       "        vertical-align: middle;\n",
       "    }\n",
       "\n",
       "    .dataframe tbody tr th {\n",
       "        vertical-align: top;\n",
       "    }\n",
       "\n",
       "    .dataframe thead th {\n",
       "        text-align: right;\n",
       "    }\n",
       "</style>\n",
       "<table border=\"1\" class=\"dataframe\">\n",
       "  <thead>\n",
       "    <tr style=\"text-align: right;\">\n",
       "      <th></th>\n",
       "      <th>0</th>\n",
       "    </tr>\n",
       "  </thead>\n",
       "  <tbody>\n",
       "    <tr>\n",
       "      <th>0</th>\n",
       "      <td>Gross domestic product (GDP) by state</td>\n",
       "    </tr>\n",
       "    <tr>\n",
       "      <th>1</th>\n",
       "      <td>Gross operating surplus</td>\n",
       "    </tr>\n",
       "    <tr>\n",
       "      <th>2</th>\n",
       "      <td>Per capita real GDP by state</td>\n",
       "    </tr>\n",
       "    <tr>\n",
       "      <th>3</th>\n",
       "      <td>Real GDP by state</td>\n",
       "    </tr>\n",
       "    <tr>\n",
       "      <th>4</th>\n",
       "      <td>pce  Financial services and insurance</td>\n",
       "    </tr>\n",
       "    <tr>\n",
       "      <th>5</th>\n",
       "      <td>pce  Household consumption expenditures (for s...</td>\n",
       "    </tr>\n",
       "    <tr>\n",
       "      <th>6</th>\n",
       "      <td>pce Goods</td>\n",
       "    </tr>\n",
       "    <tr>\n",
       "      <th>7</th>\n",
       "      <td>pce Less: Receipts from sales of goods and ser...</td>\n",
       "    </tr>\n",
       "    <tr>\n",
       "      <th>8</th>\n",
       "      <td>pce Services</td>\n",
       "    </tr>\n",
       "    <tr>\n",
       "      <th>9</th>\n",
       "      <td>Per capita personal income (dollars)</td>\n",
       "    </tr>\n",
       "    <tr>\n",
       "      <th>10</th>\n",
       "      <td>Personal income (thousands of dollars)</td>\n",
       "    </tr>\n",
       "    <tr>\n",
       "      <th>11</th>\n",
       "      <td>Population (persons)</td>\n",
       "    </tr>\n",
       "    <tr>\n",
       "      <th>12</th>\n",
       "      <td>Disposable personal income (thousands of dollars)</td>\n",
       "    </tr>\n",
       "    <tr>\n",
       "      <th>13</th>\n",
       "      <td>Per capita disposable personal income (dollars)</td>\n",
       "    </tr>\n",
       "    <tr>\n",
       "      <th>14</th>\n",
       "      <td>Employer contributions for employee pension an...</td>\n",
       "    </tr>\n",
       "    <tr>\n",
       "      <th>15</th>\n",
       "      <td>Employer contributions for government social i...</td>\n",
       "    </tr>\n",
       "    <tr>\n",
       "      <th>16</th>\n",
       "      <td>Farm proprietors' income</td>\n",
       "    </tr>\n",
       "    <tr>\n",
       "      <th>17</th>\n",
       "      <td>Imputed interest receipts</td>\n",
       "    </tr>\n",
       "    <tr>\n",
       "      <th>18</th>\n",
       "      <td>Imputed rent</td>\n",
       "    </tr>\n",
       "    <tr>\n",
       "      <th>19</th>\n",
       "      <td>Nonfarm proprietors employment</td>\n",
       "    </tr>\n",
       "    <tr>\n",
       "      <th>20</th>\n",
       "      <td>Nonfarm proprietors' income</td>\n",
       "    </tr>\n",
       "    <tr>\n",
       "      <th>21</th>\n",
       "      <td>Income maintenance benefits</td>\n",
       "    </tr>\n",
       "    <tr>\n",
       "      <th>22</th>\n",
       "      <td>Personal dividend income</td>\n",
       "    </tr>\n",
       "    <tr>\n",
       "      <th>23</th>\n",
       "      <td>Personal interest income</td>\n",
       "    </tr>\n",
       "    <tr>\n",
       "      <th>24</th>\n",
       "      <td>Proprietors employment</td>\n",
       "    </tr>\n",
       "    <tr>\n",
       "      <th>25</th>\n",
       "      <td>Proprietors' income</td>\n",
       "    </tr>\n",
       "    <tr>\n",
       "      <th>26</th>\n",
       "      <td>Rental income of persons</td>\n",
       "    </tr>\n",
       "    <tr>\n",
       "      <th>27</th>\n",
       "      <td>Retirement and other</td>\n",
       "    </tr>\n",
       "    <tr>\n",
       "      <th>28</th>\n",
       "      <td>Supplements to wages and salaries</td>\n",
       "    </tr>\n",
       "    <tr>\n",
       "      <th>29</th>\n",
       "      <td>Wages and salaries</td>\n",
       "    </tr>\n",
       "    <tr>\n",
       "      <th>...</th>\n",
       "      <td>...</td>\n",
       "    </tr>\n",
       "    <tr>\n",
       "      <th>150</th>\n",
       "      <td>Medicaid</td>\n",
       "    </tr>\n",
       "    <tr>\n",
       "      <th>151</th>\n",
       "      <td>Public assistance medical care benefits</td>\n",
       "    </tr>\n",
       "    <tr>\n",
       "      <th>152</th>\n",
       "      <td>Imputed rent</td>\n",
       "    </tr>\n",
       "    <tr>\n",
       "      <th>153</th>\n",
       "      <td>Rental income of persons</td>\n",
       "    </tr>\n",
       "    <tr>\n",
       "      <th>154</th>\n",
       "      <td>Rental income of persons</td>\n",
       "    </tr>\n",
       "    <tr>\n",
       "      <th>155</th>\n",
       "      <td>Earned Income Tax Credit (EITC)</td>\n",
       "    </tr>\n",
       "    <tr>\n",
       "      <th>156</th>\n",
       "      <td>Average earnings per job (dollars)</td>\n",
       "    </tr>\n",
       "    <tr>\n",
       "      <th>157</th>\n",
       "      <td>Excluding family assistance</td>\n",
       "    </tr>\n",
       "    <tr>\n",
       "      <th>158</th>\n",
       "      <td>Education and training assistance 1</td>\n",
       "    </tr>\n",
       "    <tr>\n",
       "      <th>159</th>\n",
       "      <td>Per capita personal current transfer receipts</td>\n",
       "    </tr>\n",
       "    <tr>\n",
       "      <th>160</th>\n",
       "      <td>State unemployment insurance compensation</td>\n",
       "    </tr>\n",
       "    <tr>\n",
       "      <th>161</th>\n",
       "      <td>Population (persons)</td>\n",
       "    </tr>\n",
       "    <tr>\n",
       "      <th>162</th>\n",
       "      <td>Veterans' benefits</td>\n",
       "    </tr>\n",
       "    <tr>\n",
       "      <th>163</th>\n",
       "      <td>Livestock purchased</td>\n",
       "    </tr>\n",
       "    <tr>\n",
       "      <th>164</th>\n",
       "      <td>Seed purchased</td>\n",
       "    </tr>\n",
       "    <tr>\n",
       "      <th>165</th>\n",
       "      <td>Vegetables</td>\n",
       "    </tr>\n",
       "    <tr>\n",
       "      <th>166</th>\n",
       "      <td>All other production expenses</td>\n",
       "    </tr>\n",
       "    <tr>\n",
       "      <th>167</th>\n",
       "      <td>Petroleum products purchased</td>\n",
       "    </tr>\n",
       "    <tr>\n",
       "      <th>168</th>\n",
       "      <td>Meat animals and other livestock</td>\n",
       "    </tr>\n",
       "    <tr>\n",
       "      <th>169</th>\n",
       "      <td>Hired farm labor expenses</td>\n",
       "    </tr>\n",
       "    <tr>\n",
       "      <th>170</th>\n",
       "      <td>Plus: Farm supplements to wages and salaries</td>\n",
       "    </tr>\n",
       "    <tr>\n",
       "      <th>171</th>\n",
       "      <td>Less: Production expenses</td>\n",
       "    </tr>\n",
       "    <tr>\n",
       "      <th>172</th>\n",
       "      <td>Production expenses</td>\n",
       "    </tr>\n",
       "    <tr>\n",
       "      <th>173</th>\n",
       "      <td>Cash receipts and other income</td>\n",
       "    </tr>\n",
       "    <tr>\n",
       "      <th>174</th>\n",
       "      <td>Farm proprietors' income</td>\n",
       "    </tr>\n",
       "    <tr>\n",
       "      <th>175</th>\n",
       "      <td>Equals: Farm proprietors' income</td>\n",
       "    </tr>\n",
       "    <tr>\n",
       "      <th>176</th>\n",
       "      <td>Equals: Net income including corporate farms</td>\n",
       "    </tr>\n",
       "    <tr>\n",
       "      <th>177</th>\n",
       "      <td>Equals: Realized net income</td>\n",
       "    </tr>\n",
       "    <tr>\n",
       "      <th>178</th>\n",
       "      <td>Farm income</td>\n",
       "    </tr>\n",
       "    <tr>\n",
       "      <th>179</th>\n",
       "      <td>Per capita real GDP by state</td>\n",
       "    </tr>\n",
       "  </tbody>\n",
       "</table>\n",
       "<p>180 rows × 1 columns</p>\n",
       "</div>"
      ],
      "text/plain": [
       "                                                     0\n",
       "0                Gross domestic product (GDP) by state\n",
       "1                              Gross operating surplus\n",
       "2                         Per capita real GDP by state\n",
       "3                                    Real GDP by state\n",
       "4                pce  Financial services and insurance\n",
       "5    pce  Household consumption expenditures (for s...\n",
       "6                                            pce Goods\n",
       "7    pce Less: Receipts from sales of goods and ser...\n",
       "8                                         pce Services\n",
       "9                Per capita personal income (dollars) \n",
       "10              Personal income (thousands of dollars)\n",
       "11                               Population (persons) \n",
       "12   Disposable personal income (thousands of dollars)\n",
       "13    Per capita disposable personal income (dollars) \n",
       "14   Employer contributions for employee pension an...\n",
       "15   Employer contributions for government social i...\n",
       "16                            Farm proprietors' income\n",
       "17                          Imputed interest receipts \n",
       "18                                        Imputed rent\n",
       "19                      Nonfarm proprietors employment\n",
       "20                         Nonfarm proprietors' income\n",
       "21                        Income maintenance benefits \n",
       "22                            Personal dividend income\n",
       "23                            Personal interest income\n",
       "24                              Proprietors employment\n",
       "25                                 Proprietors' income\n",
       "26                            Rental income of persons\n",
       "27                                Retirement and other\n",
       "28                   Supplements to wages and salaries\n",
       "29                                  Wages and salaries\n",
       "..                                                 ...\n",
       "150                                          Medicaid \n",
       "151           Public assistance medical care benefits \n",
       "152                                       Imputed rent\n",
       "153                           Rental income of persons\n",
       "154                          Rental income of persons \n",
       "155                    Earned Income Tax Credit (EITC)\n",
       "156                 Average earnings per job (dollars)\n",
       "157                       Excluding family assistance \n",
       "158                Education and training assistance 1\n",
       "159     Per capita personal current transfer receipts \n",
       "160          State unemployment insurance compensation\n",
       "161                              Population (persons) \n",
       "162                                 Veterans' benefits\n",
       "163                                Livestock purchased\n",
       "164                                     Seed purchased\n",
       "165                                         Vegetables\n",
       "166                     All other production expenses \n",
       "167                       Petroleum products purchased\n",
       "168                   Meat animals and other livestock\n",
       "169                         Hired farm labor expenses \n",
       "170       Plus: Farm supplements to wages and salaries\n",
       "171                          Less: Production expenses\n",
       "172                                Production expenses\n",
       "173                     Cash receipts and other income\n",
       "174                           Farm proprietors' income\n",
       "175                   Equals: Farm proprietors' income\n",
       "176       Equals: Net income including corporate farms\n",
       "177                        Equals: Realized net income\n",
       "178                                       Farm income \n",
       "179                       Per capita real GDP by state\n",
       "\n",
       "[180 rows x 1 columns]"
      ]
     },
     "execution_count": 368,
     "metadata": {},
     "output_type": "execute_result"
    }
   ],
   "source": [
    "final_drop"
   ]
  },
  {
   "cell_type": "code",
   "execution_count": null,
   "metadata": {
    "collapsed": true
   },
   "outputs": [],
   "source": []
  },
  {
   "cell_type": "code",
   "execution_count": null,
   "metadata": {
    "collapsed": true
   },
   "outputs": [],
   "source": [
    "# Create new dataframe with only desired columns, or overwrite existing\n",
    "X_new = X.iloc[:,idxs_selected]"
   ]
  },
  {
   "cell_type": "code",
   "execution_count": 239,
   "metadata": {
    "collapsed": false
   },
   "outputs": [],
   "source": [
    "from sklearn.feature_selection import SelectFromModel\n",
    "lsvc = linear_model.LinearRegression().fit(X, y)\n",
    "model = SelectFromModel(lsvc, prefit=True)\n",
    "idxs_selected = model.get_support(indices=True)\n",
    "# Create new dataframe with only desired columns, or overwrite existing\n",
    "X_new = X.iloc[:,idxs_selected]"
   ]
  },
  {
   "cell_type": "code",
   "execution_count": 214,
   "metadata": {
    "collapsed": false
   },
   "outputs": [],
   "source": [
    "X_test = X_new.drop(['Real GDP by state', 'Population (persons) ', \n",
    "                     'Employer contributions for government social insurance', 'Total employment',\n",
    "                    'Employee and self-employed contributions for government social insurance'],axis=1)"
   ]
  },
  {
   "cell_type": "code",
   "execution_count": 246,
   "metadata": {
    "collapsed": false
   },
   "outputs": [],
   "source": [
    "X_test = X_new.drop([\"Equals: Farm proprietors' income\"], axis=1)"
   ]
  },
  {
   "cell_type": "code",
   "execution_count": 247,
   "metadata": {
    "collapsed": false
   },
   "outputs": [
    {
     "data": {
      "text/plain": [
       "0.7693142849910656"
      ]
     },
     "execution_count": 247,
     "metadata": {},
     "output_type": "execute_result"
    }
   ],
   "source": [
    "lm = linear_model.LinearRegression()\n",
    "lm.fit(X_test, y)\n",
    "lm.score(X_test,y)"
   ]
  },
  {
   "cell_type": "code",
   "execution_count": 198,
   "metadata": {
    "collapsed": false
   },
   "outputs": [],
   "source": [
    "X_new = X_new.drop(['Imputed interest receipts ', 'Nonfarm proprietors employment', 'Proprietors employment',\n",
    "                    'Wage and salary employment', 'Total employment (number of jobs)', \n",
    "                    'Income taxes (net of refunds) '], axis=1)"
   ]
  },
  {
   "cell_type": "code",
   "execution_count": 248,
   "metadata": {
    "collapsed": false
   },
   "outputs": [
    {
     "data": {
      "text/html": [
       "<table class=\"simpletable\">\n",
       "<caption>OLS Regression Results</caption>\n",
       "<tr>\n",
       "  <th>Dep. Variable:</th>     <td>open_establish</td>  <th>  R-squared:         </th> <td>   0.849</td>\n",
       "</tr>\n",
       "<tr>\n",
       "  <th>Model:</th>                   <td>OLS</td>       <th>  Adj. R-squared:    </th> <td>   0.848</td>\n",
       "</tr>\n",
       "<tr>\n",
       "  <th>Method:</th>             <td>Least Squares</td>  <th>  F-statistic:       </th> <td>   896.6</td>\n",
       "</tr>\n",
       "<tr>\n",
       "  <th>Date:</th>             <td>Sun, 18 Nov 2018</td> <th>  Prob (F-statistic):</th>  <td>  0.00</td> \n",
       "</tr>\n",
       "<tr>\n",
       "  <th>Time:</th>                 <td>00:10:11</td>     <th>  Log-Likelihood:    </th> <td>  1341.5</td>\n",
       "</tr>\n",
       "<tr>\n",
       "  <th>No. Observations:</th>      <td>   966</td>      <th>  AIC:               </th> <td>  -2671.</td>\n",
       "</tr>\n",
       "<tr>\n",
       "  <th>Df Residuals:</th>          <td>   960</td>      <th>  BIC:               </th> <td>  -2642.</td>\n",
       "</tr>\n",
       "<tr>\n",
       "  <th>Df Model:</th>              <td>     6</td>      <th>                     </th>     <td> </td>   \n",
       "</tr>\n",
       "<tr>\n",
       "  <th>Covariance Type:</th>      <td>nonrobust</td>    <th>                     </th>     <td> </td>   \n",
       "</tr>\n",
       "</table>\n",
       "<table class=\"simpletable\">\n",
       "<tr>\n",
       "                        <td></td>                          <th>coef</th>     <th>std err</th>      <th>t</th>      <th>P>|t|</th>  <th>[0.025</th>    <th>0.975]</th>  \n",
       "</tr>\n",
       "<tr>\n",
       "  <th>Farm proprietors' income</th>                     <td>    1.5735</td> <td>    0.384</td> <td>    4.093</td> <td> 0.000</td> <td>    0.819</td> <td>    2.328</td>\n",
       "</tr>\n",
       "<tr>\n",
       "  <th>Nonfarm proprietors' income</th>                  <td>    0.4935</td> <td>    0.022</td> <td>   22.731</td> <td> 0.000</td> <td>    0.451</td> <td>    0.536</td>\n",
       "</tr>\n",
       "<tr>\n",
       "  <th>Less: Net income of corporate farms</th>          <td>    2.1004</td> <td>    0.564</td> <td>    3.723</td> <td> 0.000</td> <td>    0.993</td> <td>    3.208</td>\n",
       "</tr>\n",
       "<tr>\n",
       "  <th>Plus: Farm wages and salaries</th>                <td>   -1.0773</td> <td>    0.625</td> <td>   -1.724</td> <td> 0.085</td> <td>   -2.303</td> <td>    0.149</td>\n",
       "</tr>\n",
       "<tr>\n",
       "  <th>Equals: Farm earnings</th>                        <td>    4.2640</td> <td>    1.810</td> <td>    2.356</td> <td> 0.019</td> <td>    0.712</td> <td>    7.816</td>\n",
       "</tr>\n",
       "<tr>\n",
       "  <th>Equals: Farm proprietors' income</th>             <td>    1.5735</td> <td>    0.384</td> <td>    4.093</td> <td> 0.000</td> <td>    0.819</td> <td>    2.328</td>\n",
       "</tr>\n",
       "<tr>\n",
       "  <th>Equals: Net income including corporate farms</th> <td>   -7.6382</td> <td>    2.369</td> <td>   -3.224</td> <td> 0.001</td> <td>  -12.287</td> <td>   -2.989</td>\n",
       "</tr>\n",
       "</table>\n",
       "<table class=\"simpletable\">\n",
       "<tr>\n",
       "  <th>Omnibus:</th>       <td>416.651</td> <th>  Durbin-Watson:     </th> <td>   1.588</td>\n",
       "</tr>\n",
       "<tr>\n",
       "  <th>Prob(Omnibus):</th> <td> 0.000</td>  <th>  Jarque-Bera (JB):  </th> <td>3727.875</td>\n",
       "</tr>\n",
       "<tr>\n",
       "  <th>Skew:</th>          <td> 1.738</td>  <th>  Prob(JB):          </th> <td>    0.00</td>\n",
       "</tr>\n",
       "<tr>\n",
       "  <th>Kurtosis:</th>      <td>11.975</td>  <th>  Cond. No.          </th> <td>1.81e+16</td>\n",
       "</tr>\n",
       "</table><br/><br/>Warnings:<br/>[1] Standard Errors assume that the covariance matrix of the errors is correctly specified.<br/>[2] The smallest eigenvalue is 3.73e-31. This might indicate that there are<br/>strong multicollinearity problems or that the design matrix is singular."
      ],
      "text/plain": [
       "<class 'statsmodels.iolib.summary.Summary'>\n",
       "\"\"\"\n",
       "                            OLS Regression Results                            \n",
       "==============================================================================\n",
       "Dep. Variable:         open_establish   R-squared:                       0.849\n",
       "Model:                            OLS   Adj. R-squared:                  0.848\n",
       "Method:                 Least Squares   F-statistic:                     896.6\n",
       "Date:                Sun, 18 Nov 2018   Prob (F-statistic):               0.00\n",
       "Time:                        00:10:11   Log-Likelihood:                 1341.5\n",
       "No. Observations:                 966   AIC:                            -2671.\n",
       "Df Residuals:                     960   BIC:                            -2642.\n",
       "Df Model:                           6                                         \n",
       "Covariance Type:            nonrobust                                         \n",
       "================================================================================================================\n",
       "                                                   coef    std err          t      P>|t|      [0.025      0.975]\n",
       "----------------------------------------------------------------------------------------------------------------\n",
       "Farm proprietors' income                         1.5735      0.384      4.093      0.000       0.819       2.328\n",
       "Nonfarm proprietors' income                      0.4935      0.022     22.731      0.000       0.451       0.536\n",
       "Less: Net income of corporate farms              2.1004      0.564      3.723      0.000       0.993       3.208\n",
       "Plus: Farm wages and salaries                   -1.0773      0.625     -1.724      0.085      -2.303       0.149\n",
       "Equals: Farm earnings                            4.2640      1.810      2.356      0.019       0.712       7.816\n",
       "Equals: Farm proprietors' income                 1.5735      0.384      4.093      0.000       0.819       2.328\n",
       "Equals: Net income including corporate farms    -7.6382      2.369     -3.224      0.001     -12.287      -2.989\n",
       "==============================================================================\n",
       "Omnibus:                      416.651   Durbin-Watson:                   1.588\n",
       "Prob(Omnibus):                  0.000   Jarque-Bera (JB):             3727.875\n",
       "Skew:                           1.738   Prob(JB):                         0.00\n",
       "Kurtosis:                      11.975   Cond. No.                     1.81e+16\n",
       "==============================================================================\n",
       "\n",
       "Warnings:\n",
       "[1] Standard Errors assume that the covariance matrix of the errors is correctly specified.\n",
       "[2] The smallest eigenvalue is 3.73e-31. This might indicate that there are\n",
       "strong multicollinearity problems or that the design matrix is singular.\n",
       "\"\"\""
      ]
     },
     "execution_count": 248,
     "metadata": {},
     "output_type": "execute_result"
    }
   ],
   "source": [
    "model = sm.OLS(y, X_new).fit()\n",
    "predictions = model.predict(X_new) # make the predictions by the model\n",
    "\n",
    "# Print out the statistics\n",
    "model.summary()"
   ]
  },
  {
   "cell_type": "markdown",
   "metadata": {},
   "source": [
    "## Running General Regression"
   ]
  },
  {
   "cell_type": "code",
   "execution_count": null,
   "metadata": {
    "collapsed": false
   },
   "outputs": [],
   "source": [
    "# normalizing the dataset\n",
    "min_max_scaler = preprocessing.MinMaxScaler()\n",
    "np_scaled = min_max_scaler.fit_transform(X)\n",
    "X_normalized = pd.DataFrame(np_scaled)\n",
    "X_normalized.head()"
   ]
  },
  {
   "cell_type": "code",
   "execution_count": null,
   "metadata": {
    "collapsed": true
   },
   "outputs": [],
   "source": [
    "#using sklearn instead of stats models\n",
    "lm = linear_model.LinearRegression()\n",
    "model = lm.fit(X,Y)"
   ]
  },
  {
   "cell_type": "code",
   "execution_count": null,
   "metadata": {
    "collapsed": false
   },
   "outputs": [],
   "source": [
    "predictions = lm.predict(X)\n",
    "#print(predictions)[0:5]"
   ]
  },
  {
   "cell_type": "code",
   "execution_count": null,
   "metadata": {
    "collapsed": false
   },
   "outputs": [],
   "source": [
    "lm.score(X,Y)"
   ]
  },
  {
   "cell_type": "code",
   "execution_count": null,
   "metadata": {
    "collapsed": false
   },
   "outputs": [],
   "source": [
    "lm.coef_"
   ]
  },
  {
   "cell_type": "markdown",
   "metadata": {},
   "source": [
    "### What if we use open stablish?"
   ]
  },
  {
   "cell_type": "code",
   "execution_count": null,
   "metadata": {
    "collapsed": true
   },
   "outputs": [],
   "source": [
    "Y = data['open_establish']\n",
    "X = data.drop(['open_establish', 'state', 'GeoName', 'year', 'Compensation of employees',\n",
    "              'Gross operating surplus', 'Subsidies', 'Taxes on production and imports', \n",
    "               'Taxes on production and imports less subsidies', 'Value of inventory change', \n",
    "               'Unemployment compensation for railroad employees', 'Other assistance to veterans 1',\n",
    "               'Corn', 'Oats', 'Other grains', 'Soybeans', 'Forest and maple products', 'Fruits and nuts',\n",
    "               'Total grains', 'Plus: Statistical adjustment', 'Plus: Value of inventory change',\n",
    "               'Value of inventory change: crops', 'Value of inventory change: livestock', \n",
    "               'Value of inventory change: materials and supplies'\n",
    "              ], axis=1)"
   ]
  },
  {
   "cell_type": "code",
   "execution_count": null,
   "metadata": {
    "collapsed": true
   },
   "outputs": [],
   "source": [
    "# inout issues with compensations of employees, gross operating surplus, subsidies, taxes on production/less subsidies\n",
    "X = X.iloc[:, 0:20]"
   ]
  },
  {
   "cell_type": "code",
   "execution_count": null,
   "metadata": {
    "collapsed": false
   },
   "outputs": [],
   "source": [
    "# normalizing the dataset\n",
    "min_max_scaler = preprocessing.MinMaxScaler()\n",
    "np_scaled = min_max_scaler.fit_transform(X)\n",
    "X_normalized = pd.DataFrame(np_scaled)\n",
    "X_normalized.head()"
   ]
  },
  {
   "cell_type": "code",
   "execution_count": null,
   "metadata": {
    "collapsed": false
   },
   "outputs": [],
   "source": [
    "model = sm.OLS(Y, X).fit()\n",
    "predictions = model.predict(X) # make the predictions by the model\n",
    "\n",
    "# Print out the statistics\n",
    "model.summary()"
   ]
  },
  {
   "cell_type": "code",
   "execution_count": null,
   "metadata": {
    "collapsed": true
   },
   "outputs": [],
   "source": []
  }
 ],
 "metadata": {
  "kernelspec": {
   "display_name": "Python 3",
   "language": "python",
   "name": "python3"
  },
  "language_info": {
   "codemirror_mode": {
    "name": "ipython",
    "version": 3
   },
   "file_extension": ".py",
   "mimetype": "text/x-python",
   "name": "python",
   "nbconvert_exporter": "python",
   "pygments_lexer": "ipython3",
   "version": "3.5.4"
  }
 },
 "nbformat": 4,
 "nbformat_minor": 0
}
