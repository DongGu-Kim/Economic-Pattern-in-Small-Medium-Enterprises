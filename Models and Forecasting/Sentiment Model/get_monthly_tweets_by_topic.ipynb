{
 "cells": [
  {
   "cell_type": "markdown",
   "metadata": {},
   "source": [
    "# Get old tweets\n",
    "\n",
    "* There is a python package, \"got\", which can be cloned from the link below.\n",
    "* Link: https://github.com/Jefferson-Henrique/GetOldTweets-python\n",
    "* Clone the repo and locate folder named got(for Python2) or got3(for Python3).\n",
    "* It is useful for getting tweets more than 6 months.\n",
    "* It's directly scraping from twitter web.\n",
    "* As more recent tweets are located on the top of olders ones, it's scraping from the end of month to beginning of the month.\n",
    "* If you want to scrape tweets over month, you will need to split range of time into smaller pieces and implement following function."
   ]
  },
  {
   "cell_type": "code",
   "execution_count": 1,
   "metadata": {},
   "outputs": [],
   "source": [
    "import got3\n",
    "import pandas as pd"
   ]
  },
  {
   "cell_type": "markdown",
   "metadata": {},
   "source": [
    "**List of timesplits**"
   ]
  },
  {
   "cell_type": "code",
   "execution_count": 2,
   "metadata": {},
   "outputs": [],
   "source": [
    "list_of_time_tuples = [(\"-01-01\", \"-01-31\"),(\"-02-01\", \"-02-28\"),(\"-03-01\", \"-03-31\"),(\"-04-01\", \"-04-30\"),\n",
    "                       (\"-05-01\", \"-05-31\"),(\"-06-01\", \"-06-30\"),(\"-07-01\", \"-07-31\"),(\"-08-01\", \"-08-31\"),\n",
    "                       (\"-09-01\", \"-09-30\"),(\"-10-01\", \"-10-31\"),(\"-11-01\", \"-11-30\"),(\"-12-01\", \"-12-31\")]"
   ]
  },
  {
   "cell_type": "markdown",
   "metadata": {},
   "source": [
    "**Function scraping tweets**\n",
    "* Input: key_word for query, year for search, max_tweets, list_of_time_tuples\n",
    "* Output: dataframe of scraped tweets with columns, [\"year\", \"date\", \"id\", \"username\", \"text\"]"
   ]
  },
  {
   "cell_type": "code",
   "execution_count": 3,
   "metadata": {},
   "outputs": [],
   "source": [
    "def get_monthly_tweets(key_word, year, max_tweets, list_of_time_tuples):\n",
    "    tweets_df = pd.DataFrame()\n",
    "    for split in list_of_time_tuples:\n",
    "        since = str(year) + split[0]\n",
    "        until = str(year) + split[1]\n",
    "        tweetCriteria = got3.manager.TweetCriteria().setQuerySearch(key_word)\\\n",
    "                .setSince(since).setUntil(until).setMaxTweets(max_tweets)\n",
    "        tweets = got3.manager.TweetManager.getTweets(tweetCriteria)\n",
    "        for tweet in tweets:\n",
    "            temp = {\"year\": year, \"date\": tweet.date,\"id\": tweet.id,\"username\": tweet.username,\"text\": tweet.text}\n",
    "            tweets_df = tweets_df.append(temp, ignore_index=True)\n",
    "        print(\"Collected tweets from month %s.\" % split[0].split(\"-\")[1])\n",
    "    return tweets_df"
   ]
  },
  {
   "cell_type": "markdown",
   "metadata": {},
   "source": [
    "## Example: Texas GDP"
   ]
  },
  {
   "cell_type": "code",
   "execution_count": 4,
   "metadata": {},
   "outputs": [
    {
     "name": "stdout",
     "output_type": "stream",
     "text": [
      "Collected tweets from month 01.\n",
      "Collected tweets from month 02.\n",
      "Collected tweets from month 03.\n",
      "Collected tweets from month 04.\n",
      "Collected tweets from month 05.\n",
      "Collected tweets from month 06.\n",
      "Collected tweets from month 07.\n",
      "Collected tweets from month 08.\n",
      "Collected tweets from month 09.\n",
      "Collected tweets from month 10.\n",
      "Collected tweets from month 11.\n",
      "Collected tweets from month 12.\n"
     ]
    }
   ],
   "source": [
    "texas_2015 = get_monthly_tweets(\"Texas GDP\", year=2015, max_tweets=1000, list_of_time_tuples=list_of_time_tuples)"
   ]
  },
  {
   "cell_type": "code",
   "execution_count": 10,
   "metadata": {},
   "outputs": [
    {
     "data": {
      "text/html": [
       "<div>\n",
       "<style scoped>\n",
       "    .dataframe tbody tr th:only-of-type {\n",
       "        vertical-align: middle;\n",
       "    }\n",
       "\n",
       "    .dataframe tbody tr th {\n",
       "        vertical-align: top;\n",
       "    }\n",
       "\n",
       "    .dataframe thead th {\n",
       "        text-align: right;\n",
       "    }\n",
       "</style>\n",
       "<table border=\"1\" class=\"dataframe\">\n",
       "  <thead>\n",
       "    <tr style=\"text-align: right;\">\n",
       "      <th></th>\n",
       "      <th>date</th>\n",
       "      <th>id</th>\n",
       "      <th>text</th>\n",
       "      <th>username</th>\n",
       "      <th>year</th>\n",
       "    </tr>\n",
       "  </thead>\n",
       "  <tbody>\n",
       "    <tr>\n",
       "      <th>11207</th>\n",
       "      <td>2015-12-23 11:30:56</td>\n",
       "      <td>679700729938984960</td>\n",
       "      <td>Did you know that if #Texas was its own countr...</td>\n",
       "      <td></td>\n",
       "      <td>2015.0</td>\n",
       "    </tr>\n",
       "    <tr>\n",
       "      <th>4947</th>\n",
       "      <td>2015-05-28 15:27:53</td>\n",
       "      <td>604006197100863488</td>\n",
       "      <td>CleanTX &amp; @ATI_UT Issue Economic Impact Report...</td>\n",
       "      <td></td>\n",
       "      <td>2015.0</td>\n",
       "    </tr>\n",
       "    <tr>\n",
       "      <th>7417</th>\n",
       "      <td>2015-08-20 03:43:30</td>\n",
       "      <td>634269510833471488</td>\n",
       "      <td>\"Removing undocumented workers would wipe out ...</td>\n",
       "      <td></td>\n",
       "      <td>2015.0</td>\n",
       "    </tr>\n",
       "    <tr>\n",
       "      <th>575</th>\n",
       "      <td>2015-01-24 02:18:26</td>\n",
       "      <td>558886528324493312</td>\n",
       "      <td>$ TXN :US Trading Radar: FOMC Meeting And US G...</td>\n",
       "      <td></td>\n",
       "      <td>2015.0</td>\n",
       "    </tr>\n",
       "    <tr>\n",
       "      <th>11414</th>\n",
       "      <td>2015-12-19 23:17:27</td>\n",
       "      <td>678428977841704961</td>\n",
       "      <td>Canada's GDP = GDP of State of Texas http:// w...</td>\n",
       "      <td></td>\n",
       "      <td>2015.0</td>\n",
       "    </tr>\n",
       "    <tr>\n",
       "      <th>1773</th>\n",
       "      <td>2015-02-09 19:55:13</td>\n",
       "      <td>564950681501855744</td>\n",
       "      <td>@petercnorton the other issue is with gdp of T...</td>\n",
       "      <td></td>\n",
       "      <td>2015.0</td>\n",
       "    </tr>\n",
       "    <tr>\n",
       "      <th>3136</th>\n",
       "      <td>2015-04-15 14:41:58</td>\n",
       "      <td>588411959785041920</td>\n",
       "      <td>North Texas grows by one person every 5 minute...</td>\n",
       "      <td></td>\n",
       "      <td>2015.0</td>\n",
       "    </tr>\n",
       "    <tr>\n",
       "      <th>6537</th>\n",
       "      <td>2015-07-20 17:00:18</td>\n",
       "      <td>623236011292659712</td>\n",
       "      <td>#Texas has a higher GDP than Spain, Korea and ...</td>\n",
       "      <td></td>\n",
       "      <td>2015.0</td>\n",
       "    </tr>\n",
       "    <tr>\n",
       "      <th>3433</th>\n",
       "      <td>2015-04-17 14:15:34</td>\n",
       "      <td>589130093538119680</td>\n",
       "      <td>Hey MSNBC, Gov Perry was the commander in chie...</td>\n",
       "      <td></td>\n",
       "      <td>2015.0</td>\n",
       "    </tr>\n",
       "    <tr>\n",
       "      <th>6863</th>\n",
       "      <td>2015-07-28 16:01:31</td>\n",
       "      <td>626120319636365312</td>\n",
       "      <td>@scottlincicome Texas GDP running above 5%. Ch...</td>\n",
       "      <td></td>\n",
       "      <td>2015.0</td>\n",
       "    </tr>\n",
       "  </tbody>\n",
       "</table>\n",
       "</div>"
      ],
      "text/plain": [
       "                     date                  id  \\\n",
       "11207 2015-12-23 11:30:56  679700729938984960   \n",
       "4947  2015-05-28 15:27:53  604006197100863488   \n",
       "7417  2015-08-20 03:43:30  634269510833471488   \n",
       "575   2015-01-24 02:18:26  558886528324493312   \n",
       "11414 2015-12-19 23:17:27  678428977841704961   \n",
       "1773  2015-02-09 19:55:13  564950681501855744   \n",
       "3136  2015-04-15 14:41:58  588411959785041920   \n",
       "6537  2015-07-20 17:00:18  623236011292659712   \n",
       "3433  2015-04-17 14:15:34  589130093538119680   \n",
       "6863  2015-07-28 16:01:31  626120319636365312   \n",
       "\n",
       "                                                    text username    year  \n",
       "11207  Did you know that if #Texas was its own countr...           2015.0  \n",
       "4947   CleanTX & @ATI_UT Issue Economic Impact Report...           2015.0  \n",
       "7417   \"Removing undocumented workers would wipe out ...           2015.0  \n",
       "575    $ TXN :US Trading Radar: FOMC Meeting And US G...           2015.0  \n",
       "11414  Canada's GDP = GDP of State of Texas http:// w...           2015.0  \n",
       "1773   @petercnorton the other issue is with gdp of T...           2015.0  \n",
       "3136   North Texas grows by one person every 5 minute...           2015.0  \n",
       "6537   #Texas has a higher GDP than Spain, Korea and ...           2015.0  \n",
       "3433   Hey MSNBC, Gov Perry was the commander in chie...           2015.0  \n",
       "6863   @scottlincicome Texas GDP running above 5%. Ch...           2015.0  "
      ]
     },
     "execution_count": 10,
     "metadata": {},
     "output_type": "execute_result"
    }
   ],
   "source": [
    "texas_2015.sample(10)"
   ]
  }
 ],
 "metadata": {
  "kernelspec": {
   "display_name": "Python 3",
   "language": "python",
   "name": "python3"
  },
  "language_info": {
   "codemirror_mode": {
    "name": "ipython",
    "version": 3
   },
   "file_extension": ".py",
   "mimetype": "text/x-python",
   "name": "python",
   "nbconvert_exporter": "python",
   "pygments_lexer": "ipython3",
   "version": "3.6.5"
  }
 },
 "nbformat": 4,
 "nbformat_minor": 2
}
