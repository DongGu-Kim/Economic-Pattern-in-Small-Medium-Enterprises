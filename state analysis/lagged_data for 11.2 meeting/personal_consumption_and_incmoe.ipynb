{
 "cells": [
  {
   "cell_type": "code",
   "execution_count": 200,
   "metadata": {
    "collapsed": true
   },
   "outputs": [],
   "source": [
    "import pandas as pd\n",
    "import os\n",
    "import numpy as np\n",
    "import re"
   ]
  },
  {
   "cell_type": "code",
   "execution_count": 205,
   "metadata": {
    "collapsed": true
   },
   "outputs": [],
   "source": [
    "pc=pd.read_csv('C:/Users/ttodd/OneDrive/Desktop/capstone/final data/PCE_ALL_AREAS.csv')"
   ]
  },
  {
   "cell_type": "code",
   "execution_count": 206,
   "metadata": {
    "collapsed": true
   },
   "outputs": [],
   "source": [
    "state_list=[\"Alabama\",\"Alaska\",\"Arizona\",\"Arkansas\",\"California\",\"Colorado\",\n",
    "  \"Connecticut\",\"Delaware\",'District of Columbia',\"Florida\",\"Georgia\",\"Hawaii\",\"Idaho\",\"Illinois\",\n",
    "  \"Indiana\",\"Iowa\",\"Kansas\",\"Kentucky\",\"Louisiana\",\"Maine\",\"Maryland\",\n",
    "  \"Massachusetts\",\"Michigan\",\"Minnesota\",\"Mississippi\",\"Missouri\",\"Montana\",\n",
    "  \"Nebraska\",\"Nevada\",\"New Hampshire\",\"New Jersey\",\"New Mexico\",\"New York\",\n",
    "  \"North Carolina\",\"North Dakota\",\"Ohio\",\"Oklahoma\",\"Oregon\",\"Pennsylvania\",\n",
    "  \"Rhode Island\",\"South Carolina\",\"South Dakota\",\"Tennessee\",\"Texas\",\"Utah\",\n",
    "  \"Vermont\",\"Virginia\",\"Washington\",\"West Virginia\",\"Wisconsin\",\"Wyoming\"]\n",
    "pc=pc.loc[pc['GeoName'].isin(state_list),:]\n",
    "pc_percap=pd.read_csv('C:/Users/ttodd/OneDrive/Desktop/capstone/final data/PCPCE_ALL_AREAS.csv')\n",
    "pc_percap=pc_percap.loc[pc_percap['GeoName'].isin(state_list),:]\n"
   ]
  },
  {
   "cell_type": "code",
   "execution_count": 207,
   "metadata": {
    "collapsed": true
   },
   "outputs": [],
   "source": [
    "pc_2016=pc.loc[:,['GeoName','Description','2011','2012']]\n",
    "pc_2016['lagged']=pc_2016['2012']-pc_2016['2011']\n",
    "pc_2016=pc_2016.loc[:,['GeoName','Description','lagged']]\n",
    "pc_2016_cleaned=pc_2016.pivot(index='GeoName', columns='Description', values='lagged').reset_index().rename_axis(None, axis=1)\n",
    "\n",
    "pc_2016_cleaned.to_csv('./pc_lagged_2016.csv')"
   ]
  },
  {
   "cell_type": "code",
   "execution_count": 219,
   "metadata": {},
   "outputs": [
    {
     "data": {
      "text/plain": [
       "Index(['GeoName', '   Clothing and footwear',\n",
       "       '   Food and beverages purchased for off-premises consumption',\n",
       "       '   Furnishings and durable household equipment',\n",
       "       '   Gasoline and other energy goods', '   Motor vehicles and parts',\n",
       "       '   Other durable goods', '   Other nondurable goods',\n",
       "       '   Recreational goods and vehicles', '  Durable goods',\n",
       "       '  Financial services and insurance',\n",
       "       '  Food services and accommodations', '  Health care',\n",
       "       '  Household consumption expenditures (for services)',\n",
       "       '  Housing and utilities', '  Nondurable goods', '  Other services',\n",
       "       '  Recreation services', '  Transportation services',\n",
       "       ' Final consumption expenditures of nonprofit institutions serving households (NPISHs)',\n",
       "       ' Goods', ' Gross output of nonprofit institutions',\n",
       "       ' Less: Receipts from sales of goods and services by nonprofit institutions',\n",
       "       ' Services', 'Personal consumption expenditures'],\n",
       "      dtype='object')"
      ]
     },
     "execution_count": 219,
     "metadata": {},
     "output_type": "execute_result"
    }
   ],
   "source": [
    "pc_2016_cleaned.columns"
   ]
  },
  {
   "cell_type": "code",
   "execution_count": 202,
   "metadata": {
    "collapsed": true
   },
   "outputs": [],
   "source": [
    "#clean personal income data "
   ]
  },
  {
   "cell_type": "code",
   "execution_count": 9,
   "metadata": {
    "collapsed": true
   },
   "outputs": [],
   "source": [
    "variable_list=[]\n",
    "data_list=['SA1_1929_2017.csv','SA51_1948_2017.csv']\n",
    "data_path='C:/Users/ttodd/OneDrive/Desktop/capstone/personal_income/spi0318/'\n",
    "for i in os.listdir(data_path):\n",
    "    if i.endswith('ALL_AREAS.csv'):\n",
    "        data_list.append(i)"
   ]
  },
  {
   "cell_type": "code",
   "execution_count": 10,
   "metadata": {},
   "outputs": [
    {
     "data": {
      "text/plain": [
       "['SA1_1929_2017.csv',\n",
       " 'SA51_1948_2017.csv',\n",
       " 'SA25N_1998_2016__ALL_AREAS.csv',\n",
       " 'SA25_1969_2001__ALL_AREAS.csv',\n",
       " 'SA27N_1998_2016__ALL_AREAS.csv',\n",
       " 'SA27_1969_2001__ALL_AREAS.csv',\n",
       " 'SA30_1958_2016__ALL_AREAS.csv',\n",
       " 'SA35_1929_2016__ALL_AREAS.csv',\n",
       " 'SA40_1958_2016__ALL_AREAS.csv',\n",
       " 'SA45_1969_2016__ALL_AREAS.csv',\n",
       " 'SA4_1929_2017__ALL_AREAS.csv',\n",
       " 'SA50_1948_2016__ALL_AREAS.csv',\n",
       " 'SA5H_1929_1957__ALL_AREAS.csv',\n",
       " 'SA5N_1998_2017__ALL_AREAS.csv',\n",
       " 'SA5_1958_2001__ALL_AREAS.csv',\n",
       " 'SA6N_1998_2017__ALL_AREAS.csv',\n",
       " 'SA6_1958_2001__ALL_AREAS.csv',\n",
       " 'SA7H_1929_1957__ALL_AREAS.csv',\n",
       " 'SA7N_1998_2017__ALL_AREAS.csv',\n",
       " 'SA7_1958_2001__ALL_AREAS.csv']"
      ]
     },
     "execution_count": 10,
     "metadata": {},
     "output_type": "execute_result"
    }
   ],
   "source": []
  },
  {
   "cell_type": "code",
   "execution_count": 225,
   "metadata": {},
   "outputs": [
    {
     "name": "stdout",
     "output_type": "stream",
     "text": [
      "[]\n",
      "[]\n",
      "[]\n",
      "[]\n",
      "[]\n",
      "[]\n",
      "[]\n",
      "[]\n",
      "[]\n",
      "['    Motor vehicle licenses', '    Income taxes']\n",
      "[]\n",
      "[]\n",
      "[]\n"
     ]
    }
   ],
   "source": [
    "final_result=pd.DataFrame({'state':state_list})\n",
    "lagged_year_list=['2011','2012']\n",
    "for i in data_list:\n",
    "    temp_data=pd.read_csv(data_path+i)\n",
    "    temp_data_column=temp_data.columns\n",
    "    temp_data_column=list(temp_data_column)\n",
    "    final_column_part1=['GeoName','Description']\n",
    "    final_column_part2=temp_data_column[7:]\n",
    "    final_column_part2=[x for x in final_column_part2 if x>='1998' and x<='2016']\n",
    "    final_column=final_column_part1+final_column_part2\n",
    "    lag_column=final_column_part1+lagged_year_list\n",
    "    if len(final_column)==21:\n",
    "        temp_lag_data=temp_data.loc[:,lag_column]\n",
    "        temp_lag_data.loc[:,lagged_year_list]=temp_lag_data.loc[:,lagged_year_list].apply(pd.to_numeric,errors='coerce')\n",
    "        temp_lag_data['lagged']=temp_lag_data[lagged_year_list[1]]-temp_lag_data[lagged_year_list[0]]\n",
    "        temp_lag_data=temp_lag_data.loc[:,final_column_part1+['lagged']]\n",
    "        temp_lag_data=temp_lag_data.drop_duplicates()\n",
    "        temp_lag_data=temp_lag_data.dropna(subset=['GeoName','Description'])\n",
    "        temp_lag_data.replace(0,np.nan)\n",
    "        temp_lag_data.replace(0.0,np.nan)\n",
    "        temp_lag_data.dropna(thresh=2)\n",
    "        drop_column=temp_lag_data['Description'].value_counts()\n",
    "        drop_column=list(drop_column[drop_column!=60].index)\n",
    "        temp_lag_data=temp_lag_data.loc[~temp_lag_data['Description'].isin(drop_column),:]\n",
    "        print(drop_column)\n",
    "        temp_result=temp_lag_data.pivot(index='GeoName', columns='Description', \n",
    "                                        values='lagged').reset_index().rename_axis(None, axis=1)\n",
    "        temp_result['GeoName']=temp_result['GeoName'].str.replace('*','')\n",
    "        temp_result=temp_result.loc[temp_result['GeoName'].isin(state_list),:]\n",
    "        temp_column=temp_result.columns\n",
    "        \n",
    "        cleaned_column=[re.sub('([0-9]{1}\\/)|(^\\s+)','',x) for x in temp_column]\n",
    "        #if 'Personal income (thousands of dollars)' in cleaned_column:\n",
    "            #print(i)\n",
    "        #print(temp_data.loc[temp_data['Description']=='Personal income (thousands of dollars)',lagged_year_list])\n",
    "        temp_result.columns=cleaned_column\n",
    "        column_to_use=temp_result.columns.difference(final_result.columns)\n",
    "        final_result=pd.merge(final_result,temp_result[column_to_use],left_on=final_result.state,right_on=temp_result.GeoName,how='inner')\n",
    "        final_result=final_result.drop('GeoName',axis=1)\n",
    "final_result=final_result.T.drop_duplicates().T"
   ]
  },
  {
   "cell_type": "code",
   "execution_count": 214,
   "metadata": {
    "collapsed": true
   },
   "outputs": [],
   "source": [
    "final_result=pd.merge(final_result,pc_2016_cleaned,left_on=final_result.state,right_on=pc_2016_cleaned.GeoName,how='inner')\n",
    "final_result=final_result.drop('GeoName',axis=1)\n"
   ]
  },
  {
   "cell_type": "code",
   "execution_count": 216,
   "metadata": {},
   "outputs": [
    {
     "data": {
      "text/plain": [
       "(51, 290)"
      ]
     },
     "execution_count": 216,
     "metadata": {},
     "output_type": "execute_result"
    }
   ],
   "source": [
    "final_result"
   ]
  },
  {
   "cell_type": "code",
   "execution_count": 217,
   "metadata": {
    "collapsed": true
   },
   "outputs": [],
   "source": [
    "final_result.to_csv('final_data.csv',index=False)"
   ]
  },
  {
   "cell_type": "code",
   "execution_count": 210,
   "metadata": {
    "collapsed": true
   },
   "outputs": [],
   "source": [
    "final_result=final_result.T.drop_duplicates().T"
   ]
  },
  {
   "cell_type": "code",
   "execution_count": 211,
   "metadata": {},
   "outputs": [
    {
     "data": {
      "text/plain": [
       "(51, 710)"
      ]
     },
     "execution_count": 211,
     "metadata": {},
     "output_type": "execute_result"
    }
   ],
   "source": [
    "final_result.shape"
   ]
  },
  {
   "cell_type": "code",
   "execution_count": 212,
   "metadata": {},
   "outputs": [
    {
     "data": {
      "text/plain": [
       "Index(['state', 'Per capita personal income (dollars) _x',\n",
       "       'Personal income (thousands of dollars)_x', 'Population (persons) _x',\n",
       "       'Disposable personal income (thousands of dollars)',\n",
       "       'Per capita disposable personal income (dollars) _x',\n",
       "       'Apparel manufacturing_x',\n",
       "       'Beverage and tobacco product manufacturing_x',\n",
       "       'Chemical manufacturing_x',\n",
       "       'Computer and electronic product manufacturing_x',\n",
       "       ...\n",
       "       '  Nondurable goods', '  Other services', '  Recreation services',\n",
       "       '  Transportation services',\n",
       "       ' Final consumption expenditures of nonprofit institutions serving households (NPISHs)',\n",
       "       ' Goods', ' Gross output of nonprofit institutions',\n",
       "       ' Less: Receipts from sales of goods and services by nonprofit institutions',\n",
       "       ' Services', 'Personal consumption expenditures'],\n",
       "      dtype='object', length=710)"
      ]
     },
     "execution_count": 212,
     "metadata": {},
     "output_type": "execute_result"
    }
   ],
   "source": [
    "final_result.columns"
   ]
  },
  {
   "cell_type": "code",
   "execution_count": 203,
   "metadata": {
    "collapsed": true
   },
   "outputs": [],
   "source": [
    "#electricity data"
   ]
  },
  {
   "cell_type": "code",
   "execution_count": 174,
   "metadata": {
    "collapsed": true
   },
   "outputs": [],
   "source": [
    "elec=pd.read_csv('C:/Users/ttodd/OneDrive/Desktop/capstone/final data/Average_retail_price_of_electricity.csv',skiprows=4)\n",
    "#units is cents per killowatthour\n",
    "elec['GeoName'], elec['type'] = elec['description'].str.split(':', 1).str\n",
    "elec=elec.drop(['units','source key','description'],axis=1)\n",
    "elec=elec.dropna(subset=['type'])\n",
    "elec['GeoName']=elec['GeoName'].str.replace('\\s+$','')"
   ]
  },
  {
   "cell_type": "code",
   "execution_count": 175,
   "metadata": {
    "collapsed": true
   },
   "outputs": [],
   "source": [
    "elec_state_list=[\"Alabama\",\"Alaska\",\"Arizona\",\"Arkansas\",\"California\",\"Colorado\",\n",
    "  \"Connecticut\",\"Delaware\",'District Of Columbia',\"Florida\",\"Georgia\",\"Hawaii\",\"Idaho\",\"Illinois\",\n",
    "  \"Indiana\",\"Iowa\",\"Kansas\",\"Kentucky\",\"Louisiana\",\"Maine\",\"Maryland\",\n",
    "  \"Massachusetts\",\"Michigan\",\"Minnesota\",\"Mississippi\",\"Missouri\",\"Montana\",\n",
    "  \"Nebraska\",\"Nevada\",\"New Hampshire\",\"New Jersey\",\"New Mexico\",\"New York\",\n",
    "  \"North Carolina\",\"North Dakota\",\"Ohio\",\"Oklahoma\",\"Oregon\",\"Pennsylvania\",\n",
    "  \"Rhode Island\",\"South Carolina\",\"South Dakota\",\"Tennessee\",\"Texas\",\"Utah\",\n",
    "  \"Vermont\",\"Virginia\",\"Washington\",\"West Virginia\",\"Wisconsin\",\"Wyoming\"]\n",
    "\n",
    "elec=elec.loc[elec['GeoName'].isin(elec_state_list),:]"
   ]
  },
  {
   "cell_type": "code",
   "execution_count": null,
   "metadata": {},
   "outputs": [],
   "source": []
  }
 ],
 "metadata": {
  "kernelspec": {
   "display_name": "Python 3",
   "language": "python",
   "name": "python3"
  },
  "language_info": {
   "codemirror_mode": {
    "name": "ipython",
    "version": 3
   },
   "file_extension": ".py",
   "mimetype": "text/x-python",
   "name": "python",
   "nbconvert_exporter": "python",
   "pygments_lexer": "ipython3",
   "version": "3.6.3"
  }
 },
 "nbformat": 4,
 "nbformat_minor": 2
}
