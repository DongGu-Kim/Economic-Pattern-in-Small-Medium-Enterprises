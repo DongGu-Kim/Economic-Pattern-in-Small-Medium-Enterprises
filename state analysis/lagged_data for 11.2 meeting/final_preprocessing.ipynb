{
 "cells": [
  {
   "cell_type": "code",
   "execution_count": 1,
   "metadata": {
    "collapsed": true
   },
   "outputs": [],
   "source": [
    "import pandas as pd\n",
    "import os\n",
    "import re"
   ]
  },
  {
   "cell_type": "code",
   "execution_count": 12,
   "metadata": {
    "collapsed": true
   },
   "outputs": [],
   "source": [
    "gdp=pd.read_csv('gdp_final.csv')"
   ]
  },
  {
   "cell_type": "code",
   "execution_count": 13,
   "metadata": {},
   "outputs": [
    {
     "data": {
      "text/html": [
       "<div>\n",
       "<style>\n",
       "    .dataframe thead tr:only-child th {\n",
       "        text-align: right;\n",
       "    }\n",
       "\n",
       "    .dataframe thead th {\n",
       "        text-align: left;\n",
       "    }\n",
       "\n",
       "    .dataframe tbody tr th {\n",
       "        vertical-align: top;\n",
       "    }\n",
       "</style>\n",
       "<table border=\"1\" class=\"dataframe\">\n",
       "  <thead>\n",
       "    <tr style=\"text-align: right;\">\n",
       "      <th></th>\n",
       "      <th>GeoName</th>\n",
       "      <th>ComponentName</th>\n",
       "      <th>1997</th>\n",
       "      <th>1998</th>\n",
       "      <th>1999</th>\n",
       "      <th>2000</th>\n",
       "      <th>2001</th>\n",
       "      <th>2002</th>\n",
       "      <th>2003</th>\n",
       "      <th>2004</th>\n",
       "      <th>2005</th>\n",
       "      <th>2006</th>\n",
       "      <th>2007</th>\n",
       "      <th>2008</th>\n",
       "      <th>2009</th>\n",
       "      <th>2010</th>\n",
       "      <th>2011</th>\n",
       "      <th>2012</th>\n",
       "      <th>2013</th>\n",
       "      <th>2014</th>\n",
       "    </tr>\n",
       "  </thead>\n",
       "  <tbody>\n",
       "    <tr>\n",
       "      <th>0</th>\n",
       "      <td>Alabama</td>\n",
       "      <td>Gross domestic product (GDP) by state</td>\n",
       "      <td>104309.0</td>\n",
       "      <td>109776.0</td>\n",
       "      <td>115704.0</td>\n",
       "      <td>120428.0</td>\n",
       "      <td>124885.0</td>\n",
       "      <td>130180.0</td>\n",
       "      <td>136270.0</td>\n",
       "      <td>148769.0</td>\n",
       "      <td>157914.0</td>\n",
       "      <td>165131.0</td>\n",
       "      <td>170399.0</td>\n",
       "      <td>173521.0</td>\n",
       "      <td>169586.0</td>\n",
       "      <td>176221.0</td>\n",
       "      <td>181923.0</td>\n",
       "      <td>187283.0</td>\n",
       "      <td>191605.0</td>\n",
       "      <td>197535.0</td>\n",
       "    </tr>\n",
       "    <tr>\n",
       "      <th>1</th>\n",
       "      <td>Alaska</td>\n",
       "      <td>Gross domestic product (GDP) by state</td>\n",
       "      <td>25763.0</td>\n",
       "      <td>24067.0</td>\n",
       "      <td>24727.0</td>\n",
       "      <td>26932.0</td>\n",
       "      <td>28942.0</td>\n",
       "      <td>29808.0</td>\n",
       "      <td>32125.0</td>\n",
       "      <td>35510.0</td>\n",
       "      <td>40277.0</td>\n",
       "      <td>44867.0</td>\n",
       "      <td>49285.0</td>\n",
       "      <td>55436.0</td>\n",
       "      <td>50514.0</td>\n",
       "      <td>54220.0</td>\n",
       "      <td>59318.0</td>\n",
       "      <td>61614.0</td>\n",
       "      <td>59891.0</td>\n",
       "      <td>58067.0</td>\n",
       "    </tr>\n",
       "    <tr>\n",
       "      <th>2</th>\n",
       "      <td>Arizona</td>\n",
       "      <td>Gross domestic product (GDP) by state</td>\n",
       "      <td>132795.0</td>\n",
       "      <td>143542.0</td>\n",
       "      <td>156118.0</td>\n",
       "      <td>166108.0</td>\n",
       "      <td>172634.0</td>\n",
       "      <td>179892.0</td>\n",
       "      <td>192663.0</td>\n",
       "      <td>204659.0</td>\n",
       "      <td>227047.0</td>\n",
       "      <td>248075.0</td>\n",
       "      <td>262214.0</td>\n",
       "      <td>258978.0</td>\n",
       "      <td>243102.0</td>\n",
       "      <td>247333.0</td>\n",
       "      <td>255621.0</td>\n",
       "      <td>266131.0</td>\n",
       "      <td>271072.0</td>\n",
       "      <td>281559.0</td>\n",
       "    </tr>\n",
       "    <tr>\n",
       "      <th>3</th>\n",
       "      <td>Arkansas</td>\n",
       "      <td>Gross domestic product (GDP) by state</td>\n",
       "      <td>60248.0</td>\n",
       "      <td>62695.0</td>\n",
       "      <td>67087.0</td>\n",
       "      <td>69111.0</td>\n",
       "      <td>71128.0</td>\n",
       "      <td>74243.0</td>\n",
       "      <td>78882.0</td>\n",
       "      <td>85315.0</td>\n",
       "      <td>90112.0</td>\n",
       "      <td>95727.0</td>\n",
       "      <td>99210.0</td>\n",
       "      <td>102100.0</td>\n",
       "      <td>100098.0</td>\n",
       "      <td>104929.0</td>\n",
       "      <td>109378.0</td>\n",
       "      <td>111541.0</td>\n",
       "      <td>116651.0</td>\n",
       "      <td>121065.0</td>\n",
       "    </tr>\n",
       "    <tr>\n",
       "      <th>4</th>\n",
       "      <td>California</td>\n",
       "      <td>Gross domestic product (GDP) by state</td>\n",
       "      <td>1082051.0</td>\n",
       "      <td>1158822.0</td>\n",
       "      <td>1258697.0</td>\n",
       "      <td>1377014.0</td>\n",
       "      <td>1394863.0</td>\n",
       "      <td>1449536.0</td>\n",
       "      <td>1535202.0</td>\n",
       "      <td>1643908.0</td>\n",
       "      <td>1760508.0</td>\n",
       "      <td>1868969.0</td>\n",
       "      <td>1951997.0</td>\n",
       "      <td>1993589.0</td>\n",
       "      <td>1913674.0</td>\n",
       "      <td>1960935.0</td>\n",
       "      <td>2031348.0</td>\n",
       "      <td>2121602.0</td>\n",
       "      <td>2215232.0</td>\n",
       "      <td>2324995.0</td>\n",
       "    </tr>\n",
       "  </tbody>\n",
       "</table>\n",
       "</div>"
      ],
      "text/plain": [
       "      GeoName                          ComponentName       1997       1998  \\\n",
       "0     Alabama  Gross domestic product (GDP) by state   104309.0   109776.0   \n",
       "1      Alaska  Gross domestic product (GDP) by state    25763.0    24067.0   \n",
       "2     Arizona  Gross domestic product (GDP) by state   132795.0   143542.0   \n",
       "3    Arkansas  Gross domestic product (GDP) by state    60248.0    62695.0   \n",
       "4  California  Gross domestic product (GDP) by state  1082051.0  1158822.0   \n",
       "\n",
       "        1999       2000       2001       2002       2003       2004  \\\n",
       "0   115704.0   120428.0   124885.0   130180.0   136270.0   148769.0   \n",
       "1    24727.0    26932.0    28942.0    29808.0    32125.0    35510.0   \n",
       "2   156118.0   166108.0   172634.0   179892.0   192663.0   204659.0   \n",
       "3    67087.0    69111.0    71128.0    74243.0    78882.0    85315.0   \n",
       "4  1258697.0  1377014.0  1394863.0  1449536.0  1535202.0  1643908.0   \n",
       "\n",
       "        2005       2006       2007       2008       2009       2010  \\\n",
       "0   157914.0   165131.0   170399.0   173521.0   169586.0   176221.0   \n",
       "1    40277.0    44867.0    49285.0    55436.0    50514.0    54220.0   \n",
       "2   227047.0   248075.0   262214.0   258978.0   243102.0   247333.0   \n",
       "3    90112.0    95727.0    99210.0   102100.0   100098.0   104929.0   \n",
       "4  1760508.0  1868969.0  1951997.0  1993589.0  1913674.0  1960935.0   \n",
       "\n",
       "        2011       2012       2013       2014  \n",
       "0   181923.0   187283.0   191605.0   197535.0  \n",
       "1    59318.0    61614.0    59891.0    58067.0  \n",
       "2   255621.0   266131.0   271072.0   281559.0  \n",
       "3   109378.0   111541.0   116651.0   121065.0  \n",
       "4  2031348.0  2121602.0  2215232.0  2324995.0  "
      ]
     },
     "execution_count": 13,
     "metadata": {},
     "output_type": "execute_result"
    }
   ],
   "source": [
    "gdp.head(5)"
   ]
  },
  {
   "cell_type": "code",
   "execution_count": 21,
   "metadata": {
    "collapsed": true
   },
   "outputs": [],
   "source": [
    "gdp.head(2)\n",
    "gdp_2016=gdp.loc[:,['GeoName','ComponentName','2011','2012']]\n",
    "gdp_2016['lagged']=gdp_2016['2012']-gdp_2016['2011']\n",
    "gdp_2016=gdp_2016.loc[:,['GeoName','ComponentName','lagged']]\n",
    "gdp_2016_cleaned=gdp_2016.pivot(index='GeoName', columns='ComponentName', values='lagged').reset_index().rename_axis(None, axis=1)"
   ]
  },
  {
   "cell_type": "code",
   "execution_count": 17,
   "metadata": {
    "collapsed": true
   },
   "outputs": [],
   "source": [
    "output_dir='./dependent_variable_state_data_cleaned/'\n",
    "output_file_list=os.listdir(output_dir)"
   ]
  },
  {
   "cell_type": "code",
   "execution_count": 18,
   "metadata": {
    "collapsed": true
   },
   "outputs": [],
   "source": [
    "final_result=pd.DataFrame(columns=['state','net_change','total_expand','expand_establish',\n",
    "                     'open_establish','total_contract','contract_establish','end_establish'])\n",
    "year_list=[2011,2012]\n",
    "for i in output_file_list:\n",
    "    temp_state=re.sub('.txt','',i)\n",
    "    temp_df=pd.read_table(output_dir+i,sep='/',header=None)\n",
    "    temp_df.columns=['year','month','net_change','total_expand','expand_establish',\n",
    "                     'open_establish','total_contract','contract_establish','end_establish']\n",
    "    temp_df=temp_df.groupby('year').sum()\n",
    "    temp_df=temp_df.loc[year_list].shift(-1)-temp_df.loc[year_list]\n",
    "    temp_df=temp_df.dropna()\n",
    "    temp_df['state']=temp_state\n",
    "    final_result=final_result.append(temp_df)"
   ]
  },
  {
   "cell_type": "code",
   "execution_count": 23,
   "metadata": {
    "collapsed": true
   },
   "outputs": [],
   "source": [
    "final_y_gdp=pd.merge(final_result,gdp_2016_cleaned,left_on=final_result.state,right_on=gdp_2016_cleaned.GeoName,how='inner')"
   ]
  },
  {
   "cell_type": "code",
   "execution_count": 24,
   "metadata": {
    "collapsed": true
   },
   "outputs": [],
   "source": [
    "final_y_gdp.to_csv('final_y.csv',index=False)"
   ]
  },
  {
   "cell_type": "code",
   "execution_count": 28,
   "metadata": {},
   "outputs": [
    {
     "data": {
      "text/html": [
       "<div>\n",
       "<style>\n",
       "    .dataframe thead tr:only-child th {\n",
       "        text-align: right;\n",
       "    }\n",
       "\n",
       "    .dataframe thead th {\n",
       "        text-align: left;\n",
       "    }\n",
       "\n",
       "    .dataframe tbody tr th {\n",
       "        vertical-align: top;\n",
       "    }\n",
       "</style>\n",
       "<table border=\"1\" class=\"dataframe\">\n",
       "  <thead>\n",
       "    <tr style=\"text-align: right;\">\n",
       "      <th></th>\n",
       "      <th>contract_establish</th>\n",
       "      <th>end_establish</th>\n",
       "      <th>expand_establish</th>\n",
       "      <th>net_change</th>\n",
       "      <th>open_establish</th>\n",
       "      <th>state</th>\n",
       "      <th>total_contract</th>\n",
       "      <th>total_expand</th>\n",
       "      <th>GeoName</th>\n",
       "      <th>Compensation of employees</th>\n",
       "      <th>Gross domestic product (GDP) by state</th>\n",
       "      <th>Gross operating surplus</th>\n",
       "      <th>Per capita real GDP by state</th>\n",
       "      <th>Quantity indexes for real GDP by state</th>\n",
       "      <th>Real GDP by state</th>\n",
       "      <th>Subsidies</th>\n",
       "      <th>Taxes on production and imports</th>\n",
       "      <th>Taxes on production and imports less subsidies</th>\n",
       "    </tr>\n",
       "  </thead>\n",
       "  <tbody>\n",
       "    <tr>\n",
       "      <th>0</th>\n",
       "      <td>-24042.0</td>\n",
       "      <td>-8950.0</td>\n",
       "      <td>-4220.0</td>\n",
       "      <td>27294.0</td>\n",
       "      <td>-1478.0</td>\n",
       "      <td>Alabama</td>\n",
       "      <td>-32992.0</td>\n",
       "      <td>-5698.0</td>\n",
       "      <td>Alabama</td>\n",
       "      <td>1134.0</td>\n",
       "      <td>5360.0</td>\n",
       "      <td>4004.0</td>\n",
       "      <td>247.0</td>\n",
       "      <td>1.041</td>\n",
       "      <td>1765.0</td>\n",
       "      <td>11.0</td>\n",
       "      <td>211.0</td>\n",
       "      <td>222.0</td>\n",
       "    </tr>\n",
       "    <tr>\n",
       "      <th>1</th>\n",
       "      <td>1978.0</td>\n",
       "      <td>3104.0</td>\n",
       "      <td>3564.0</td>\n",
       "      <td>-1740.0</td>\n",
       "      <td>-222.0</td>\n",
       "      <td>Alaska</td>\n",
       "      <td>5082.0</td>\n",
       "      <td>3342.0</td>\n",
       "      <td>Alaska</td>\n",
       "      <td>1282.0</td>\n",
       "      <td>2296.0</td>\n",
       "      <td>818.0</td>\n",
       "      <td>3056.0</td>\n",
       "      <td>5.623</td>\n",
       "      <td>2840.0</td>\n",
       "      <td>6.0</td>\n",
       "      <td>189.0</td>\n",
       "      <td>195.0</td>\n",
       "    </tr>\n",
       "  </tbody>\n",
       "</table>\n",
       "</div>"
      ],
      "text/plain": [
       "   contract_establish  end_establish  expand_establish  net_change  \\\n",
       "0            -24042.0        -8950.0           -4220.0     27294.0   \n",
       "1              1978.0         3104.0            3564.0     -1740.0   \n",
       "\n",
       "   open_establish    state  total_contract  total_expand  GeoName  \\\n",
       "0         -1478.0  Alabama        -32992.0       -5698.0  Alabama   \n",
       "1          -222.0   Alaska          5082.0        3342.0   Alaska   \n",
       "\n",
       "   Compensation of employees  Gross domestic product (GDP) by state  \\\n",
       "0                     1134.0                                 5360.0   \n",
       "1                     1282.0                                 2296.0   \n",
       "\n",
       "   Gross operating surplus  Per capita real GDP by state  \\\n",
       "0                   4004.0                         247.0   \n",
       "1                    818.0                        3056.0   \n",
       "\n",
       "   Quantity indexes for real GDP by state  Real GDP by state  Subsidies  \\\n",
       "0                                   1.041             1765.0       11.0   \n",
       "1                                   5.623             2840.0        6.0   \n",
       "\n",
       "   Taxes on production and imports  \\\n",
       "0                            211.0   \n",
       "1                            189.0   \n",
       "\n",
       "   Taxes on production and imports less subsidies  \n",
       "0                                           222.0  \n",
       "1                                           195.0  "
      ]
     },
     "execution_count": 28,
     "metadata": {},
     "output_type": "execute_result"
    }
   ],
   "source": [
    "final_y_gdp.head(2)"
   ]
  },
  {
   "cell_type": "code",
   "execution_count": 31,
   "metadata": {
    "collapsed": true
   },
   "outputs": [],
   "source": [
    "final_x=pd.read_csv('final_data.csv')"
   ]
  },
  {
   "cell_type": "code",
   "execution_count": 33,
   "metadata": {
    "collapsed": true
   },
   "outputs": [],
   "source": [
    "final_all=pd.merge(final_x,final_y_gdp,left_on=final_x.state,right_on=final_y_gdp.GeoName,how='inner')"
   ]
  },
  {
   "cell_type": "code",
   "execution_count": 34,
   "metadata": {
    "collapsed": true
   },
   "outputs": [],
   "source": [
    "final_all.to_csv('final_all.csv',index=False)"
   ]
  }
 ],
 "metadata": {
  "kernelspec": {
   "display_name": "Python 3",
   "language": "python",
   "name": "python3"
  },
  "language_info": {
   "codemirror_mode": {
    "name": "ipython",
    "version": 3
   },
   "file_extension": ".py",
   "mimetype": "text/x-python",
   "name": "python",
   "nbconvert_exporter": "python",
   "pygments_lexer": "ipython3",
   "version": "3.6.3"
  }
 },
 "nbformat": 4,
 "nbformat_minor": 2
}
