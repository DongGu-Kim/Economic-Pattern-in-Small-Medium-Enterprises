{
 "cells": [
  {
   "cell_type": "code",
   "execution_count": 483,
   "metadata": {},
   "outputs": [],
   "source": [
    "import numpy as np\n",
    "import matplotlib.pyplot as plt\n",
    "import pandas as pd\n",
    "%matplotlib inline\n",
    "#using matplotlib’s ggplot style\n",
    "plt.style.use('ggplot')\n",
    "import seaborn as sns\n",
    "sns.set(color_codes=True)\n",
    "from sklearn.preprocessing import MinMaxScaler\n",
    "from sklearn import decomposition,linear_model\n",
    "from sklearn.model_selection import cross_val_score\n",
    "from sklearn.model_selection import cross_val_predict\n",
    "from sklearn.ensemble import RandomForestClassifier\n",
    "from sklearn.tree import DecisionTreeClassifier\n",
    "from sklearn.linear_model import RidgeClassifier,Lasso,LogisticRegression\n",
    "from sklearn.metrics import accuracy_score,recall_score,f1_score,roc_auc_score,precision_recall_curve,roc_curve,auc\n",
    "from sklearn.model_selection import GridSearchCV\n",
    "import xgboost as xgb\n",
    "from xgboost import XGBClassifier\n",
    "from sklearn.metrics import confusion_matrix\n",
    "import xgboost as xgb\n",
    "from xgboost import XGBClassifier"
   ]
  },
  {
   "cell_type": "code",
   "execution_count": 484,
   "metadata": {},
   "outputs": [],
   "source": [
    "path ='/Users/gyang/Desktop/yang_project/capstone/data/'"
   ]
  },
  {
   "cell_type": "markdown",
   "metadata": {},
   "source": [
    "## Independent Variable"
   ]
  },
  {
   "cell_type": "code",
   "execution_count": 411,
   "metadata": {},
   "outputs": [],
   "source": [
    "total = pd.read_csv(path + 'all_year_with_target.csv')"
   ]
  },
  {
   "cell_type": "code",
   "execution_count": 419,
   "metadata": {},
   "outputs": [],
   "source": [
    "#total.columns.values"
   ]
  },
  {
   "cell_type": "code",
   "execution_count": 414,
   "metadata": {},
   "outputs": [
    {
     "data": {
      "text/html": [
       "<div>\n",
       "<style scoped>\n",
       "    .dataframe tbody tr th:only-of-type {\n",
       "        vertical-align: middle;\n",
       "    }\n",
       "\n",
       "    .dataframe tbody tr th {\n",
       "        vertical-align: top;\n",
       "    }\n",
       "\n",
       "    .dataframe thead th {\n",
       "        text-align: right;\n",
       "    }\n",
       "</style>\n",
       "<table border=\"1\" class=\"dataframe\">\n",
       "  <thead>\n",
       "    <tr style=\"text-align: right;\">\n",
       "      <th></th>\n",
       "      <th>GeoName</th>\n",
       "      <th>year</th>\n",
       "      <th>Compensation of employees</th>\n",
       "      <th>Gross domestic product (GDP) by state</th>\n",
       "      <th>Gross operating surplus</th>\n",
       "      <th>Per capita real GDP by state</th>\n",
       "      <th>Quantity indexes for real GDP by state</th>\n",
       "      <th>Real GDP by state</th>\n",
       "      <th>Subsidies</th>\n",
       "      <th>Taxes on production and imports</th>\n",
       "      <th>...</th>\n",
       "      <th>Equals: Disposable personal income</th>\n",
       "      <th>Personal current taxes</th>\n",
       "      <th>state</th>\n",
       "      <th>contract_establish</th>\n",
       "      <th>end_establish</th>\n",
       "      <th>expand_establish</th>\n",
       "      <th>net_change</th>\n",
       "      <th>open_establish</th>\n",
       "      <th>total_contract</th>\n",
       "      <th>total_expand</th>\n",
       "    </tr>\n",
       "  </thead>\n",
       "  <tbody>\n",
       "    <tr>\n",
       "      <th>0</th>\n",
       "      <td>Alabama</td>\n",
       "      <td>1997</td>\n",
       "      <td>61240</td>\n",
       "      <td>104309.0</td>\n",
       "      <td>36814</td>\n",
       "      <td>31465.0</td>\n",
       "      <td>81.042</td>\n",
       "      <td>137437.0</td>\n",
       "      <td>-328</td>\n",
       "      <td>6582</td>\n",
       "      <td>...</td>\n",
       "      <td>83209782.0</td>\n",
       "      <td>10612417.0</td>\n",
       "      <td>Alabama</td>\n",
       "      <td>648756</td>\n",
       "      <td>138914</td>\n",
       "      <td>654734</td>\n",
       "      <td>41822</td>\n",
       "      <td>174758</td>\n",
       "      <td>787670</td>\n",
       "      <td>829492</td>\n",
       "    </tr>\n",
       "    <tr>\n",
       "      <th>1</th>\n",
       "      <td>Alaska</td>\n",
       "      <td>1997</td>\n",
       "      <td>12205</td>\n",
       "      <td>25763.0</td>\n",
       "      <td>11234</td>\n",
       "      <td>62577.0</td>\n",
       "      <td>75.935</td>\n",
       "      <td>38358.0</td>\n",
       "      <td>-62</td>\n",
       "      <td>2386</td>\n",
       "      <td>...</td>\n",
       "      <td>15203610.0</td>\n",
       "      <td>1844364.0</td>\n",
       "      <td>Alaska</td>\n",
       "      <td>158148</td>\n",
       "      <td>37718</td>\n",
       "      <td>168904</td>\n",
       "      <td>15276</td>\n",
       "      <td>42238</td>\n",
       "      <td>195866</td>\n",
       "      <td>211142</td>\n",
       "    </tr>\n",
       "    <tr>\n",
       "      <th>2</th>\n",
       "      <td>Arizona</td>\n",
       "      <td>1997</td>\n",
       "      <td>69886</td>\n",
       "      <td>132795.0</td>\n",
       "      <td>54249</td>\n",
       "      <td>34485.0</td>\n",
       "      <td>67.195</td>\n",
       "      <td>163353.0</td>\n",
       "      <td>-383</td>\n",
       "      <td>9044</td>\n",
       "      <td>...</td>\n",
       "      <td>94533284.0</td>\n",
       "      <td>12903928.0</td>\n",
       "      <td>Arizona</td>\n",
       "      <td>833670</td>\n",
       "      <td>228694</td>\n",
       "      <td>1013832</td>\n",
       "      <td>198484</td>\n",
       "      <td>247016</td>\n",
       "      <td>1062364</td>\n",
       "      <td>1260848</td>\n",
       "    </tr>\n",
       "    <tr>\n",
       "      <th>3</th>\n",
       "      <td>Arkansas</td>\n",
       "      <td>1997</td>\n",
       "      <td>32852</td>\n",
       "      <td>60248.0</td>\n",
       "      <td>23415</td>\n",
       "      <td>30470.0</td>\n",
       "      <td>79.178</td>\n",
       "      <td>79256.0</td>\n",
       "      <td>-298</td>\n",
       "      <td>4279</td>\n",
       "      <td>...</td>\n",
       "      <td>46699786.0</td>\n",
       "      <td>5709269.0</td>\n",
       "      <td>Arkansas</td>\n",
       "      <td>371418</td>\n",
       "      <td>86722</td>\n",
       "      <td>412804</td>\n",
       "      <td>49658</td>\n",
       "      <td>94994</td>\n",
       "      <td>458140</td>\n",
       "      <td>507798</td>\n",
       "    </tr>\n",
       "    <tr>\n",
       "      <th>4</th>\n",
       "      <td>California</td>\n",
       "      <td>1997</td>\n",
       "      <td>574394</td>\n",
       "      <td>1082051.0</td>\n",
       "      <td>441963</td>\n",
       "      <td>41314.0</td>\n",
       "      <td>70.134</td>\n",
       "      <td>1342133.0</td>\n",
       "      <td>-5725</td>\n",
       "      <td>71419</td>\n",
       "      <td>...</td>\n",
       "      <td>761138752.0</td>\n",
       "      <td>120765010.0</td>\n",
       "      <td>California</td>\n",
       "      <td>6281922</td>\n",
       "      <td>2167120</td>\n",
       "      <td>7002930</td>\n",
       "      <td>605040</td>\n",
       "      <td>2051152</td>\n",
       "      <td>8449042</td>\n",
       "      <td>9054082</td>\n",
       "    </tr>\n",
       "  </tbody>\n",
       "</table>\n",
       "<p>5 rows × 200 columns</p>\n",
       "</div>"
      ],
      "text/plain": [
       "      GeoName  year Compensation of employees  \\\n",
       "0     Alabama  1997                     61240   \n",
       "1      Alaska  1997                     12205   \n",
       "2     Arizona  1997                     69886   \n",
       "3    Arkansas  1997                     32852   \n",
       "4  California  1997                    574394   \n",
       "\n",
       "   Gross domestic product (GDP) by state Gross operating surplus  \\\n",
       "0                               104309.0                   36814   \n",
       "1                                25763.0                   11234   \n",
       "2                               132795.0                   54249   \n",
       "3                                60248.0                   23415   \n",
       "4                              1082051.0                  441963   \n",
       "\n",
       "   Per capita real GDP by state  Quantity indexes for real GDP by state  \\\n",
       "0                       31465.0                                  81.042   \n",
       "1                       62577.0                                  75.935   \n",
       "2                       34485.0                                  67.195   \n",
       "3                       30470.0                                  79.178   \n",
       "4                       41314.0                                  70.134   \n",
       "\n",
       "   Real GDP by state Subsidies Taxes on production and imports      ...       \\\n",
       "0           137437.0      -328                            6582      ...        \n",
       "1            38358.0       -62                            2386      ...        \n",
       "2           163353.0      -383                            9044      ...        \n",
       "3            79256.0      -298                            4279      ...        \n",
       "4          1342133.0     -5725                           71419      ...        \n",
       "\n",
       "  Equals: Disposable personal income  Personal current taxes       state  \\\n",
       "0                         83209782.0              10612417.0     Alabama   \n",
       "1                         15203610.0               1844364.0      Alaska   \n",
       "2                         94533284.0              12903928.0     Arizona   \n",
       "3                         46699786.0               5709269.0    Arkansas   \n",
       "4                        761138752.0             120765010.0  California   \n",
       "\n",
       "   contract_establish  end_establish  expand_establish  net_change  \\\n",
       "0              648756         138914            654734       41822   \n",
       "1              158148          37718            168904       15276   \n",
       "2              833670         228694           1013832      198484   \n",
       "3              371418          86722            412804       49658   \n",
       "4             6281922        2167120           7002930      605040   \n",
       "\n",
       "   open_establish  total_contract  total_expand  \n",
       "0          174758          787670        829492  \n",
       "1           42238          195866        211142  \n",
       "2          247016         1062364       1260848  \n",
       "3           94994          458140        507798  \n",
       "4         2051152         8449042       9054082  \n",
       "\n",
       "[5 rows x 200 columns]"
      ]
     },
     "execution_count": 414,
     "metadata": {},
     "output_type": "execute_result"
    }
   ],
   "source": [
    "total.head()"
   ]
  },
  {
   "cell_type": "code",
   "execution_count": 447,
   "metadata": {},
   "outputs": [],
   "source": [
    "state_list =total.GeoName.unique().tolist()"
   ]
  },
  {
   "cell_type": "code",
   "execution_count": 448,
   "metadata": {},
   "outputs": [],
   "source": [
    "def clean_state_data(st_name):\n",
    "    df_1 =total.loc[total['GeoName'] == st_name]\n",
    "    df_2 =df_1.set_index(['GeoName','year'])\n",
    "    df_3_1 =df_2.replace({'(NA)': np.nan ,'(L)':np.nan ,0:np.nan})\n",
    "    df_3 =df_3_1.drop(columns =['state','expand_establish'])\n",
    "    \n",
    "    \n",
    "    #check missing value \n",
    "\n",
    "    miss_col = df_3\n",
    "    miss_col2 = miss_col.isnull().sum(axis =0)/float(len(miss_col))\n",
    "    miss_col3 =miss_col2.sort_values(ascending=False)\n",
    "    \n",
    "    columns = df_3.columns\n",
    "    missing_value_df = pd.DataFrame({'percent_missing': miss_col3})\n",
    "    missing_value_df['percent_missing'] =missing_value_df['percent_missing'].astype('float64')\n",
    "    \n",
    "    miss_col =missing_value_df.loc[(missing_value_df['percent_missing'] >0) \n",
    "                               &(missing_value_df['percent_missing'] <0.4)].index.tolist()\n",
    "    \n",
    "    #drop columns with large missing\n",
    "    del_list = missing_value_df.loc[(missing_value_df['percent_missing'] >=0.4)].index.tolist()\n",
    "    df_4 = df_3.drop(columns=del_list)\n",
    "\n",
    "    #convert NAN to -99999\n",
    "    df_5 = df_4.fillna(-99999)\n",
    "\n",
    "    #change type of columns\n",
    "    convert_col =df_5.select_dtypes(include=['object']).columns.values\n",
    "\n",
    "    for i in convert_col:\n",
    "        df_5[i] = df_5[i].astype('float')\n",
    "\n",
    "    df_6 = df_5.copy()\n",
    "\n",
    "    #replace -99999 to mean()\n",
    "    for i in miss_col:\n",
    "        df_6[i] =df_6[i].replace({-99999: df_6[i].mean()})\n",
    "\n",
    "    df_7 = df_6.copy()\n",
    "\n",
    "    #numerical feature scaling\n",
    "    scaler = MinMaxScaler()\n",
    "    col =df_7.columns.values\n",
    "    df_7[col] = scaler.fit_transform(df_7[col])\n",
    "    \n",
    "    return df_7"
   ]
  },
  {
   "cell_type": "code",
   "execution_count": 449,
   "metadata": {},
   "outputs": [],
   "source": [
    "Alabama =clean_state_data(state_list[0])\n",
    "Alaska =clean_state_data(state_list[1])\n",
    "Arizona =clean_state_data(state_list[2])\n",
    "Arkansas =clean_state_data(state_list[3])\n",
    "California =clean_state_data(state_list[4])\n",
    "\n",
    "Colorado =clean_state_data(state_list[5])\n",
    "Connecticut =clean_state_data(state_list[6])\n",
    "Delaware =clean_state_data(state_list[7])\n",
    "Florida =clean_state_data(state_list[8])\n",
    "Georgia =clean_state_data(state_list[9])\n",
    "\n",
    "Hawaii =clean_state_data(state_list[10])\n",
    "Idaho =clean_state_data(state_list[11])\n",
    "Illinois =clean_state_data(state_list[12])\n",
    "Indiana =clean_state_data(state_list[13])\n",
    "Iowa =clean_state_data(state_list[14])\n",
    "\n",
    "Kansas =clean_state_data(state_list[15])\n",
    "Kentucky =clean_state_data(state_list[16])\n",
    "Louisiana =clean_state_data(state_list[17])\n",
    "Maine =clean_state_data(state_list[18])\n",
    "Maryland =clean_state_data(state_list[19])\n",
    "\n",
    "Massachusetts =clean_state_data(state_list[20])\n",
    "Michigan =clean_state_data(state_list[21])\n",
    "Minnesota =clean_state_data(state_list[22])\n",
    "Mississippi =clean_state_data(state_list[23])\n",
    "Missouri =clean_state_data(state_list[24])\n",
    "\n",
    "Montana =clean_state_data(state_list[25])\n",
    "Nebraska =clean_state_data(state_list[26])\n",
    "Nevada =clean_state_data(state_list[27])\n",
    "NewHampshire =clean_state_data(state_list[28])\n",
    "NewJersey =clean_state_data(state_list[29])\n",
    "\n",
    "NewMexico =clean_state_data(state_list[30])\n",
    "NewYork =clean_state_data(state_list[31])\n",
    "NorthCarolina =clean_state_data(state_list[32])\n",
    "NorthDakota =clean_state_data(state_list[33])\n",
    "Ohio =clean_state_data(state_list[34])\n",
    "\n",
    "Oklahoma =clean_state_data(state_list[35])\n",
    "Oregon =clean_state_data(state_list[36])\n",
    "Pennsylvania =clean_state_data(state_list[37])\n",
    "RhodeIsland =clean_state_data(state_list[38])\n",
    "SouthCarolina =clean_state_data(state_list[39])\n",
    "\n",
    "SouthDakota =clean_state_data(state_list[40])\n",
    "Tennessee =clean_state_data(state_list[41])\n",
    "Texas =clean_state_data(state_list[42])\n",
    "Utah =clean_state_data(state_list[43])\n",
    "Vermont =clean_state_data(state_list[44])\n",
    "\n",
    "Virginia =clean_state_data(state_list[45])\n",
    "Washington =clean_state_data(state_list[46])\n",
    "WestVirginia =clean_state_data(state_list[47])\n",
    "Wisconsin =clean_state_data(state_list[48])\n",
    "Wyoming =clean_state_data(state_list[49])\n",
    "\n",
    "DC =clean_state_data(state_list[50])"
   ]
  },
  {
   "cell_type": "code",
   "execution_count": 451,
   "metadata": {},
   "outputs": [],
   "source": [
    "# split data\n",
    "def split_data(data):\n",
    "    x_train,x_test =data.iloc[1:15,],data.iloc[15:,]\n",
    "    return x_train,x_test"
   ]
  },
  {
   "cell_type": "code",
   "execution_count": 452,
   "metadata": {},
   "outputs": [],
   "source": [
    "# split data\n",
    "\n",
    "x_train_alabama,x_test_alabama =split_data(Alabama)\n",
    "x_train_alaska,x_test_alaska =split_data(Alaska)\n",
    "x_train_arizona,x_test_arizona =split_data(Arizona)\n",
    "x_train_arkansas,x_test_arkansas =split_data(Arkansas)\n",
    "x_train_california,x_test_california =split_data(California)\n",
    "x_train_colorado,x_test_colorado =split_data(Colorado)\n",
    "x_train_connecticut,x_test_connecticut =split_data(Connecticut)\n",
    "x_train_delaware,x_test_delaware =split_data(Delaware)\n",
    "x_train_dc,x_test_dc =split_data(DC)\n",
    "x_train_florida,x_test_florida =split_data(Florida)\n",
    "x_train_georgia,x_test_georgia =split_data(Georgia)\n",
    "x_train_hawaii,x_test_hawaii =split_data(Hawaii)\n",
    "x_train_idaho,x_test_idaho =split_data(Idaho)\n",
    "x_train_illinois,x_test_illinois =split_data(Illinois)\n",
    "x_train_indiana,x_test_indiana =split_data(Indiana)\n",
    "x_train_iowa,x_test_iowa =split_data(Iowa)\n",
    "x_train_kansas,x_test_kansas =split_data(Kansas)\n",
    "x_train_kentucky,x_test_kentucky =split_data(Kentucky)\n",
    "x_train_louisiana,x_test_louisiana =split_data(Louisiana)\n",
    "x_train_maine,x_test_maine =split_data(Maine)\n",
    "x_train_maryland,x_test_maryland =split_data(Maryland)\n",
    "x_train_massachusetts,x_test_massachusetts =split_data(Massachusetts)\n",
    "x_train_michigan,x_test_michigan =split_data(Michigan)\n",
    "x_train_minnesota,x_test_minnesota =split_data(Minnesota)\n",
    "x_train_mississippi,x_test_mississippi =split_data(Mississippi)\n",
    "x_train_missouri,x_test_missouri =split_data(Missouri)\n",
    "x_train_nebraska,x_test_nebraska =split_data(Nebraska)\n",
    "x_train_nevada,x_test_nevada =split_data(Nevada)\n",
    "x_train_newhampshire,x_test_newhampshire =split_data(NewHampshire)\n",
    "x_train_newjersey,x_test_newjersey =split_data(NewJersey)\n",
    "x_train_newmexico,x_test_newmexico =split_data(NewMexico)\n",
    "x_train_newyork,x_test_newyork =split_data(NewYork)\n",
    "x_train_northcarolina,x_test_northcarolina =split_data(NorthCarolina)\n",
    "x_train_northdakota,x_test_northdakota =split_data(NorthDakota)\n",
    "x_train_ohio,x_test_ohio =split_data(Ohio)\n",
    "x_train_oklahoma,x_test_oklahoma =split_data(Oklahoma)\n",
    "x_train_oregon,x_test_oregon =split_data(Oregon)\n",
    "x_train_pennsylvania,x_test_pennsylvania =split_data(Pennsylvania)\n",
    "x_train_rhodeisland,x_test_rhodeisland =split_data(RhodeIsland)\n",
    "x_train_southcarolina,x_test_southcarolina =split_data(SouthCarolina)\n",
    "x_train_southdakota,x_test_southdakota =split_data(SouthDakota)\n",
    "x_train_tennessee,x_test_tennessee =split_data(Tennessee)\n",
    "x_train_texas,x_test_texas =split_data(Texas)\n",
    "x_train_utah,x_test_utah =split_data(Utah)\n",
    "x_train_vermont,x_test_vermont =split_data(Vermont)\n",
    "x_train_virginia,x_test_virginia =split_data(Virginia)\n",
    "x_train_washington,x_test_washington =split_data(Washington)\n",
    "x_train_westvirginia,x_test_westvirginia =split_data(WestVirginia)\n",
    "x_train_wisconsin,x_test_wisconsin =split_data(Wisconsin)\n",
    "x_train_utah,x_test_utah =split_data(Utah)\n",
    "x_train_wyoming,x_test_wyoming =split_data(Wyoming)"
   ]
  },
  {
   "cell_type": "markdown",
   "metadata": {},
   "source": [
    "## Dependent Variable (SME Growth) \n",
    "\n",
    "SME Growth Increase (Comapare with last year) =1;Decrease =0 <br\\>\n",
    "1997 ~2016 Year"
   ]
  },
  {
   "cell_type": "code",
   "execution_count": 302,
   "metadata": {},
   "outputs": [],
   "source": [
    "#PATH2 ='/Users/gyang/Desktop/yang_project/capstone/data/dependent_variable_state_data_cleaned/'"
   ]
  },
  {
   "cell_type": "code",
   "execution_count": 375,
   "metadata": {},
   "outputs": [],
   "source": [
    "#al_df =pd.read_table(PATH2+'Alabama.txt',sep='/',header=None)\n",
    "#al_df.columns=['year','month','net_change','total_expand','expand_establish',\n",
    "#                'open_establish','total_contract','contract_establish','end_establish']\n",
    "#al_year = al_df.groupby(['year'], as_index=False)[['expand_establish']].mean()\n",
    "#al_year['year'] = al_year['year'].astype('int64')"
   ]
  },
  {
   "cell_type": "code",
   "execution_count": 468,
   "metadata": {},
   "outputs": [
    {
     "name": "stderr",
     "output_type": "stream",
     "text": [
      "/anaconda3/envs/py35/lib/python3.5/site-packages/ipykernel_launcher.py:3: SettingWithCopyWarning: \n",
      "A value is trying to be set on a copy of a slice from a DataFrame.\n",
      "Try using .loc[row_indexer,col_indexer] = value instead\n",
      "\n",
      "See the caveats in the documentation: http://pandas.pydata.org/pandas-docs/stable/indexing.html#indexing-view-versus-copy\n",
      "  This is separate from the ipykernel package so we can avoid doing imports until\n",
      "/anaconda3/envs/py35/lib/python3.5/site-packages/ipykernel_launcher.py:6: SettingWithCopyWarning: \n",
      "A value is trying to be set on a copy of a slice from a DataFrame.\n",
      "Try using .loc[row_indexer,col_indexer] = value instead\n",
      "\n",
      "See the caveats in the documentation: http://pandas.pydata.org/pandas-docs/stable/indexing.html#indexing-view-versus-copy\n",
      "  \n",
      "/anaconda3/envs/py35/lib/python3.5/site-packages/ipykernel_launcher.py:9: SettingWithCopyWarning: \n",
      "A value is trying to be set on a copy of a slice from a DataFrame.\n",
      "Try using .loc[row_indexer,col_indexer] = value instead\n",
      "\n",
      "See the caveats in the documentation: http://pandas.pydata.org/pandas-docs/stable/indexing.html#indexing-view-versus-copy\n",
      "  if __name__ == '__main__':\n",
      "/anaconda3/envs/py35/lib/python3.5/site-packages/ipykernel_launcher.py:10: SettingWithCopyWarning: \n",
      "A value is trying to be set on a copy of a slice from a DataFrame.\n",
      "Try using .loc[row_indexer,col_indexer] = value instead\n",
      "\n",
      "See the caveats in the documentation: http://pandas.pydata.org/pandas-docs/stable/indexing.html#indexing-view-versus-copy\n",
      "  # Remove the CWD from sys.path while we load stuff.\n"
     ]
    }
   ],
   "source": [
    "target_df =total[['year','GeoName','expand_establish']]\n",
    "al_year =target_df.loc[target_df['GeoName'] =='Alabama']\n",
    "al_year['lag_growth'] = al_year['expand_establish'].shift(1)\n",
    "al_year2 =al_year.loc[al_year['year'] != 1997]\n",
    "\n",
    "al_year2['growth_change'] =al_year2['expand_establish'] - al_year2['lag_growth']\n",
    "\n",
    "#create dependent variable\n",
    "al_year2['growth_trend'] = np.where(al_year2['growth_change'] >=0, 1, 0)\n",
    "al_year2['growth_trend'] = al_year2['growth_trend'].astype('int')\n",
    "\n",
    "al_year3 =al_year2[['year','growth_trend']].set_index(['year'])\n",
    "\n",
    "#split train and test data\n",
    "y_train_alabama, y_test_alabama =np.array(al_year3.iloc[:14,]).ravel() ,np.array(al_year3.iloc[14:,]).ravel()"
   ]
  },
  {
   "cell_type": "code",
   "execution_count": 469,
   "metadata": {},
   "outputs": [
    {
     "data": {
      "text/plain": [
       "array([1, 0, 1, 0, 0, 0, 1, 1, 0, 1, 0, 0, 1, 0])"
      ]
     },
     "execution_count": 469,
     "metadata": {},
     "output_type": "execute_result"
    }
   ],
   "source": [
    "y_train_alabama"
   ]
  },
  {
   "cell_type": "code",
   "execution_count": 470,
   "metadata": {},
   "outputs": [
    {
     "name": "stdout",
     "output_type": "stream",
     "text": [
      "(14,)\n",
      "(5,)\n"
     ]
    }
   ],
   "source": [
    "print(y_train_alabama.shape)\n",
    "print(y_test_alabama.shape)"
   ]
  },
  {
   "cell_type": "markdown",
   "metadata": {},
   "source": [
    "# Data Modeling\n",
    "\n",
    "## Random Forest"
   ]
  },
  {
   "cell_type": "code",
   "execution_count": 526,
   "metadata": {},
   "outputs": [],
   "source": [
    "#random forest\n",
    "rfc = RandomForestClassifier(random_state=42)\n",
    "\n",
    "rfc.fit(x_train_alabama, y_train_alabama)\n",
    "y_pred_rfc = rfc.predict(x_test_alabama)"
   ]
  },
  {
   "cell_type": "code",
   "execution_count": 527,
   "metadata": {},
   "outputs": [
    {
     "data": {
      "text/plain": [
       "1.0"
      ]
     },
     "execution_count": 527,
     "metadata": {},
     "output_type": "execute_result"
    }
   ],
   "source": [
    "rfc_acc =accuracy_score(y_test_alabama, y_pred_rfc)\n",
    "rfc_acc"
   ]
  },
  {
   "cell_type": "code",
   "execution_count": 528,
   "metadata": {},
   "outputs": [
    {
     "data": {
      "image/png": "[encoded data removed]",
      "text/plain": [
       "<matplotlib.figure.Figure at 0x10e0fcb70>"
      ]
     },
     "metadata": {},
     "output_type": "display_data"
    }
   ],
   "source": [
    "### Feature selection\n",
    "feature_importances_rf = pd.DataFrame(rfc.feature_importances_,index = x_train_alabama.columns,\n",
    "                                      columns=['importance']).sort_values('importance', ascending=False)\n",
    "\n",
    "# feature importance plot\n",
    "importances_rf = rfc.feature_importances_\n",
    "indices_rf = np.argsort(importances_rf)\n",
    "\n",
    "plt.figure(figsize=(8,12))\n",
    "plt.title('Feature Importances')\n",
    "plt.xlabel('Relative Importance')\n",
    "\n",
    "top_n =20\n",
    "plt.barh(np.arange(top_n), importances_rf[indices_rf[-top_n:]],color='#51C7CB')\n",
    "\n",
    "plt.yticks(np.arange(top_n), x_train_alabama.columns[indices_rf[-top_n:]])\n",
    "plt.ylim(0, top_n)\n",
    "\n",
    "plt.show()"
   ]
  },
  {
   "cell_type": "code",
   "execution_count": 529,
   "metadata": {},
   "outputs": [
    {
     "data": {
      "text/plain": [
       "['Value of inventory change: livestock',\n",
       " 'Value of inventory change',\n",
       " 'Cotton',\n",
       " 'Seed purchased',\n",
       " 'Per capita interest ',\n",
       " 'Plus: Value of inventory change',\n",
       " \"Veterans' pension and disability benefits\",\n",
       " 'Public assistance medical care benefits ',\n",
       " 'Rental income of persons ',\n",
       " 'Other assistance to veterans 1',\n",
       " 'Receipts from businesses',\n",
       " 'Wage and salary employment',\n",
       " 'Feed purchased',\n",
       " 'Cash receipts from marketings (thousands of dollars)',\n",
       " 'Other taxes',\n",
       " 'Unemployment compensation for Federal civilian employees (UCFE)',\n",
       " 'Per capita real GDP by state',\n",
       " 'Per capita dividends ',\n",
       " 'Excluding family assistance ',\n",
       " 'Greenhouse, nursery and mushroom products',\n",
       " 'Hay, silage, etc.',\n",
       " 'Education and training assistance 1',\n",
       " 'Meat animals and other livestock',\n",
       " 'Other crops',\n",
       " \"Veterans' readjustment benefits \",\n",
       " 'Dairy products',\n",
       " 'Poultry and poultry products',\n",
       " 'Total grains',\n",
       " 'Vegetables',\n",
       " 'All other production expenses ']"
      ]
     },
     "execution_count": 529,
     "metadata": {},
     "output_type": "execute_result"
    }
   ],
   "source": [
    "#Top 30 important features\n",
    "select_feature_list =feature_importances_rf[:30].index.tolist()\n",
    "select_feature_list"
   ]
  },
  {
   "cell_type": "code",
   "execution_count": 530,
   "metadata": {},
   "outputs": [],
   "source": [
    "x_train_alabama_res, x_test_alabama_res =x_train_alabama.loc[:, select_feature_list],x_test_alabama.loc[:, select_feature_list]"
   ]
  },
  {
   "cell_type": "code",
   "execution_count": 531,
   "metadata": {},
   "outputs": [
    {
     "data": {
      "text/plain": [
       "(14, 30)"
      ]
     },
     "execution_count": 531,
     "metadata": {},
     "output_type": "execute_result"
    }
   ],
   "source": [
    "x_train_alabama_res.shape"
   ]
  },
  {
   "cell_type": "code",
   "execution_count": 532,
   "metadata": {},
   "outputs": [],
   "source": [
    "#random forest\n",
    "rf_classifer = RandomForestClassifier(random_state=42)\n",
    "\n",
    "rf_classifer.fit(x_train_alabama_res, y_train_alabama)\n",
    "y_pred_rfc_res = rf_classifer.predict(x_test_alabama_res)"
   ]
  },
  {
   "cell_type": "code",
   "execution_count": 533,
   "metadata": {},
   "outputs": [
    {
     "data": {
      "text/plain": [
       "0.59999999999999998"
      ]
     },
     "execution_count": 533,
     "metadata": {},
     "output_type": "execute_result"
    }
   ],
   "source": [
    "rfc_acc_res =accuracy_score(y_test_alabama, y_pred_rfc_res)\n",
    "rfc_acc_res"
   ]
  },
  {
   "cell_type": "markdown",
   "metadata": {},
   "source": [
    "## Xgboost"
   ]
  },
  {
   "cell_type": "code",
   "execution_count": 523,
   "metadata": {},
   "outputs": [],
   "source": [
    "xgb =XGBClassifier(n_estimators=5,seed=42)"
   ]
  },
  {
   "cell_type": "code",
   "execution_count": 524,
   "metadata": {},
   "outputs": [],
   "source": [
    "xgb.fit(x_train_alabama, y_train_alabama)\n",
    "\n",
    "y_pred_xgb = xgb.predict(x_test_alabama)"
   ]
  },
  {
   "cell_type": "code",
   "execution_count": 525,
   "metadata": {},
   "outputs": [
    {
     "data": {
      "text/plain": [
       "0.40000000000000002"
      ]
     },
     "execution_count": 525,
     "metadata": {},
     "output_type": "execute_result"
    }
   ],
   "source": [
    "xgb_acc =accuracy_score(y_test_alabama, y_pred_xgb)\n",
    "xgb_acc"
   ]
  },
  {
   "cell_type": "code",
   "execution_count": null,
   "metadata": {},
   "outputs": [],
   "source": []
  }
 ],
 "metadata": {
  "kernelspec": {
   "display_name": "Python 3",
   "language": "python",
   "name": "python3"
  },
  "language_info": {
   "codemirror_mode": {
    "name": "ipython",
    "version": 3
   },
   "file_extension": ".py",
   "mimetype": "text/x-python",
   "name": "python",
   "nbconvert_exporter": "python",
   "pygments_lexer": "ipython3",
   "version": "3.5.4"
  }
 },
 "nbformat": 4,
 "nbformat_minor": 2
}
