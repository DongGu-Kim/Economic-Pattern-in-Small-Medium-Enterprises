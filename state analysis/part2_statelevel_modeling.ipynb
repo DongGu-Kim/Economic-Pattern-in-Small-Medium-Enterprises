{
 "cells": [
  {
   "cell_type": "code",
   "execution_count": 359,
   "metadata": {},
   "outputs": [],
   "source": [
    "import numpy as np\n",
    "import matplotlib.pyplot as plt\n",
    "import pandas as pd\n",
    "%matplotlib inline\n",
    "#using matplotlib’s ggplot style\n",
    "plt.style.use('ggplot')\n",
    "import seaborn as sns\n",
    "sns.set(color_codes=True)\n",
    "from sklearn.preprocessing import MinMaxScaler\n",
    "from sklearn import decomposition,linear_model\n",
    "from sklearn.model_selection import cross_val_score\n",
    "from sklearn.model_selection import cross_val_predict\n",
    "from sklearn.ensemble import RandomForestClassifier\n",
    "from sklearn.tree import DecisionTreeClassifier\n",
    "from sklearn.linear_model import RidgeClassifier,Lasso,LogisticRegression\n",
    "from sklearn.metrics import accuracy_score,recall_score,f1_score,roc_auc_score,precision_recall_curve,roc_curve,auc\n",
    "from sklearn.model_selection import GridSearchCV\n",
    "import xgboost as xgb\n",
    "from xgboost import XGBClassifier\n",
    "from sklearn.metrics import confusion_matrix\n",
    "import xgboost as xgb\n",
    "from xgboost import XGBClassifier"
   ]
  },
  {
   "cell_type": "code",
   "execution_count": 75,
   "metadata": {},
   "outputs": [],
   "source": [
    "path ='/Users/gyang/Desktop/yang_project/capstone/data/'"
   ]
  },
  {
   "cell_type": "markdown",
   "metadata": {},
   "source": [
    "## Independent Variable"
   ]
  },
  {
   "cell_type": "code",
   "execution_count": 212,
   "metadata": {},
   "outputs": [],
   "source": [
    "total = pd.read_csv(path + 'all_year.csv')"
   ]
  },
  {
   "cell_type": "code",
   "execution_count": 280,
   "metadata": {},
   "outputs": [],
   "source": [
    "state_list =total.GeoName.unique().tolist()"
   ]
  },
  {
   "cell_type": "code",
   "execution_count": 282,
   "metadata": {},
   "outputs": [],
   "source": [
    "def clean_state_data(state):\n",
    "    df_1 =total_1.loc[total['GeoName'] == state]\n",
    "    df_2 =df_1.set_index(['GeoName','year'])\n",
    "    df_3 =df_2.replace({'(NA)': np.nan ,'(L)':np.nan ,0:np.nan})\n",
    "    \n",
    "    #check missing value \n",
    "\n",
    "    miss_col = df_3\n",
    "    miss_col2 = miss_col.isnull().sum(axis =0)/float(len(miss_col))\n",
    "    miss_col3 =miss_col2.sort_values(ascending=False)\n",
    "    \n",
    "    columns = df_3.columns\n",
    "    missing_value_df = pd.DataFrame({'percent_missing': miss_col3})\n",
    "    missing_value_df['percent_missing'] =missing_value_df['percent_missing'].astype('float64')\n",
    "    \n",
    "    miss_col =missing_value_df.loc[(missing_value_df['percent_missing'] >0) \n",
    "                               &(missing_value_df['percent_missing'] <0.4)].index.tolist()\n",
    "    \n",
    "    #drop columns with large missing\n",
    "    del_list = missing_value_df.loc[(missing_value_df['percent_missing'] >=0.4)].index.tolist()\n",
    "    df_4 = df_3.drop(columns=del_list)\n",
    "\n",
    "    #convert NAN to -99999\n",
    "    df_5 = df_4.fillna(-99999)\n",
    "\n",
    "    #change type of columns\n",
    "    convert_col =df_5.select_dtypes(include=['object']).columns.values\n",
    "\n",
    "    for i in convert_col:\n",
    "        df_5[i] = df_5[i].astype('float')\n",
    "\n",
    "    df_6 = df_5.copy()\n",
    "\n",
    "    #replace -99999 to mean()\n",
    "    for i in miss_col:\n",
    "        df_6[i] =df_6[i].replace({-99999: df_6[i].mean()})\n",
    "\n",
    "    df_7 = df_6.copy()\n",
    "\n",
    "    #numerical feature scaling\n",
    "    scaler = MinMaxScaler()\n",
    "    col =df_7.columns.values\n",
    "    df_7[col] = scaler.fit_transform(df_7[col])\n",
    "    \n",
    "    return df_7"
   ]
  },
  {
   "cell_type": "code",
   "execution_count": 291,
   "metadata": {},
   "outputs": [],
   "source": [
    "Alabama =clean_state_data(state_list[0])\n",
    "Alaska =clean_state_data(state_list[1])\n",
    "Arizona =clean_state_data(state_list[2])\n",
    "Arkansas =clean_state_data(state_list[3])\n",
    "California =clean_state_data(state_list[4])\n",
    "Colorado =clean_state_data(state_list[5])\n",
    "Connecticut =clean_state_data(state_list[6])\n",
    "Delaware =clean_state_data(state_list[7])\n",
    "DC =clean_state_data(state_list[8])\n",
    "Florida =clean_state_data(state_list[9])\n",
    "Georgia =clean_state_data(state_list[10])\n",
    "Hawaii =clean_state_data(state_list[11])\n",
    "Idaho =clean_state_data(state_list[12])\n",
    "Illinois =clean_state_data(state_list[13])\n",
    "Indiana =clean_state_data(state_list[14])\n",
    "Iowa =clean_state_data(state_list[15])\n",
    "Kansas =clean_state_data(state_list[16])\n",
    "Kentucky =clean_state_data(state_list[17])\n",
    "Louisiana =clean_state_data(state_list[18])\n",
    "Maine =clean_state_data(state_list[19])\n",
    "Maryland =clean_state_data(state_list[20])\n",
    "Massachusetts =clean_state_data(state_list[21])\n",
    "Michigan =clean_state_data(state_list[22])\n",
    "Minnesota =clean_state_data(state_list[23])\n",
    "Mississippi =clean_state_data(state_list[24])\n",
    "Missouri =clean_state_data(state_list[25])\n",
    "Montana =clean_state_data(state_list[26])\n",
    "Nebraska =clean_state_data(state_list[27])\n",
    "Nevada =clean_state_data(state_list[28])\n",
    "NewHampshire =clean_state_data(state_list[29])\n",
    "NewJersey =clean_state_data(state_list[30])\n",
    "NewMexico =clean_state_data(state_list[31])\n",
    "NewYork =clean_state_data(state_list[32])\n",
    "NorthCarolina =clean_state_data(state_list[33])\n",
    "NorthDakota =clean_state_data(state_list[34])\n",
    "Ohio =clean_state_data(state_list[35])\n",
    "Oklahoma =clean_state_data(state_list[36])\n",
    "Oregon =clean_state_data(state_list[37])\n",
    "Pennsylvania =clean_state_data(state_list[38])\n",
    "RhodeIsland =clean_state_data(state_list[39])\n",
    "SouthCarolina =clean_state_data(state_list[40])\n",
    "SouthDakota =clean_state_data(state_list[41])\n",
    "Tennessee =clean_state_data(state_list[42])\n",
    "Texas =clean_state_data(state_list[43])\n",
    "Utah =clean_state_data(state_list[44])\n",
    "Vermont =clean_state_data(state_list[45])\n",
    "Virginia =clean_state_data(state_list[46])\n",
    "Washington =clean_state_data(state_list[47])\n",
    "WestVirginia =clean_state_data(state_list[48])\n",
    "Wisconsin =clean_state_data(state_list[49])\n",
    "Wyoming =clean_state_data(state_list[50])"
   ]
  },
  {
   "cell_type": "code",
   "execution_count": 296,
   "metadata": {},
   "outputs": [],
   "source": [
    "# split data\n",
    "def split_data(data):\n",
    "    x_train,x_test =data.iloc[:16,],data.iloc[16:,]\n",
    "    return x_train,x_test"
   ]
  },
  {
   "cell_type": "code",
   "execution_count": 299,
   "metadata": {},
   "outputs": [],
   "source": [
    "# split data\n",
    "\n",
    "x_train_alabama,x_test_alabama =split_data(Alabama)\n",
    "x_train_alaska,x_test_alaska =split_data(Alaska)\n",
    "x_train_arizona,x_test_arizona =split_data(Arizona)\n",
    "x_train_arkansas,x_test_arkansas =split_data(Arkansas)\n",
    "x_train_california,x_test_california =split_data(California)\n",
    "x_train_colorado,x_test_colorado =split_data(Colorado)\n",
    "x_train_connecticut,x_test_connecticut =split_data(Connecticut)\n",
    "x_train_delaware,x_test_delaware =split_data(Delaware)\n",
    "x_train_dc,x_test_dc =split_data(DC)\n",
    "x_train_florida,x_test_florida =split_data(Florida)\n",
    "x_train_georgia,x_test_georgia =split_data(Georgia)\n",
    "x_train_hawaii,x_test_hawaii =split_data(Hawaii)\n",
    "x_train_idaho,x_test_idaho =split_data(Idaho)\n",
    "x_train_illinois,x_test_illinois =split_data(Illinois)\n",
    "x_train_indiana,x_test_indiana =split_data(Indiana)\n",
    "x_train_iowa,x_test_iowa =split_data(Iowa)\n",
    "x_train_kansas,x_test_kansas =split_data(Kansas)\n",
    "x_train_kentucky,x_test_kentucky =split_data(Kentucky)\n",
    "x_train_louisiana,x_test_louisiana =split_data(Louisiana)\n",
    "x_train_maine,x_test_maine =split_data(Maine)\n",
    "x_train_maryland,x_test_maryland =split_data(Maryland)\n",
    "x_train_massachusetts,x_test_massachusetts =split_data(Massachusetts)\n",
    "x_train_michigan,x_test_michigan =split_data(Michigan)\n",
    "x_train_minnesota,x_test_minnesota =split_data(Minnesota)\n",
    "x_train_mississippi,x_test_mississippi =split_data(Mississippi)\n",
    "x_train_missouri,x_test_missouri =split_data(Missouri)\n",
    "x_train_nebraska,x_test_nebraska =split_data(Nebraska)\n",
    "x_train_nevada,x_test_nevada =split_data(Nevada)\n",
    "x_train_newhampshire,x_test_newhampshire =split_data(NewHampshire)\n",
    "x_train_newjersey,x_test_newjersey =split_data(NewJersey)\n",
    "x_train_newmexico,x_test_newmexico =split_data(NewMexico)\n",
    "x_train_newyork,x_test_newyork =split_data(NewYork)\n",
    "x_train_northcarolina,x_test_northcarolina =split_data(NorthCarolina)\n",
    "x_train_northdakota,x_test_northdakota =split_data(NorthDakota)\n",
    "x_train_ohio,x_test_ohio =split_data(Ohio)\n",
    "x_train_oklahoma,x_test_oklahoma =split_data(Oklahoma)\n",
    "x_train_oregon,x_test_oregon =split_data(Oregon)\n",
    "x_train_pennsylvania,x_test_pennsylvania =split_data(Pennsylvania)\n",
    "x_train_rhodeisland,x_test_rhodeisland =split_data(RhodeIsland)\n",
    "x_train_southcarolina,x_test_southcarolina =split_data(SouthCarolina)\n",
    "x_train_southdakota,x_test_southdakota =split_data(SouthDakota)\n",
    "x_train_tennessee,x_test_tennessee =split_data(Tennessee)\n",
    "x_train_texas,x_test_texas =split_data(Texas)\n",
    "x_train_utah,x_test_utah =split_data(Utah)\n",
    "x_train_vermont,x_test_vermont =split_data(Vermont)\n",
    "x_train_virginia,x_test_virginia =split_data(Virginia)\n",
    "x_train_washington,x_test_washington =split_data(Washington)\n",
    "x_train_westvirginia,x_test_westvirginia =split_data(WestVirginia)\n",
    "x_train_wisconsin,x_test_wisconsin =split_data(Wisconsin)\n",
    "x_train_utah,x_test_utah =split_data(Utah)\n",
    "x_train_wyoming,x_test_wyoming =split_data(Wyoming)"
   ]
  },
  {
   "cell_type": "markdown",
   "metadata": {},
   "source": [
    "## Dependent Variable (SME Growth) \n",
    "\n",
    "SME Growth Increase (Comapare with last year) =1;Decrease =0 <br\\>\n",
    "1997 ~2016 Year"
   ]
  },
  {
   "cell_type": "code",
   "execution_count": 302,
   "metadata": {},
   "outputs": [],
   "source": [
    "PATH2 ='/Users/gyang/Desktop/yang_project/capstone/data/dependent_variable_state_data_cleaned/'"
   ]
  },
  {
   "cell_type": "code",
   "execution_count": 375,
   "metadata": {},
   "outputs": [],
   "source": [
    "al_df =pd.read_table(PATH2+'Alabama.txt',sep='/',header=None)\n",
    "al_df.columns=['year','month','net_change','total_expand','expand_establish',\n",
    "                'open_establish','total_contract','contract_establish','end_establish']\n",
    "al_year = al_df.groupby(['year'], as_index=False)[['expand_establish']].mean()\n",
    "al_year['year'] = al_year['year'].astype('int64')"
   ]
  },
  {
   "cell_type": "code",
   "execution_count": 376,
   "metadata": {},
   "outputs": [
    {
     "name": "stderr",
     "output_type": "stream",
     "text": [
      "/anaconda3/envs/py35/lib/python3.5/site-packages/ipykernel_launcher.py:5: SettingWithCopyWarning: \n",
      "A value is trying to be set on a copy of a slice from a DataFrame.\n",
      "Try using .loc[row_indexer,col_indexer] = value instead\n",
      "\n",
      "See the caveats in the documentation: http://pandas.pydata.org/pandas-docs/stable/indexing.html#indexing-view-versus-copy\n",
      "  \"\"\"\n",
      "/anaconda3/envs/py35/lib/python3.5/site-packages/ipykernel_launcher.py:8: SettingWithCopyWarning: \n",
      "A value is trying to be set on a copy of a slice from a DataFrame.\n",
      "Try using .loc[row_indexer,col_indexer] = value instead\n",
      "\n",
      "See the caveats in the documentation: http://pandas.pydata.org/pandas-docs/stable/indexing.html#indexing-view-versus-copy\n",
      "  \n",
      "/anaconda3/envs/py35/lib/python3.5/site-packages/ipykernel_launcher.py:9: SettingWithCopyWarning: \n",
      "A value is trying to be set on a copy of a slice from a DataFrame.\n",
      "Try using .loc[row_indexer,col_indexer] = value instead\n",
      "\n",
      "See the caveats in the documentation: http://pandas.pydata.org/pandas-docs/stable/indexing.html#indexing-view-versus-copy\n",
      "  if __name__ == '__main__':\n"
     ]
    }
   ],
   "source": [
    "al_year['lag_growth'] = al_year['expand_establish'].shift(1)\n",
    "al_year2 =al_year.loc[al_year['year'].isin([1997,1998,1999,2000,2001,2002,2003,2004,2005,\n",
    "                                          2006,2007,2008,2009,2010,2011,2012,2013,2014,\n",
    "                                          2015,2016])]\n",
    "al_year2['growth_change'] =al_year2['expand_establish'] - al_year2['lag_growth']\n",
    "\n",
    "#create dependent variable\n",
    "al_year2['growth_trend'] = np.where(al_year2['growth_change'] >=0, 1, 0)\n",
    "al_year2['growth_trend'] = al_year2['growth_trend'].astype('int')\n",
    "\n",
    "al_year3 =al_year2[['year','growth_trend']].set_index(['year'])\n",
    "\n",
    "#split train and test data\n",
    "y_train_alabama, y_test_alabama =np.array(al_year3.iloc[:16,]).ravel() ,np.array(al_year3.iloc[16:,]).ravel()"
   ]
  },
  {
   "cell_type": "code",
   "execution_count": 390,
   "metadata": {},
   "outputs": [
    {
     "name": "stdout",
     "output_type": "stream",
     "text": [
      "(16,)\n",
      "(4,)\n"
     ]
    }
   ],
   "source": [
    "print(y_train_alabama.shape)\n",
    "print(y_test_alabama.shape)"
   ]
  },
  {
   "cell_type": "markdown",
   "metadata": {},
   "source": [
    "# Data Modeling\n",
    "\n",
    "## Random Forest"
   ]
  },
  {
   "cell_type": "code",
   "execution_count": 378,
   "metadata": {},
   "outputs": [],
   "source": [
    "#random forest\n",
    "rf_classifer = RandomForestClassifier(random_state=42)\n",
    "\n",
    "grid_rf = {'bootstrap': [True],\n",
    " 'max_depth': [5,10, 15], \n",
    " 'max_features': ['sqrt'],\n",
    " 'min_samples_leaf': [1, 2 ],\n",
    " 'min_samples_split': list(range(2, 5))}\n",
    "\n",
    "rfc = GridSearchCV(estimator=rf_classifer, param_grid=grid_rf, cv=3)\n",
    "\n",
    "rfc.fit(x_train_alabama, y_train_alabama)\n",
    "y_pred_rfc = rfc.best_estimator_.fit(x_train_alabama, y_train_alabama).predict(x_test_alabama)"
   ]
  },
  {
   "cell_type": "code",
   "execution_count": 379,
   "metadata": {},
   "outputs": [
    {
     "data": {
      "text/plain": [
       "0.25"
      ]
     },
     "execution_count": 379,
     "metadata": {},
     "output_type": "execute_result"
    }
   ],
   "source": [
    "rfc_acc =accuracy_score(y_test_alabama, y_pred_rfc)\n",
    "rfc_acc"
   ]
  },
  {
   "cell_type": "code",
   "execution_count": 380,
   "metadata": {},
   "outputs": [
    {
     "data": {
      "image/png": "[encoded data removed]",
      "text/plain": [
       "<matplotlib.figure.Figure at 0x10e0ffa58>"
      ]
     },
     "metadata": {},
     "output_type": "display_data"
    }
   ],
   "source": [
    "### Feature selection\n",
    "feature_importances_rf = pd.DataFrame(rfc.best_estimator_.feature_importances_,index = x_train_alabama.columns,\n",
    "                                      columns=['importance']).sort_values('importance', ascending=False)\n",
    "\n",
    "# feature importance plot\n",
    "importances_rf = rfc.best_estimator_.feature_importances_\n",
    "indices_rf = np.argsort(importances_rf)\n",
    "\n",
    "plt.figure(figsize=(8,12))\n",
    "plt.title('Feature Importances')\n",
    "plt.xlabel('Relative Importance')\n",
    "\n",
    "top_n =20\n",
    "plt.barh(np.arange(top_n), importances_rf[indices_rf[-top_n:]],color='#51C7CB')\n",
    "\n",
    "plt.yticks(np.arange(top_n), x_train_alabama.columns[indices_rf[-top_n:]])\n",
    "plt.ylim(0, top_n)\n",
    "\n",
    "plt.show()"
   ]
  },
  {
   "cell_type": "code",
   "execution_count": 381,
   "metadata": {},
   "outputs": [
    {
     "data": {
      "text/plain": [
       "['Value of inventory change: livestock',\n",
       " 'Equals: Net income including corporate farms',\n",
       " 'State unemployment insurance compensation',\n",
       " 'Value of inventory change',\n",
       " 'Total grains',\n",
       " \"Veterans' readjustment benefits \",\n",
       " 'Current transfer receipts of individuals from businesses 1',\n",
       " 'Oats',\n",
       " 'Cash receipts: Crops',\n",
       " 'Subsidies',\n",
       " 'Cattle and calves',\n",
       " 'Fruits and nuts',\n",
       " 'Income taxes (gross) ',\n",
       " 'Seed purchased',\n",
       " 'Wheat',\n",
       " 'Equals: Net earnings by place of residence',\n",
       " 'Other government retirement and disability insurance benefits ',\n",
       " 'Per capita interest ',\n",
       " 'Wage and salary employment',\n",
       " 'Other taxes ']"
      ]
     },
     "execution_count": 381,
     "metadata": {},
     "output_type": "execute_result"
    }
   ],
   "source": [
    "#Top 20 important features\n",
    "select_feature_list =feature_importances_rf[:20].index.tolist()\n",
    "select_feature_list"
   ]
  },
  {
   "cell_type": "code",
   "execution_count": 382,
   "metadata": {},
   "outputs": [],
   "source": [
    "x_train_alabama_res, x_test_alabama_res =x_train_alabama.loc[:, select_feature_list],x_test_alabama.loc[:, select_feature_list]"
   ]
  },
  {
   "cell_type": "code",
   "execution_count": 383,
   "metadata": {},
   "outputs": [
    {
     "data": {
      "text/plain": [
       "(16, 20)"
      ]
     },
     "execution_count": 383,
     "metadata": {},
     "output_type": "execute_result"
    }
   ],
   "source": [
    "x_train_alabama_res.shape"
   ]
  },
  {
   "cell_type": "code",
   "execution_count": 384,
   "metadata": {},
   "outputs": [],
   "source": [
    "#random forest\n",
    "rf_classifer = RandomForestClassifier(random_state=42)\n",
    "\n",
    "grid_rf = {'bootstrap': [True],\n",
    " 'max_depth': [5,10, 15], \n",
    " 'max_features': ['sqrt'],\n",
    " 'min_samples_leaf': [1, 2 ],\n",
    " 'min_samples_split': list(range(2, 5))}\n",
    "\n",
    "rfc = GridSearchCV(estimator=rf_classifer, param_grid=grid_rf, cv=3)\n",
    "\n",
    "rfc.fit(x_train_alabama_res, y_train_alabama)\n",
    "y_pred_rfc_res = rfc.best_estimator_.fit(x_train_alabama_res, \n",
    "                                         y_train_alabama).predict(x_test_alabama_res)"
   ]
  },
  {
   "cell_type": "code",
   "execution_count": 385,
   "metadata": {},
   "outputs": [
    {
     "data": {
      "text/plain": [
       "0.25"
      ]
     },
     "execution_count": 385,
     "metadata": {},
     "output_type": "execute_result"
    }
   ],
   "source": [
    "rfc_acc_res =accuracy_score(y_test_alabama, y_pred_rfc_res)\n",
    "rfc_acc_res"
   ]
  },
  {
   "cell_type": "markdown",
   "metadata": {},
   "source": [
    "## Xgboost"
   ]
  },
  {
   "cell_type": "code",
   "execution_count": 386,
   "metadata": {},
   "outputs": [],
   "source": [
    "xgb_classifer =XGBClassifier(n_estimators=5,seed=42)\n",
    "\n",
    "grid_xgb = {#'min_child_weight': [1, 5, 10],\n",
    "        #'colsample_bytree': [0.8, 1.0, 1.2],\n",
    "        'subsample': [0.6, 0.8,1],\n",
    "        'max_depth': [5,10,15],\n",
    "        'learning_rate': [0.1,0.2,0.3]\n",
    "            \n",
    "}\n",
    "\n",
    "xgb = GridSearchCV(estimator=xgb_classifer, param_grid =grid_xgb,cv=6)"
   ]
  },
  {
   "cell_type": "code",
   "execution_count": 387,
   "metadata": {},
   "outputs": [],
   "source": [
    "xgb.fit(x_train_alabama_res, y_train_alabama)\n",
    "\n",
    "y_pred_xgb = xgb.best_estimator_.fit(x_train_alabama_res, y_train_alabama).predict(x_test_alabama_res)"
   ]
  },
  {
   "cell_type": "code",
   "execution_count": 388,
   "metadata": {},
   "outputs": [
    {
     "data": {
      "text/plain": [
       "0.25"
      ]
     },
     "execution_count": 388,
     "metadata": {},
     "output_type": "execute_result"
    }
   ],
   "source": [
    "xgb_acc_res =accuracy_score(y_test_alabama, y_pred_xgb)\n",
    "xgb_acc_res"
   ]
  },
  {
   "cell_type": "code",
   "execution_count": null,
   "metadata": {},
   "outputs": [],
   "source": []
  }
 ],
 "metadata": {
  "kernelspec": {
   "display_name": "Python 3",
   "language": "python",
   "name": "python3"
  },
  "language_info": {
   "codemirror_mode": {
    "name": "ipython",
    "version": 3
   },
   "file_extension": ".py",
   "mimetype": "text/x-python",
   "name": "python",
   "nbconvert_exporter": "python",
   "pygments_lexer": "ipython3",
   "version": "3.5.4"
  }
 },
 "nbformat": 4,
 "nbformat_minor": 2
}
