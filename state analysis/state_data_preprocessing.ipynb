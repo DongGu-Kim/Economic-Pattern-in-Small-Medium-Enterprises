{
 "cells": [
  {
   "cell_type": "code",
   "execution_count": 179,
   "metadata": {
    "collapsed": true
   },
   "outputs": [],
   "source": [
    "import pandas as pd\n",
    "import numpy as np\n",
    "from IPython.display import display, HTML\n",
    "\n"
   ]
  },
  {
   "cell_type": "code",
   "execution_count": 180,
   "metadata": {
    "collapsed": true
   },
   "outputs": [],
   "source": [
    "def clean_state_df(df):\n",
    "    non_state_list=[geo_name for geo_name in df['GeoName'] if geo_name not in state_list]\n",
    "    print(np.unique(non_state_list))\n",
    "    df=df.loc[~df['GeoName'].isin(Non_state_list),:]\n",
    "    return(df)\n",
    "def extract_feature(df,feature_list):\n",
    "    df=df.loc[df['Description'].isin(feature_list),:]\n",
    "    return df\n",
    "def show_all_feature(df):\n",
    "    feature_df=pd.DataFrame(df['Description'].value_counts())\n",
    "    display(feature_df.head(5))"
   ]
  },
  {
   "cell_type": "code",
   "execution_count": 185,
   "metadata": {},
   "outputs": [
    {
     "data": {
      "text/html": [
       "<div>\n",
       "<style>\n",
       "    .dataframe thead tr:only-child th {\n",
       "        text-align: right;\n",
       "    }\n",
       "\n",
       "    .dataframe thead th {\n",
       "        text-align: left;\n",
       "    }\n",
       "\n",
       "    .dataframe tbody tr th {\n",
       "        vertical-align: top;\n",
       "    }\n",
       "</style>\n",
       "<table border=\"1\" class=\"dataframe\">\n",
       "  <thead>\n",
       "    <tr style=\"text-align: right;\">\n",
       "      <th></th>\n",
       "      <th>Description</th>\n",
       "    </tr>\n",
       "  </thead>\n",
       "  <tbody>\n",
       "    <tr>\n",
       "      <th>Other durable goods</th>\n",
       "      <td>60</td>\n",
       "    </tr>\n",
       "    <tr>\n",
       "      <th>Personal consumption expenditures</th>\n",
       "      <td>60</td>\n",
       "    </tr>\n",
       "    <tr>\n",
       "      <th>Other services</th>\n",
       "      <td>60</td>\n",
       "    </tr>\n",
       "    <tr>\n",
       "      <th>Recreational goods and vehicles</th>\n",
       "      <td>60</td>\n",
       "    </tr>\n",
       "    <tr>\n",
       "      <th>Motor vehicles and parts</th>\n",
       "      <td>60</td>\n",
       "    </tr>\n",
       "  </tbody>\n",
       "</table>\n",
       "</div>"
      ],
      "text/plain": [
       "                                    Description\n",
       "   Other durable goods                       60\n",
       "Personal consumption expenditures            60\n",
       "  Other services                             60\n",
       "   Recreational goods and vehicles           60\n",
       "   Motor vehicles and parts                  60"
      ]
     },
     "metadata": {},
     "output_type": "display_data"
    }
   ],
   "source": [
    "expenditure=pd.read_csv('./expenditure.csv')\n",
    "expenditure_2016=expenditure.iloc[:,[1,5,8]]\n",
    "state_list=[\"Alabama\",\"Alaska\",\"Arizona\",\"Arkansas\",\"California\",\"Colorado\",\n",
    "  \"Connecticut\",\"Delaware\",'District of Columbia',\"Florida\",\"Georgia\",\"Hawaii\",\"Idaho\",\"Illinois\",\n",
    "  \"Indiana\",\"Iowa\",\"Kansas\",\"Kentucky\",\"Louisiana\",\"Maine\",\"Maryland\",\n",
    "  \"Massachusetts\",\"Michigan\",\"Minnesota\",\"Mississippi\",\"Missouri\",\"Montana\",\n",
    "  \"Nebraska\",\"Nevada\",\"New Hampshire\",\"New Jersey\",\"New Mexico\",\"New York\",\n",
    "  \"North Carolina\",\"North Dakota\",\"Ohio\",\"Oklahoma\",\"Oregon\",\"Pennsylvania\",\n",
    "  \"Rhode Island\",\"South Carolina\",\"South Dakota\",\"Tennessee\",\"Texas\",\"Utah\",\n",
    "  \"Vermont\",\"Virginia\",\"Washington\",\"West Virginia\",\"Wisconsin\",\"Wyoming\"]\n",
    "show_all_feature(expenditure_2016)"
   ]
  },
  {
   "cell_type": "code",
   "execution_count": 186,
   "metadata": {},
   "outputs": [
    {
     "name": "stdout",
     "output_type": "stream",
     "text": [
      "[ ' and reflect Census Bureau midyear population estimates for years 2010-2016 available as of December 2016. Per capita values are computed from unrounded data.'\n",
      " 'Far West' 'Great Lakes' 'Mideast' 'New England' 'Plains' 'Rocky Mountain'\n",
      " 'Southeast' 'Southwest' 'United States' 'nan']\n",
      "        GeoName  person consumption expenditure\n",
      "24      Alabama                        152397.0\n",
      "48       Alaska                         36758.0\n",
      "72      Arizona                        239680.0\n",
      "96     Arkansas                         92984.0\n",
      "120  California                       1641724.0\n"
     ]
    }
   ],
   "source": [
    "person_consumption_expenditures=clean_state_df(expenditure_2016)\n",
    "person_consumption_expenditures=extract_feature(person_consumption_expenditures,['Personal consumption expenditures'])\n",
    "person_consumption_expenditures=person_consumption_expenditures.loc[:,['GeoName','2016']]\n",
    "person_consumption_expenditures.columns=['GeoName','person consumption expenditure']\n",
    "print(person_consumption_expenditures.head(5))"
   ]
  },
  {
   "cell_type": "code",
   "execution_count": 189,
   "metadata": {},
   "outputs": [],
   "source": [
    "gdp=pd.read_csv('./gdp.csv')\n",
    "gdp=gdp.loc[:,['GeoName','Description','2016Q1','2016Q2','2016Q3','2016Q4']]\n",
    "#print(gdp.loc[gdp['2016Q1']=='(D)',:])\n"
   ]
  },
  {
   "cell_type": "code",
   "execution_count": 190,
   "metadata": {},
   "outputs": [
    {
     "data": {
      "text/html": [
       "<div>\n",
       "<style>\n",
       "    .dataframe thead tr:only-child th {\n",
       "        text-align: right;\n",
       "    }\n",
       "\n",
       "    .dataframe thead th {\n",
       "        text-align: left;\n",
       "    }\n",
       "\n",
       "    .dataframe tbody tr th {\n",
       "        vertical-align: top;\n",
       "    }\n",
       "</style>\n",
       "<table border=\"1\" class=\"dataframe\">\n",
       "  <thead>\n",
       "    <tr style=\"text-align: right;\">\n",
       "      <th></th>\n",
       "      <th>Description</th>\n",
       "    </tr>\n",
       "  </thead>\n",
       "  <tbody>\n",
       "    <tr>\n",
       "      <th>Utilities</th>\n",
       "      <td>60</td>\n",
       "    </tr>\n",
       "    <tr>\n",
       "      <th>Health care and social assistance</th>\n",
       "      <td>60</td>\n",
       "    </tr>\n",
       "    <tr>\n",
       "      <th>Transportation and warehousing</th>\n",
       "      <td>60</td>\n",
       "    </tr>\n",
       "    <tr>\n",
       "      <th>Other services, except government</th>\n",
       "      <td>60</td>\n",
       "    </tr>\n",
       "    <tr>\n",
       "      <th>Durable goods manufacturing</th>\n",
       "      <td>60</td>\n",
       "    </tr>\n",
       "  </tbody>\n",
       "</table>\n",
       "</div>"
      ],
      "text/plain": [
       "                                      Description\n",
       "   Utilities                                   60\n",
       "   Health care and social assistance           60\n",
       "   Transportation and warehousing              60\n",
       "   Other services, except government           60\n",
       "     Durable goods manufacturing               60"
      ]
     },
     "metadata": {},
     "output_type": "display_data"
    }
   ],
   "source": [
    "show_all_feature(gdp)"
   ]
  },
  {
   "cell_type": "code",
   "execution_count": 191,
   "metadata": {},
   "outputs": [
    {
     "data": {
      "text/html": [
       "<div>\n",
       "<style>\n",
       "    .dataframe thead tr:only-child th {\n",
       "        text-align: right;\n",
       "    }\n",
       "\n",
       "    .dataframe thead th {\n",
       "        text-align: left;\n",
       "    }\n",
       "\n",
       "    .dataframe tbody tr th {\n",
       "        vertical-align: top;\n",
       "    }\n",
       "</style>\n",
       "<table border=\"1\" class=\"dataframe\">\n",
       "  <thead>\n",
       "    <tr style=\"text-align: right;\">\n",
       "      <th></th>\n",
       "      <th>GeoName</th>\n",
       "      <th>Description</th>\n",
       "      <th>2016Q1</th>\n",
       "      <th>2016Q2</th>\n",
       "      <th>2016Q3</th>\n",
       "      <th>2016Q4</th>\n",
       "      <th>2016</th>\n",
       "    </tr>\n",
       "  </thead>\n",
       "  <tbody>\n",
       "    <tr>\n",
       "      <th>0</th>\n",
       "      <td>United States</td>\n",
       "      <td>All industry total</td>\n",
       "      <td>18170091</td>\n",
       "      <td>18337791</td>\n",
       "      <td>18561915</td>\n",
       "      <td>18755370</td>\n",
       "      <td>73825167.0</td>\n",
       "    </tr>\n",
       "    <tr>\n",
       "      <th>1</th>\n",
       "      <td>United States</td>\n",
       "      <td>Private industries</td>\n",
       "      <td>15913806</td>\n",
       "      <td>16069119</td>\n",
       "      <td>16273097</td>\n",
       "      <td>16454134</td>\n",
       "      <td>64710156.0</td>\n",
       "    </tr>\n",
       "    <tr>\n",
       "      <th>2</th>\n",
       "      <td>United States</td>\n",
       "      <td>Agriculture, forestry, fishing, and hunting</td>\n",
       "      <td>164987</td>\n",
       "      <td>162132</td>\n",
       "      <td>160066</td>\n",
       "      <td>152489</td>\n",
       "      <td>639674.0</td>\n",
       "    </tr>\n",
       "    <tr>\n",
       "      <th>3</th>\n",
       "      <td>United States</td>\n",
       "      <td>Mining</td>\n",
       "      <td>235103</td>\n",
       "      <td>258292</td>\n",
       "      <td>271615</td>\n",
       "      <td>293309</td>\n",
       "      <td>1058319.0</td>\n",
       "    </tr>\n",
       "    <tr>\n",
       "      <th>4</th>\n",
       "      <td>United States</td>\n",
       "      <td>Utilities</td>\n",
       "      <td>282165</td>\n",
       "      <td>283865</td>\n",
       "      <td>293901</td>\n",
       "      <td>292534</td>\n",
       "      <td>1152465.0</td>\n",
       "    </tr>\n",
       "  </tbody>\n",
       "</table>\n",
       "</div>"
      ],
      "text/plain": [
       "         GeoName                                     Description    2016Q1  \\\n",
       "0  United States                              All industry total  18170091   \n",
       "1  United States                              Private industries  15913806   \n",
       "2  United States     Agriculture, forestry, fishing, and hunting    164987   \n",
       "3  United States                                          Mining    235103   \n",
       "4  United States                                       Utilities    282165   \n",
       "\n",
       "     2016Q2    2016Q3    2016Q4        2016  \n",
       "0  18337791  18561915  18755370  73825167.0  \n",
       "1  16069119  16273097  16454134  64710156.0  \n",
       "2    162132    160066    152489    639674.0  \n",
       "3    258292    271615    293309   1058319.0  \n",
       "4    283865    293901    292534   1152465.0  "
      ]
     },
     "execution_count": 191,
     "metadata": {},
     "output_type": "execute_result"
    }
   ],
   "source": [
    "gdp=gdp.loc[~gdp['2016Q1'].isin(['(L)','(D)']),:]# D and L means missing values I print D previously,\n",
    "gdp['2016']=gdp['2016Q1'].astype(float)+gdp['2016Q2'].astype(float)+gdp['2016Q3'].astype(float)+gdp['2016Q4'].astype(float)\n",
    "gdp.head(5)"
   ]
  },
  {
   "cell_type": "code",
   "execution_count": 192,
   "metadata": {},
   "outputs": [
    {
     "name": "stdout",
     "output_type": "stream",
     "text": [
      "['Far West' 'Great Lakes' 'Mideast' 'New England' 'Plains' 'Rocky Mountain'\n",
      " 'Southeast' 'Southwest' 'United States']\n"
     ]
    },
    {
     "data": {
      "text/html": [
       "<div>\n",
       "<style>\n",
       "    .dataframe thead tr:only-child th {\n",
       "        text-align: right;\n",
       "    }\n",
       "\n",
       "    .dataframe thead th {\n",
       "        text-align: left;\n",
       "    }\n",
       "\n",
       "    .dataframe tbody tr th {\n",
       "        vertical-align: top;\n",
       "    }\n",
       "</style>\n",
       "<table border=\"1\" class=\"dataframe\">\n",
       "  <thead>\n",
       "    <tr style=\"text-align: right;\">\n",
       "      <th></th>\n",
       "      <th>GeoName</th>\n",
       "      <th>gdp</th>\n",
       "    </tr>\n",
       "  </thead>\n",
       "  <tbody>\n",
       "    <tr>\n",
       "      <th>24</th>\n",
       "      <td>Alabama</td>\n",
       "      <td>819445.0</td>\n",
       "    </tr>\n",
       "    <tr>\n",
       "      <th>48</th>\n",
       "      <td>Alaska</td>\n",
       "      <td>202852.0</td>\n",
       "    </tr>\n",
       "    <tr>\n",
       "      <th>72</th>\n",
       "      <td>Arizona</td>\n",
       "      <td>1211807.0</td>\n",
       "    </tr>\n",
       "    <tr>\n",
       "      <th>96</th>\n",
       "      <td>Arkansas</td>\n",
       "      <td>482755.0</td>\n",
       "    </tr>\n",
       "    <tr>\n",
       "      <th>120</th>\n",
       "      <td>California</td>\n",
       "      <td>10410688.0</td>\n",
       "    </tr>\n",
       "  </tbody>\n",
       "</table>\n",
       "</div>"
      ],
      "text/plain": [
       "        GeoName         gdp\n",
       "24      Alabama    819445.0\n",
       "48       Alaska    202852.0\n",
       "72      Arizona   1211807.0\n",
       "96     Arkansas    482755.0\n",
       "120  California  10410688.0"
      ]
     },
     "execution_count": 192,
     "metadata": {},
     "output_type": "execute_result"
    }
   ],
   "source": [
    "gdp_all_industry=extract_feature(gdp,['All industry total'])\n",
    "gdp_all_industry=clean_state_df(gdp_all_industry)\n",
    "gdp_all_industry=gdp_all_industry.loc[:,['GeoName','2016']]\n",
    "gdp_all_industry.columns=['GeoName','gdp']\n",
    "gdp_all_industry.head(5)"
   ]
  },
  {
   "cell_type": "code",
   "execution_count": 193,
   "metadata": {},
   "outputs": [
    {
     "data": {
      "text/html": [
       "<div>\n",
       "<style>\n",
       "    .dataframe thead tr:only-child th {\n",
       "        text-align: right;\n",
       "    }\n",
       "\n",
       "    .dataframe thead th {\n",
       "        text-align: left;\n",
       "    }\n",
       "\n",
       "    .dataframe tbody tr th {\n",
       "        vertical-align: top;\n",
       "    }\n",
       "</style>\n",
       "<table border=\"1\" class=\"dataframe\">\n",
       "  <thead>\n",
       "    <tr style=\"text-align: right;\">\n",
       "      <th></th>\n",
       "      <th>Description</th>\n",
       "    </tr>\n",
       "  </thead>\n",
       "  <tbody>\n",
       "    <tr>\n",
       "      <th>Employer contributions for government social insurance</th>\n",
       "      <td>120</td>\n",
       "    </tr>\n",
       "    <tr>\n",
       "      <th>Less: Contributions for government social insurance 5/</th>\n",
       "      <td>60</td>\n",
       "    </tr>\n",
       "    <tr>\n",
       "      <th>Per capita personal income (dollars) 4/</th>\n",
       "      <td>60</td>\n",
       "    </tr>\n",
       "    <tr>\n",
       "      <th>Wages and salaries</th>\n",
       "      <td>60</td>\n",
       "    </tr>\n",
       "    <tr>\n",
       "      <th>Equals: Net earnings by place of residence</th>\n",
       "      <td>60</td>\n",
       "    </tr>\n",
       "  </tbody>\n",
       "</table>\n",
       "</div>"
      ],
      "text/plain": [
       "                                                    Description\n",
       "    Employer contributions for government socia...          120\n",
       "  Less: Contributions for government social ins...           60\n",
       "Per capita personal income (dollars) 4/                      60\n",
       "  Wages and salaries                                         60\n",
       "  Equals: Net earnings by place of residence                 60"
      ]
     },
     "metadata": {},
     "output_type": "display_data"
    }
   ],
   "source": [
    "income_wage=pd.read_csv('./income_wage.csv')\n",
    "income_wage=income_wage.loc[:,['GeoName','Description','2016']]\n",
    "income_wage['GeoName']=income_wage['GeoName'].replace('Alaska*','Alaska')\n",
    "income_wage['GeoName']=income_wage['GeoName'].replace('Hawaii*','Hawaii')\n",
    "show_all_feature(income_wage)\n"
   ]
  },
  {
   "cell_type": "code",
   "execution_count": 194,
   "metadata": {},
   "outputs": [
    {
     "name": "stdout",
     "output_type": "stream",
     "text": [
      "['Far West' 'Great Lakes' 'Mideast' 'New England' 'Plains' 'Rocky Mountain'\n",
      " 'Southeast' 'Southwest' 'United States']\n"
     ]
    },
    {
     "data": {
      "text/html": [
       "<div>\n",
       "<style>\n",
       "    .dataframe thead tr:only-child th {\n",
       "        text-align: right;\n",
       "    }\n",
       "\n",
       "    .dataframe thead th {\n",
       "        text-align: left;\n",
       "    }\n",
       "\n",
       "    .dataframe tbody tr th {\n",
       "        vertical-align: top;\n",
       "    }\n",
       "</style>\n",
       "<table border=\"1\" class=\"dataframe\">\n",
       "  <thead>\n",
       "    <tr style=\"text-align: right;\">\n",
       "      <th></th>\n",
       "      <th>GeoName</th>\n",
       "      <th>personal income</th>\n",
       "    </tr>\n",
       "  </thead>\n",
       "  <tbody>\n",
       "    <tr>\n",
       "      <th>23</th>\n",
       "      <td>Alabama</td>\n",
       "      <td>1.891620e+08</td>\n",
       "    </tr>\n",
       "    <tr>\n",
       "      <th>46</th>\n",
       "      <td>Alaska</td>\n",
       "      <td>4.128328e+07</td>\n",
       "    </tr>\n",
       "    <tr>\n",
       "      <th>69</th>\n",
       "      <td>Arizona</td>\n",
       "      <td>2.801200e+08</td>\n",
       "    </tr>\n",
       "    <tr>\n",
       "      <th>92</th>\n",
       "      <td>Arkansas</td>\n",
       "      <td>1.186980e+08</td>\n",
       "    </tr>\n",
       "    <tr>\n",
       "      <th>115</th>\n",
       "      <td>California</td>\n",
       "      <td>2.212691e+09</td>\n",
       "    </tr>\n",
       "  </tbody>\n",
       "</table>\n",
       "</div>"
      ],
      "text/plain": [
       "        GeoName  personal income\n",
       "23      Alabama     1.891620e+08\n",
       "46       Alaska     4.128328e+07\n",
       "69      Arizona     2.801200e+08\n",
       "92     Arkansas     1.186980e+08\n",
       "115  California     2.212691e+09"
      ]
     },
     "execution_count": 194,
     "metadata": {},
     "output_type": "execute_result"
    }
   ],
   "source": [
    "income_wage=extract_feature(income_wage,['Personal income (thousands of dollars)'])\n",
    "income_wage=clean_state_df(income_wage)\n",
    "income_wage=income_wage.loc[:,['GeoName','2016']]\n",
    "income_wage.columns=['GeoName','personal income']\n",
    "income_wage.head(5)"
   ]
  },
  {
   "cell_type": "code",
   "execution_count": 199,
   "metadata": {},
   "outputs": [
    {
     "data": {
      "text/html": [
       "<div>\n",
       "<style>\n",
       "    .dataframe thead tr:only-child th {\n",
       "        text-align: right;\n",
       "    }\n",
       "\n",
       "    .dataframe thead th {\n",
       "        text-align: left;\n",
       "    }\n",
       "\n",
       "    .dataframe tbody tr th {\n",
       "        vertical-align: top;\n",
       "    }\n",
       "</style>\n",
       "<table border=\"1\" class=\"dataframe\">\n",
       "  <thead>\n",
       "    <tr style=\"text-align: right;\">\n",
       "      <th></th>\n",
       "      <th>Description</th>\n",
       "    </tr>\n",
       "  </thead>\n",
       "  <tbody>\n",
       "    <tr>\n",
       "      <th>RPPs: Goods</th>\n",
       "      <td>52</td>\n",
       "    </tr>\n",
       "    <tr>\n",
       "      <th>RPPs: Services: Other</th>\n",
       "      <td>52</td>\n",
       "    </tr>\n",
       "    <tr>\n",
       "      <th>RPPs: All items</th>\n",
       "      <td>52</td>\n",
       "    </tr>\n",
       "    <tr>\n",
       "      <th>RPPs: Services: Rents</th>\n",
       "      <td>52</td>\n",
       "    </tr>\n",
       "  </tbody>\n",
       "</table>\n",
       "</div>"
      ],
      "text/plain": [
       "                         Description\n",
       "  RPPs: Goods                     52\n",
       "  RPPs: Services: Other           52\n",
       "RPPs: All items                   52\n",
       "  RPPs: Services: Rents           52"
      ]
     },
     "metadata": {},
     "output_type": "display_data"
    },
    {
     "name": "stdout",
     "output_type": "stream",
     "text": [
      "['United States' 'nan']\n"
     ]
    }
   ],
   "source": [
    "RPP=pd.read_csv('./RPP.csv')\n",
    "RPP=RPP.loc[:,['GeoName','Description','2016']]\n",
    "show_all_feature(RPP)\n",
    "RPP=clean_state_df(RPP)\n",
    "RPP=extract_feature(RPP,['RPPs: All items'])"
   ]
  },
  {
   "cell_type": "code",
   "execution_count": 200,
   "metadata": {},
   "outputs": [],
   "source": [
    "RPP=RPP.loc[:,['GeoName','2016']]\n",
    "RPP.columns=['GeoName','RPP']"
   ]
  },
  {
   "cell_type": "code",
   "execution_count": 201,
   "metadata": {},
   "outputs": [
    {
     "data": {
      "text/html": [
       "<div>\n",
       "<style>\n",
       "    .dataframe thead tr:only-child th {\n",
       "        text-align: right;\n",
       "    }\n",
       "\n",
       "    .dataframe thead th {\n",
       "        text-align: left;\n",
       "    }\n",
       "\n",
       "    .dataframe tbody tr th {\n",
       "        vertical-align: top;\n",
       "    }\n",
       "</style>\n",
       "<table border=\"1\" class=\"dataframe\">\n",
       "  <thead>\n",
       "    <tr style=\"text-align: right;\">\n",
       "      <th></th>\n",
       "      <th>Description</th>\n",
       "    </tr>\n",
       "  </thead>\n",
       "  <tbody>\n",
       "    <tr>\n",
       "      <th>Implicit regional price deflator</th>\n",
       "      <td>51</td>\n",
       "    </tr>\n",
       "  </tbody>\n",
       "</table>\n",
       "</div>"
      ],
      "text/plain": [
       "                                  Description\n",
       "Implicit regional price deflator           51"
      ]
     },
     "metadata": {},
     "output_type": "display_data"
    },
    {
     "name": "stdout",
     "output_type": "stream",
     "text": [
      "[ nan  nan  nan  nan]\n"
     ]
    }
   ],
   "source": [
    "irp=pd.read_csv('./implicit regional price inflator.csv')\n",
    "irp=irp.loc[:,['GeoName','Description','2016']]\n",
    "show_all_feature(irp)\n",
    "irp=clean_state_df(irp)\n",
    "irp=irp.loc[:,['GeoName','2016']]\n",
    "irp.columns=['GeoName','irp']"
   ]
  },
  {
   "cell_type": "code",
   "execution_count": 205,
   "metadata": {},
   "outputs": [],
   "source": [
    "from functools import reduce\n",
    "dfs = [irp, RPP,gdp_all_industry,income_wage,person_consumption_expenditures]\n",
    "df_final = reduce(lambda left,right: pd.merge(left,right,on='GeoName'), dfs)"
   ]
  },
  {
   "cell_type": "code",
   "execution_count": 207,
   "metadata": {},
   "outputs": [],
   "source": [
    "df_final.to_csv('merge_state_data2.csv')"
   ]
  }
 ],
 "metadata": {
  "kernelspec": {
   "display_name": "Python 3",
   "language": "python",
   "name": "python3"
  }
 },
 "nbformat": 4,
 "nbformat_minor": 2
}
