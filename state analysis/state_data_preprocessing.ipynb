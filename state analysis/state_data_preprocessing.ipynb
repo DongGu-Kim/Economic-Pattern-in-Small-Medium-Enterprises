{
 "cells": [
  {
   "cell_type": "code",
   "execution_count": 3,
   "metadata": {
    "collapsed": true
   },
   "outputs": [],
   "source": [
    "import pandas as pd\n",
    "import numpy as np\n",
    "from IPython.display import display, HTML\n",
    "import pandas as pd\n",
    "import requests\n",
    "from bs4 import BeautifulSoup\n",
    "import pandas as pd\n",
    "import re\n",
    "import time\n",
    "import sqlite3\n",
    "import os\n",
    "import numpy as np\n",
    "import shutil\n",
    "import math\n",
    "import seaborn as sns\n",
    "import matplotlib.pyplot as plt\n",
    "import operator\n",
    "\n"
   ]
  },
  {
   "cell_type": "code",
   "execution_count": 262,
   "metadata": {
    "collapsed": true
   },
   "outputs": [],
   "source": [
    "def clean_state_df(df):\n",
    "    non_state_list=[geo_name for geo_name in df['GeoName'] if geo_name not in state_list]\n",
    "    print(np.unique(non_state_list))\n",
    "    df=df.loc[~df['GeoName'].isin(non_state_list),:]\n",
    "    return(df)\n",
    "def extract_feature(df,feature_list):\n",
    "    df=df.loc[df['Description'].isin(feature_list),:]\n",
    "    return df\n",
    "def show_all_feature(df):\n",
    "    feature_df=pd.DataFrame(df['Description'].value_counts())\n",
    "    display(feature_df)"
   ]
  },
  {
   "cell_type": "code",
   "execution_count": 263,
   "metadata": {},
   "outputs": [
    {
     "data": {
      "text/html": [
       "<div>\n",
       "<style>\n",
       "    .dataframe thead tr:only-child th {\n",
       "        text-align: right;\n",
       "    }\n",
       "\n",
       "    .dataframe thead th {\n",
       "        text-align: left;\n",
       "    }\n",
       "\n",
       "    .dataframe tbody tr th {\n",
       "        vertical-align: top;\n",
       "    }\n",
       "</style>\n",
       "<table border=\"1\" class=\"dataframe\">\n",
       "  <thead>\n",
       "    <tr style=\"text-align: right;\">\n",
       "      <th></th>\n",
       "      <th>Description</th>\n",
       "    </tr>\n",
       "  </thead>\n",
       "  <tbody>\n",
       "    <tr>\n",
       "      <th>Food and beverages purchased for off-premises consumption</th>\n",
       "      <td>60</td>\n",
       "    </tr>\n",
       "    <tr>\n",
       "      <th>Financial services and insurance</th>\n",
       "      <td>60</td>\n",
       "    </tr>\n",
       "    <tr>\n",
       "      <th>Other nondurable goods</th>\n",
       "      <td>60</td>\n",
       "    </tr>\n",
       "    <tr>\n",
       "      <th>Less: Receipts from sales of goods and services by nonprofit institutions</th>\n",
       "      <td>60</td>\n",
       "    </tr>\n",
       "    <tr>\n",
       "      <th>Other durable goods</th>\n",
       "      <td>60</td>\n",
       "    </tr>\n",
       "    <tr>\n",
       "      <th>Nondurable goods</th>\n",
       "      <td>60</td>\n",
       "    </tr>\n",
       "    <tr>\n",
       "      <th>Household consumption expenditures (for services)</th>\n",
       "      <td>60</td>\n",
       "    </tr>\n",
       "    <tr>\n",
       "      <th>Furnishings and durable household equipment</th>\n",
       "      <td>60</td>\n",
       "    </tr>\n",
       "    <tr>\n",
       "      <th>Services</th>\n",
       "      <td>60</td>\n",
       "    </tr>\n",
       "    <tr>\n",
       "      <th>Final consumption expenditures of nonprofit institutions serving households (NPISHs)</th>\n",
       "      <td>60</td>\n",
       "    </tr>\n",
       "    <tr>\n",
       "      <th>Motor vehicles and parts</th>\n",
       "      <td>60</td>\n",
       "    </tr>\n",
       "    <tr>\n",
       "      <th>Housing and utilities</th>\n",
       "      <td>60</td>\n",
       "    </tr>\n",
       "    <tr>\n",
       "      <th>Durable goods</th>\n",
       "      <td>60</td>\n",
       "    </tr>\n",
       "    <tr>\n",
       "      <th>Recreational goods and vehicles</th>\n",
       "      <td>60</td>\n",
       "    </tr>\n",
       "    <tr>\n",
       "      <th>Clothing and footwear</th>\n",
       "      <td>60</td>\n",
       "    </tr>\n",
       "    <tr>\n",
       "      <th>Goods</th>\n",
       "      <td>60</td>\n",
       "    </tr>\n",
       "    <tr>\n",
       "      <th>Other services</th>\n",
       "      <td>60</td>\n",
       "    </tr>\n",
       "    <tr>\n",
       "      <th>Gross output of nonprofit institutions</th>\n",
       "      <td>60</td>\n",
       "    </tr>\n",
       "    <tr>\n",
       "      <th>Gasoline and other energy goods</th>\n",
       "      <td>60</td>\n",
       "    </tr>\n",
       "    <tr>\n",
       "      <th>Health care</th>\n",
       "      <td>60</td>\n",
       "    </tr>\n",
       "    <tr>\n",
       "      <th>Recreation services</th>\n",
       "      <td>60</td>\n",
       "    </tr>\n",
       "    <tr>\n",
       "      <th>Personal consumption expenditures</th>\n",
       "      <td>60</td>\n",
       "    </tr>\n",
       "    <tr>\n",
       "      <th>Transportation services</th>\n",
       "      <td>60</td>\n",
       "    </tr>\n",
       "    <tr>\n",
       "      <th>Food services and accommodations</th>\n",
       "      <td>60</td>\n",
       "    </tr>\n",
       "  </tbody>\n",
       "</table>\n",
       "</div>"
      ],
      "text/plain": [
       "                                                    Description\n",
       "   Food and beverages purchased for off-premise...           60\n",
       "  Financial services and insurance                           60\n",
       "   Other nondurable goods                                    60\n",
       " Less: Receipts from sales of goods and service...           60\n",
       "   Other durable goods                                       60\n",
       "  Nondurable goods                                           60\n",
       "  Household consumption expenditures (for servi...           60\n",
       "   Furnishings and durable household equipment               60\n",
       " Services                                                    60\n",
       " Final consumption expenditures of nonprofit in...           60\n",
       "   Motor vehicles and parts                                  60\n",
       "  Housing and utilities                                      60\n",
       "  Durable goods                                              60\n",
       "   Recreational goods and vehicles                           60\n",
       "   Clothing and footwear                                     60\n",
       " Goods                                                       60\n",
       "  Other services                                             60\n",
       " Gross output of nonprofit institutions                      60\n",
       "   Gasoline and other energy goods                           60\n",
       "  Health care                                                60\n",
       "  Recreation services                                        60\n",
       "Personal consumption expenditures                            60\n",
       "  Transportation services                                    60\n",
       "  Food services and accommodations                           60"
      ]
     },
     "metadata": {},
     "output_type": "display_data"
    }
   ],
   "source": [
    "expenditure=pd.read_csv('./expenditure.csv')\n",
    "expenditure_2016=expenditure.iloc[:,[1,5,8]]\n",
    "state_list=[\"Alabama\",\"Alaska\",\"Arizona\",\"Arkansas\",\"California\",\"Colorado\",\n",
    "  \"Connecticut\",\"Delaware\",'District of Columbia',\"Florida\",\"Georgia\",\"Hawaii\",\"Idaho\",\"Illinois\",\n",
    "  \"Indiana\",\"Iowa\",\"Kansas\",\"Kentucky\",\"Louisiana\",\"Maine\",\"Maryland\",\n",
    "  \"Massachusetts\",\"Michigan\",\"Minnesota\",\"Mississippi\",\"Missouri\",\"Montana\",\n",
    "  \"Nebraska\",\"Nevada\",\"New Hampshire\",\"New Jersey\",\"New Mexico\",\"New York\",\n",
    "  \"North Carolina\",\"North Dakota\",\"Ohio\",\"Oklahoma\",\"Oregon\",\"Pennsylvania\",\n",
    "  \"Rhode Island\",\"South Carolina\",\"South Dakota\",\"Tennessee\",\"Texas\",\"Utah\",\n",
    "  \"Vermont\",\"Virginia\",\"Washington\",\"West Virginia\",\"Wisconsin\",\"Wyoming\"]\n",
    "show_all_feature(expenditure_2016)"
   ]
  },
  {
   "cell_type": "code",
   "execution_count": 264,
   "metadata": {},
   "outputs": [
    {
     "name": "stdout",
     "output_type": "stream",
     "text": [
      "[ ' and reflect Census Bureau midyear population estimates for years 2010-2016 available as of December 2016. Per capita values are computed from unrounded data.'\n",
      " 'Far West' 'Great Lakes' 'Mideast' 'New England' 'Plains' 'Rocky Mountain'\n",
      " 'Southeast' 'Southwest' 'United States' 'nan']\n",
      "        GeoName  person consumption expenditure\n",
      "24      Alabama                        152397.0\n",
      "48       Alaska                         36758.0\n",
      "72      Arizona                        239680.0\n",
      "96     Arkansas                         92984.0\n",
      "120  California                       1641724.0\n"
     ]
    }
   ],
   "source": [
    "person_consumption_expenditures=clean_state_df(expenditure_2016)\n",
    "person_consumption_expenditures=extract_feature(person_consumption_expenditures,['Personal consumption expenditures'])\n",
    "person_consumption_expenditures=person_consumption_expenditures.loc[:,['GeoName','2016']]\n",
    "person_consumption_expenditures.columns=['GeoName','person consumption expenditure']\n",
    "print(person_consumption_expenditures.head(5))"
   ]
  },
  {
   "cell_type": "code",
   "execution_count": 265,
   "metadata": {
    "collapsed": true
   },
   "outputs": [],
   "source": [
    "gdp=pd.read_csv('./gdp.csv')\n",
    "gdp=gdp.loc[:,['GeoName','Description','2016Q1','2016Q2','2016Q3','2016Q4']]\n",
    "#print(gdp.loc[gdp['2016Q1']=='(D)',:])\n"
   ]
  },
  {
   "cell_type": "code",
   "execution_count": 266,
   "metadata": {},
   "outputs": [
    {
     "data": {
      "text/html": [
       "<div>\n",
       "<style>\n",
       "    .dataframe thead tr:only-child th {\n",
       "        text-align: right;\n",
       "    }\n",
       "\n",
       "    .dataframe thead th {\n",
       "        text-align: left;\n",
       "    }\n",
       "\n",
       "    .dataframe tbody tr th {\n",
       "        vertical-align: top;\n",
       "    }\n",
       "</style>\n",
       "<table border=\"1\" class=\"dataframe\">\n",
       "  <thead>\n",
       "    <tr style=\"text-align: right;\">\n",
       "      <th></th>\n",
       "      <th>Description</th>\n",
       "    </tr>\n",
       "  </thead>\n",
       "  <tbody>\n",
       "    <tr>\n",
       "      <th>Professional, scientific, and technical services</th>\n",
       "      <td>60</td>\n",
       "    </tr>\n",
       "    <tr>\n",
       "      <th>Government</th>\n",
       "      <td>60</td>\n",
       "    </tr>\n",
       "    <tr>\n",
       "      <th>Management of companies and enterprises</th>\n",
       "      <td>60</td>\n",
       "    </tr>\n",
       "    <tr>\n",
       "      <th>Arts, entertainment, and recreation</th>\n",
       "      <td>60</td>\n",
       "    </tr>\n",
       "    <tr>\n",
       "      <th>Other services, except government</th>\n",
       "      <td>60</td>\n",
       "    </tr>\n",
       "    <tr>\n",
       "      <th>Utilities</th>\n",
       "      <td>60</td>\n",
       "    </tr>\n",
       "    <tr>\n",
       "      <th>Finance and insurance</th>\n",
       "      <td>60</td>\n",
       "    </tr>\n",
       "    <tr>\n",
       "      <th>Administrative and waste management services</th>\n",
       "      <td>60</td>\n",
       "    </tr>\n",
       "    <tr>\n",
       "      <th>All industry total</th>\n",
       "      <td>60</td>\n",
       "    </tr>\n",
       "    <tr>\n",
       "      <th>Mining</th>\n",
       "      <td>60</td>\n",
       "    </tr>\n",
       "    <tr>\n",
       "      <th>Nondurable goods manufacturing</th>\n",
       "      <td>60</td>\n",
       "    </tr>\n",
       "    <tr>\n",
       "      <th>Agriculture, forestry, fishing, and hunting</th>\n",
       "      <td>60</td>\n",
       "    </tr>\n",
       "    <tr>\n",
       "      <th>Construction</th>\n",
       "      <td>60</td>\n",
       "    </tr>\n",
       "    <tr>\n",
       "      <th>Accommodation and food services</th>\n",
       "      <td>60</td>\n",
       "    </tr>\n",
       "    <tr>\n",
       "      <th>Private industries</th>\n",
       "      <td>60</td>\n",
       "    </tr>\n",
       "    <tr>\n",
       "      <th>Real estate and rental and leasing</th>\n",
       "      <td>60</td>\n",
       "    </tr>\n",
       "    <tr>\n",
       "      <th>Health care and social assistance</th>\n",
       "      <td>60</td>\n",
       "    </tr>\n",
       "    <tr>\n",
       "      <th>Manufacturing</th>\n",
       "      <td>60</td>\n",
       "    </tr>\n",
       "    <tr>\n",
       "      <th>Educational services</th>\n",
       "      <td>60</td>\n",
       "    </tr>\n",
       "    <tr>\n",
       "      <th>Wholesale trade</th>\n",
       "      <td>60</td>\n",
       "    </tr>\n",
       "    <tr>\n",
       "      <th>Transportation and warehousing</th>\n",
       "      <td>60</td>\n",
       "    </tr>\n",
       "    <tr>\n",
       "      <th>Information</th>\n",
       "      <td>60</td>\n",
       "    </tr>\n",
       "    <tr>\n",
       "      <th>Retail trade</th>\n",
       "      <td>60</td>\n",
       "    </tr>\n",
       "    <tr>\n",
       "      <th>Durable goods manufacturing</th>\n",
       "      <td>60</td>\n",
       "    </tr>\n",
       "  </tbody>\n",
       "</table>\n",
       "</div>"
      ],
      "text/plain": [
       "                                                    Description\n",
       "   Professional, scientific, and technical serv...           60\n",
       " Government                                                  60\n",
       "   Management of companies and enterprises                   60\n",
       "   Arts, entertainment, and recreation                       60\n",
       "   Other services, except government                         60\n",
       "   Utilities                                                 60\n",
       "   Finance and insurance                                     60\n",
       "   Administrative and waste management services              60\n",
       "All industry total                                           60\n",
       "   Mining                                                    60\n",
       "     Nondurable goods manufacturing                          60\n",
       "   Agriculture, forestry, fishing, and hunting               60\n",
       "   Construction                                              60\n",
       "   Accommodation and food services                           60\n",
       " Private industries                                          60\n",
       "   Real estate and rental and leasing                        60\n",
       "   Health care and social assistance                         60\n",
       "   Manufacturing                                             60\n",
       "   Educational services                                      60\n",
       "   Wholesale trade                                           60\n",
       "   Transportation and warehousing                            60\n",
       "   Information                                               60\n",
       "   Retail trade                                              60\n",
       "     Durable goods manufacturing                             60"
      ]
     },
     "metadata": {},
     "output_type": "display_data"
    }
   ],
   "source": [
    "show_all_feature(gdp)"
   ]
  },
  {
   "cell_type": "code",
   "execution_count": 267,
   "metadata": {},
   "outputs": [
    {
     "data": {
      "text/html": [
       "<div>\n",
       "<style>\n",
       "    .dataframe thead tr:only-child th {\n",
       "        text-align: right;\n",
       "    }\n",
       "\n",
       "    .dataframe thead th {\n",
       "        text-align: left;\n",
       "    }\n",
       "\n",
       "    .dataframe tbody tr th {\n",
       "        vertical-align: top;\n",
       "    }\n",
       "</style>\n",
       "<table border=\"1\" class=\"dataframe\">\n",
       "  <thead>\n",
       "    <tr style=\"text-align: right;\">\n",
       "      <th></th>\n",
       "      <th>GeoName</th>\n",
       "      <th>Description</th>\n",
       "      <th>2016Q1</th>\n",
       "      <th>2016Q2</th>\n",
       "      <th>2016Q3</th>\n",
       "      <th>2016Q4</th>\n",
       "      <th>2016</th>\n",
       "    </tr>\n",
       "  </thead>\n",
       "  <tbody>\n",
       "    <tr>\n",
       "      <th>0</th>\n",
       "      <td>United States</td>\n",
       "      <td>All industry total</td>\n",
       "      <td>18170091</td>\n",
       "      <td>18337791</td>\n",
       "      <td>18561915</td>\n",
       "      <td>18755370</td>\n",
       "      <td>73825167.0</td>\n",
       "    </tr>\n",
       "    <tr>\n",
       "      <th>1</th>\n",
       "      <td>United States</td>\n",
       "      <td>Private industries</td>\n",
       "      <td>15913806</td>\n",
       "      <td>16069119</td>\n",
       "      <td>16273097</td>\n",
       "      <td>16454134</td>\n",
       "      <td>64710156.0</td>\n",
       "    </tr>\n",
       "    <tr>\n",
       "      <th>2</th>\n",
       "      <td>United States</td>\n",
       "      <td>Agriculture, forestry, fishing, and hunting</td>\n",
       "      <td>164987</td>\n",
       "      <td>162132</td>\n",
       "      <td>160066</td>\n",
       "      <td>152489</td>\n",
       "      <td>639674.0</td>\n",
       "    </tr>\n",
       "    <tr>\n",
       "      <th>3</th>\n",
       "      <td>United States</td>\n",
       "      <td>Mining</td>\n",
       "      <td>235103</td>\n",
       "      <td>258292</td>\n",
       "      <td>271615</td>\n",
       "      <td>293309</td>\n",
       "      <td>1058319.0</td>\n",
       "    </tr>\n",
       "    <tr>\n",
       "      <th>4</th>\n",
       "      <td>United States</td>\n",
       "      <td>Utilities</td>\n",
       "      <td>282165</td>\n",
       "      <td>283865</td>\n",
       "      <td>293901</td>\n",
       "      <td>292534</td>\n",
       "      <td>1152465.0</td>\n",
       "    </tr>\n",
       "  </tbody>\n",
       "</table>\n",
       "</div>"
      ],
      "text/plain": [
       "         GeoName                                     Description    2016Q1  \\\n",
       "0  United States                              All industry total  18170091   \n",
       "1  United States                              Private industries  15913806   \n",
       "2  United States     Agriculture, forestry, fishing, and hunting    164987   \n",
       "3  United States                                          Mining    235103   \n",
       "4  United States                                       Utilities    282165   \n",
       "\n",
       "     2016Q2    2016Q3    2016Q4        2016  \n",
       "0  18337791  18561915  18755370  73825167.0  \n",
       "1  16069119  16273097  16454134  64710156.0  \n",
       "2    162132    160066    152489    639674.0  \n",
       "3    258292    271615    293309   1058319.0  \n",
       "4    283865    293901    292534   1152465.0  "
      ]
     },
     "execution_count": 267,
     "metadata": {},
     "output_type": "execute_result"
    }
   ],
   "source": [
    "gdp=gdp.loc[~gdp['2016Q1'].isin(['(L)','(D)']),:]# D and L means missing values I print D previously,\n",
    "gdp['2016']=gdp['2016Q1'].astype(float)+gdp['2016Q2'].astype(float)+gdp['2016Q3'].astype(float)+gdp['2016Q4'].astype(float)\n",
    "gdp.head(5)"
   ]
  },
  {
   "cell_type": "code",
   "execution_count": 268,
   "metadata": {},
   "outputs": [
    {
     "name": "stdout",
     "output_type": "stream",
     "text": [
      "['Far West' 'Great Lakes' 'Mideast' 'New England' 'Plains' 'Rocky Mountain'\n",
      " 'Southeast' 'Southwest' 'United States']\n"
     ]
    },
    {
     "data": {
      "text/html": [
       "<div>\n",
       "<style>\n",
       "    .dataframe thead tr:only-child th {\n",
       "        text-align: right;\n",
       "    }\n",
       "\n",
       "    .dataframe thead th {\n",
       "        text-align: left;\n",
       "    }\n",
       "\n",
       "    .dataframe tbody tr th {\n",
       "        vertical-align: top;\n",
       "    }\n",
       "</style>\n",
       "<table border=\"1\" class=\"dataframe\">\n",
       "  <thead>\n",
       "    <tr style=\"text-align: right;\">\n",
       "      <th></th>\n",
       "      <th>GeoName</th>\n",
       "      <th>gdp</th>\n",
       "    </tr>\n",
       "  </thead>\n",
       "  <tbody>\n",
       "    <tr>\n",
       "      <th>24</th>\n",
       "      <td>Alabama</td>\n",
       "      <td>819445.0</td>\n",
       "    </tr>\n",
       "    <tr>\n",
       "      <th>48</th>\n",
       "      <td>Alaska</td>\n",
       "      <td>202852.0</td>\n",
       "    </tr>\n",
       "    <tr>\n",
       "      <th>72</th>\n",
       "      <td>Arizona</td>\n",
       "      <td>1211807.0</td>\n",
       "    </tr>\n",
       "    <tr>\n",
       "      <th>96</th>\n",
       "      <td>Arkansas</td>\n",
       "      <td>482755.0</td>\n",
       "    </tr>\n",
       "    <tr>\n",
       "      <th>120</th>\n",
       "      <td>California</td>\n",
       "      <td>10410688.0</td>\n",
       "    </tr>\n",
       "  </tbody>\n",
       "</table>\n",
       "</div>"
      ],
      "text/plain": [
       "        GeoName         gdp\n",
       "24      Alabama    819445.0\n",
       "48       Alaska    202852.0\n",
       "72      Arizona   1211807.0\n",
       "96     Arkansas    482755.0\n",
       "120  California  10410688.0"
      ]
     },
     "execution_count": 268,
     "metadata": {},
     "output_type": "execute_result"
    }
   ],
   "source": [
    "gdp_all_industry=extract_feature(gdp,['All industry total'])\n",
    "gdp_all_industry=clean_state_df(gdp_all_industry)\n",
    "gdp_all_industry=gdp_all_industry.loc[:,['GeoName','2016']]\n",
    "gdp_all_industry.columns=['GeoName','gdp']\n",
    "gdp_all_industry.head(5)"
   ]
  },
  {
   "cell_type": "code",
   "execution_count": 269,
   "metadata": {},
   "outputs": [
    {
     "data": {
      "text/html": [
       "<div>\n",
       "<style>\n",
       "    .dataframe thead tr:only-child th {\n",
       "        text-align: right;\n",
       "    }\n",
       "\n",
       "    .dataframe thead th {\n",
       "        text-align: left;\n",
       "    }\n",
       "\n",
       "    .dataframe tbody tr th {\n",
       "        vertical-align: top;\n",
       "    }\n",
       "</style>\n",
       "<table border=\"1\" class=\"dataframe\">\n",
       "  <thead>\n",
       "    <tr style=\"text-align: right;\">\n",
       "      <th></th>\n",
       "      <th>Description</th>\n",
       "    </tr>\n",
       "  </thead>\n",
       "  <tbody>\n",
       "    <tr>\n",
       "      <th>Employer contributions for government social insurance</th>\n",
       "      <td>120</td>\n",
       "    </tr>\n",
       "    <tr>\n",
       "      <th>Proprietors employment</th>\n",
       "      <td>60</td>\n",
       "    </tr>\n",
       "    <tr>\n",
       "      <th>Employee and self-employed contributions for government social insurance</th>\n",
       "      <td>60</td>\n",
       "    </tr>\n",
       "    <tr>\n",
       "      <th>Nonfarm proprietors' income</th>\n",
       "      <td>60</td>\n",
       "    </tr>\n",
       "    <tr>\n",
       "      <th>Wage and salary employment</th>\n",
       "      <td>60</td>\n",
       "    </tr>\n",
       "    <tr>\n",
       "      <th>Farm proprietors' income</th>\n",
       "      <td>60</td>\n",
       "    </tr>\n",
       "    <tr>\n",
       "      <th>Nonfarm personal income 1/</th>\n",
       "      <td>60</td>\n",
       "    </tr>\n",
       "    <tr>\n",
       "      <th>Total employment</th>\n",
       "      <td>60</td>\n",
       "    </tr>\n",
       "    <tr>\n",
       "      <th>Earnings by place of work</th>\n",
       "      <td>60</td>\n",
       "    </tr>\n",
       "    <tr>\n",
       "      <th>Per capita personal income (dollars) 4/</th>\n",
       "      <td>60</td>\n",
       "    </tr>\n",
       "    <tr>\n",
       "      <th>Proprietors' income 9/</th>\n",
       "      <td>60</td>\n",
       "    </tr>\n",
       "    <tr>\n",
       "      <th>Population (persons) 3/</th>\n",
       "      <td>60</td>\n",
       "    </tr>\n",
       "    <tr>\n",
       "      <th>Supplements to wages and salaries</th>\n",
       "      <td>60</td>\n",
       "    </tr>\n",
       "    <tr>\n",
       "      <th>Wages and salaries</th>\n",
       "      <td>60</td>\n",
       "    </tr>\n",
       "    <tr>\n",
       "      <th>Plus: Dividends, interest, and rent 7/</th>\n",
       "      <td>60</td>\n",
       "    </tr>\n",
       "    <tr>\n",
       "      <th>Employer contributions for employee pension and insurance funds 8/</th>\n",
       "      <td>60</td>\n",
       "    </tr>\n",
       "    <tr>\n",
       "      <th>Plus: Adjustment for residence 6/</th>\n",
       "      <td>60</td>\n",
       "    </tr>\n",
       "    <tr>\n",
       "      <th>Equals: Net earnings by place of residence</th>\n",
       "      <td>60</td>\n",
       "    </tr>\n",
       "    <tr>\n",
       "      <th>Personal income (thousands of dollars)</th>\n",
       "      <td>60</td>\n",
       "    </tr>\n",
       "    <tr>\n",
       "      <th>Less: Contributions for government social insurance 5/</th>\n",
       "      <td>60</td>\n",
       "    </tr>\n",
       "    <tr>\n",
       "      <th>Plus: Personal current transfer receipts</th>\n",
       "      <td>60</td>\n",
       "    </tr>\n",
       "    <tr>\n",
       "      <th>Farm income 2/</th>\n",
       "      <td>60</td>\n",
       "    </tr>\n",
       "  </tbody>\n",
       "</table>\n",
       "</div>"
      ],
      "text/plain": [
       "                                                    Description\n",
       "    Employer contributions for government socia...          120\n",
       "  Proprietors employment                                     60\n",
       "    Employee and self-employed contributions fo...           60\n",
       "    Nonfarm proprietors' income                              60\n",
       "  Wage and salary employment                                 60\n",
       "    Farm proprietors' income                                 60\n",
       "  Nonfarm personal income 1/                                 60\n",
       "Total employment                                             60\n",
       "  Earnings by place of work                                  60\n",
       "Per capita personal income (dollars) 4/                      60\n",
       "  Proprietors' income 9/                                     60\n",
       "Population (persons) 3/                                      60\n",
       "  Supplements to wages and salaries                          60\n",
       "  Wages and salaries                                         60\n",
       "  Plus: Dividends, interest, and rent 7/                     60\n",
       "    Employer contributions for employee pension...           60\n",
       "  Plus: Adjustment for residence 6/                          60\n",
       "  Equals: Net earnings by place of residence                 60\n",
       "Personal income (thousands of dollars)                       60\n",
       "  Less: Contributions for government social ins...           60\n",
       "  Plus: Personal current transfer receipts                   60\n",
       "  Farm income 2/                                             60"
      ]
     },
     "metadata": {},
     "output_type": "display_data"
    }
   ],
   "source": [
    "income_wage=pd.read_csv('./income_wage.csv')\n",
    "income_wage=income_wage.loc[:,['GeoName','Description','2016']]\n",
    "income_wage['GeoName']=income_wage['GeoName'].replace('Alaska*','Alaska')\n",
    "income_wage['GeoName']=income_wage['GeoName'].replace('Hawaii*','Hawaii')\n",
    "show_all_feature(income_wage)\n"
   ]
  },
  {
   "cell_type": "code",
   "execution_count": 270,
   "metadata": {},
   "outputs": [
    {
     "name": "stdout",
     "output_type": "stream",
     "text": [
      "['Far West' 'Great Lakes' 'Mideast' 'New England' 'Plains' 'Rocky Mountain'\n",
      " 'Southeast' 'Southwest' 'United States']\n"
     ]
    },
    {
     "data": {
      "text/html": [
       "<div>\n",
       "<style>\n",
       "    .dataframe thead tr:only-child th {\n",
       "        text-align: right;\n",
       "    }\n",
       "\n",
       "    .dataframe thead th {\n",
       "        text-align: left;\n",
       "    }\n",
       "\n",
       "    .dataframe tbody tr th {\n",
       "        vertical-align: top;\n",
       "    }\n",
       "</style>\n",
       "<table border=\"1\" class=\"dataframe\">\n",
       "  <thead>\n",
       "    <tr style=\"text-align: right;\">\n",
       "      <th></th>\n",
       "      <th>GeoName</th>\n",
       "      <th>personal income</th>\n",
       "    </tr>\n",
       "  </thead>\n",
       "  <tbody>\n",
       "    <tr>\n",
       "      <th>23</th>\n",
       "      <td>Alabama</td>\n",
       "      <td>1.891620e+08</td>\n",
       "    </tr>\n",
       "    <tr>\n",
       "      <th>46</th>\n",
       "      <td>Alaska</td>\n",
       "      <td>4.128328e+07</td>\n",
       "    </tr>\n",
       "    <tr>\n",
       "      <th>69</th>\n",
       "      <td>Arizona</td>\n",
       "      <td>2.801200e+08</td>\n",
       "    </tr>\n",
       "    <tr>\n",
       "      <th>92</th>\n",
       "      <td>Arkansas</td>\n",
       "      <td>1.186980e+08</td>\n",
       "    </tr>\n",
       "    <tr>\n",
       "      <th>115</th>\n",
       "      <td>California</td>\n",
       "      <td>2.212691e+09</td>\n",
       "    </tr>\n",
       "  </tbody>\n",
       "</table>\n",
       "</div>"
      ],
      "text/plain": [
       "        GeoName  personal income\n",
       "23      Alabama     1.891620e+08\n",
       "46       Alaska     4.128328e+07\n",
       "69      Arizona     2.801200e+08\n",
       "92     Arkansas     1.186980e+08\n",
       "115  California     2.212691e+09"
      ]
     },
     "execution_count": 270,
     "metadata": {},
     "output_type": "execute_result"
    }
   ],
   "source": [
    "income_wage=extract_feature(income_wage,['Personal income (thousands of dollars)'])\n",
    "income_wage=clean_state_df(income_wage)\n",
    "income_wage=income_wage.loc[:,['GeoName','2016']]\n",
    "income_wage.columns=['GeoName','personal income']\n",
    "income_wage.head(5)"
   ]
  },
  {
   "cell_type": "code",
   "execution_count": 271,
   "metadata": {},
   "outputs": [
    {
     "data": {
      "text/html": [
       "<div>\n",
       "<style>\n",
       "    .dataframe thead tr:only-child th {\n",
       "        text-align: right;\n",
       "    }\n",
       "\n",
       "    .dataframe thead th {\n",
       "        text-align: left;\n",
       "    }\n",
       "\n",
       "    .dataframe tbody tr th {\n",
       "        vertical-align: top;\n",
       "    }\n",
       "</style>\n",
       "<table border=\"1\" class=\"dataframe\">\n",
       "  <thead>\n",
       "    <tr style=\"text-align: right;\">\n",
       "      <th></th>\n",
       "      <th>Description</th>\n",
       "    </tr>\n",
       "  </thead>\n",
       "  <tbody>\n",
       "    <tr>\n",
       "      <th>RPPs: Goods</th>\n",
       "      <td>52</td>\n",
       "    </tr>\n",
       "    <tr>\n",
       "      <th>RPPs: Services: Other</th>\n",
       "      <td>52</td>\n",
       "    </tr>\n",
       "    <tr>\n",
       "      <th>RPPs: Services: Rents</th>\n",
       "      <td>52</td>\n",
       "    </tr>\n",
       "    <tr>\n",
       "      <th>RPPs: All items</th>\n",
       "      <td>52</td>\n",
       "    </tr>\n",
       "  </tbody>\n",
       "</table>\n",
       "</div>"
      ],
      "text/plain": [
       "                         Description\n",
       "  RPPs: Goods                     52\n",
       "  RPPs: Services: Other           52\n",
       "  RPPs: Services: Rents           52\n",
       "RPPs: All items                   52"
      ]
     },
     "metadata": {},
     "output_type": "display_data"
    },
    {
     "name": "stdout",
     "output_type": "stream",
     "text": [
      "['United States' 'nan']\n"
     ]
    }
   ],
   "source": [
    "RPP=pd.read_csv('./RPP.csv')\n",
    "RPP=RPP.loc[:,['GeoName','Description','2016']]\n",
    "show_all_feature(RPP)\n",
    "RPP=clean_state_df(RPP)\n",
    "RPP=extract_feature(RPP,['RPPs: All items'])"
   ]
  },
  {
   "cell_type": "code",
   "execution_count": 272,
   "metadata": {
    "collapsed": true
   },
   "outputs": [],
   "source": [
    "RPP=RPP.loc[:,['GeoName','2016']]\n",
    "RPP.columns=['GeoName','RPP']"
   ]
  },
  {
   "cell_type": "code",
   "execution_count": 273,
   "metadata": {},
   "outputs": [
    {
     "data": {
      "text/html": [
       "<div>\n",
       "<style>\n",
       "    .dataframe thead tr:only-child th {\n",
       "        text-align: right;\n",
       "    }\n",
       "\n",
       "    .dataframe thead th {\n",
       "        text-align: left;\n",
       "    }\n",
       "\n",
       "    .dataframe tbody tr th {\n",
       "        vertical-align: top;\n",
       "    }\n",
       "</style>\n",
       "<table border=\"1\" class=\"dataframe\">\n",
       "  <thead>\n",
       "    <tr style=\"text-align: right;\">\n",
       "      <th></th>\n",
       "      <th>Description</th>\n",
       "    </tr>\n",
       "  </thead>\n",
       "  <tbody>\n",
       "    <tr>\n",
       "      <th>Implicit regional price deflator</th>\n",
       "      <td>51</td>\n",
       "    </tr>\n",
       "  </tbody>\n",
       "</table>\n",
       "</div>"
      ],
      "text/plain": [
       "                                  Description\n",
       "Implicit regional price deflator           51"
      ]
     },
     "metadata": {},
     "output_type": "display_data"
    },
    {
     "name": "stdout",
     "output_type": "stream",
     "text": [
      "[ nan  nan  nan  nan]\n"
     ]
    }
   ],
   "source": [
    "irp=pd.read_csv('./implicit regional price inflator.csv')\n",
    "irp=irp.loc[:,['GeoName','Description','2016']]\n",
    "show_all_feature(irp)\n",
    "irp=clean_state_df(irp)\n",
    "irp=irp.loc[:,['GeoName','2016']]\n",
    "irp.columns=['GeoName','irp']"
   ]
  },
  {
   "cell_type": "code",
   "execution_count": 274,
   "metadata": {
    "collapsed": true
   },
   "outputs": [],
   "source": [
    "from functools import reduce\n",
    "dfs = [irp, RPP,gdp_all_industry,income_wage,person_consumption_expenditures]\n",
    "df_final = reduce(lambda left,right: pd.merge(left,right,on='GeoName'), dfs)"
   ]
  },
  {
   "cell_type": "code",
   "execution_count": 275,
   "metadata": {
    "collapsed": true
   },
   "outputs": [],
   "source": [
    "df_final.to_csv('merge_state_data2.csv')"
   ]
  },
  {
   "cell_type": "code",
   "execution_count": 277,
   "metadata": {
    "collapsed": true
   },
   "outputs": [],
   "source": [
    "import re\n",
    "import requests\n"
   ]
  },
  {
   "cell_type": "code",
   "execution_count": 280,
   "metadata": {
    "collapsed": true
   },
   "outputs": [],
   "source": [
    "if os.path.exists('./dependent_variable_state_data/'):\n",
    "    pass\n",
    "else:\n",
    "    os.mkdir('./dependent_variable_state_data/')\n",
    "if os.path.exists('./dependent_variable_state_data_cleaned/'):\n",
    "    pass\n",
    "else:\n",
    "    os.mkdir('./dependent_variable_state_data_cleaned/')"
   ]
  },
  {
   "cell_type": "code",
   "execution_count": 281,
   "metadata": {
    "collapsed": true
   },
   "outputs": [],
   "source": [
    "mta_web='https://www.bls.gov/bdm/bdmstate.htm'\n",
    "response=requests.get(mta_web)\n",
    "web_content=response.content\n",
    "soup = BeautifulSoup(web_content, 'html.parser')\n",
    "final_link=[]\n",
    "for link in soup.find_all('a',{'href':re.compile('/web/cewbd/+(.*?)table1.txt')}):\n",
    "    temp_link='https://www.bls.gov'+link.get('href')\n",
    "    final_link.append(temp_link)\n",
    "import os\n"
   ]
  },
  {
   "cell_type": "code",
   "execution_count": 289,
   "metadata": {
    "collapsed": true
   },
   "outputs": [],
   "source": [
    "for link in final_link:#uncomment the bottom lines of code if you wanna scrape the data again\n",
    "    file_name=re.sub('https://www.bls.gov/web/cewbd/','',link)\n",
    "    #response=requests.get(link) \n",
    "    with open('./dependent_variable_state_data/'+file_name, 'wb') as f:\n",
    "        f.write(response.content)"
   ]
  },
  {
   "cell_type": "code",
   "execution_count": 299,
   "metadata": {
    "collapsed": true
   },
   "outputs": [],
   "source": [
    "target_dir='./dependent_variable_state_data/'\n",
    "file_list=os.listdir(target_dir)\n"
   ]
  },
  {
   "cell_type": "code",
   "execution_count": 300,
   "metadata": {
    "collapsed": true
   },
   "outputs": [],
   "source": [
    "for j in file_list:\n",
    "    with open(target_dir+j) as fp:\n",
    "        temp_year=1991\n",
    "        lines = fp.readlines()\n",
    "        count=0\n",
    "        for i in lines:\n",
    "            if count==2:\n",
    "                file_name=i.split()\n",
    "                file_name=(' ').join(file_name)\n",
    "                f = open('./dependent_variable_state_data_cleaned/'+file_name+\".txt\", \"a\")\n",
    "            count=count+1\n",
    "            line_len=len(i.split())\n",
    "            if line_len>0 and line_len>=8 and line_len<=10:\n",
    "                temp_line=i.split()\n",
    "                temp_line=[re.sub(',','',x) for x in temp_line]\n",
    "                if re.search('[0-9]{4}',temp_line[0]):\n",
    "                    if int(temp_line[0])>temp_year:\n",
    "                        temp_year=int(temp_line[0])\n",
    "                if line_len==8:\n",
    "                    temp_line.insert(0,str(temp_year))\n",
    "                    new_line=('/').join(temp_line)\n",
    "                    f.write(\"%s\\n\" % new_line)\n",
    "                if line_len==9:\n",
    "                    new_line=('/').join(temp_line)\n",
    "                    f.write(\"%s\\n\" % new_line)\n",
    "        f.close()    "
   ]
  },
  {
   "cell_type": "code",
   "execution_count": 52,
   "metadata": {
    "collapsed": true
   },
   "outputs": [],
   "source": [
    "output_dir='./dependent_variable_state_data_cleaned/'\n",
    "output_file_list=os.listdir(output_dir)"
   ]
  },
  {
   "cell_type": "code",
   "execution_count": 53,
   "metadata": {
    "collapsed": true
   },
   "outputs": [],
   "source": [
    "final_result=pd.DataFrame(columns=['state','net_change','total_expand','expand_establish',\n",
    "                     'open_establish','total_contract','contract_establish','end_establish'])"
   ]
  },
  {
   "cell_type": "code",
   "execution_count": 54,
   "metadata": {
    "collapsed": true
   },
   "outputs": [],
   "source": [
    "for i in output_file_list:\n",
    "    temp_state=re.sub('.txt','',i)\n",
    "    temp_df=pd.read_table(output_dir+i,sep='/',header=None)\n",
    "    temp_df.columns=['year','month','net_change','total_expand','expand_establish',\n",
    "                     'open_establish','total_contract','contract_establish','end_establish']\n",
    "    temp_df_2016=temp_df.loc[temp_df['year']==2016,:]\n",
    "    temp_result=pd.DataFrame(temp_df_2016.iloc[:,2:].apply(sum,axis=0)).T\n",
    "    temp_result['state']=temp_state\n",
    "    final_result=final_result.append(temp_result)"
   ]
  },
  {
   "cell_type": "code",
   "execution_count": 55,
   "metadata": {
    "collapsed": true
   },
   "outputs": [],
   "source": [
    "data1=pd.read_csv('./merge_state_data1.csv')\n",
    "data2=pd.read_csv('./merge_state_data2.csv')\n",
    "data2=data2.iloc[:,1:]\n",
    "data_merge=pd.merge(data1,data2,left_on=data1.state,right_on=data2.GeoName)\n",
    "final_state=pd.merge(data_merge,final_result,left_on=data_merge.state,right_on=final_result.state)\n",
    "state=final_state['state_x']\n"
   ]
  },
  {
   "cell_type": "code",
   "execution_count": 56,
   "metadata": {
    "collapsed": true
   },
   "outputs": [],
   "source": [
    "def convert_str_column(df,column_list):\n",
    "    for i in column_list:\n",
    "        df[i]=[re.sub(',','',x) for x in df[i]]\n",
    "        df[i]=df[i].astype(float)\n",
    "    return df\n",
    "clean_column_list=['water_area','land_area','total_employed','total_engi','member of unions','temporary_visa_engi','totals_sicence','temporary_visa_science']\n",
    "final_state=convert_str_column(final_state,clean_column_list)"
   ]
  },
  {
   "cell_type": "code",
   "execution_count": 57,
   "metadata": {
    "collapsed": true
   },
   "outputs": [],
   "source": [
    "final_state=final_state.drop(['state_x','state_y','GeoName'],axis=1)\n",
    "final_state.insert(0,'state',state)"
   ]
  },
  {
   "cell_type": "code",
   "execution_count": 58,
   "metadata": {
    "collapsed": true
   },
   "outputs": [],
   "source": [
    "final_state_copy=final_state"
   ]
  },
  {
   "cell_type": "code",
   "execution_count": 59,
   "metadata": {
    "collapsed": true
   },
   "outputs": [],
   "source": [
    "final_state.columns=['state', 'total_engi', 'temporary_visa_engi', 'total_science',\n",
    "       'temporary_visa_science', 'total_area_sqm', 'land_area', 'water_area',\n",
    "       'total_employed', 'member of unions', 'percent of employed',\n",
    "       'represented by unions', 'percentage of employed', 'irp', 'RPP', 'gdp',\n",
    "       'personal income', 'person consumption expenditure',\n",
    "       'contract_establish', 'end_establish', 'expand_establish', 'net_change',\n",
    "       'open_establish', 'total_contract', 'total_expand']"
   ]
  },
  {
   "cell_type": "code",
   "execution_count": 60,
   "metadata": {
    "collapsed": true
   },
   "outputs": [],
   "source": [
    "final_state.to_csv('final_state_data.csv',index=False)"
   ]
  },
  {
   "cell_type": "code",
   "execution_count": 61,
   "metadata": {
    "collapsed": true
   },
   "outputs": [],
   "source": [
    "pd.set_option('display.max_columns', 30)"
   ]
  },
  {
   "cell_type": "code",
   "execution_count": null,
   "metadata": {
    "collapsed": true
   },
   "outputs": [],
   "source": []
  },
  {
   "cell_type": "code",
   "execution_count": 97,
   "metadata": {},
   "outputs": [
    {
     "data": {
      "text/plain": [
       "Index(['state', 'total_engi', 'temporary_visa_engi', 'totals_sicence',\n",
       "       'temporary_visa_science', 'total_area_sqm', 'land_area', 'water_area',\n",
       "       'total_employed', 'member of unions', 'percent of employed',\n",
       "       'represented by unions', 'percentage of employed', 'irp', 'RPP', 'gdp',\n",
       "       'personal income', 'person consumption expenditure',\n",
       "       'contract_establish', 'end_establish', 'expand_establish', 'net_change',\n",
       "       'open_establish', 'total_contract', 'total_expand'],\n",
       "      dtype='object')"
      ]
     },
     "execution_count": 97,
     "metadata": {},
     "output_type": "execute_result"
    }
   ],
   "source": [
    "final_state.columns"
   ]
  },
  {
   "cell_type": "code",
   "execution_count": 3,
   "metadata": {
    "collapsed": true
   },
   "outputs": [],
   "source": []
  },
  {
   "cell_type": "code",
   "execution_count": 87,
   "metadata": {
    "collapsed": true
   },
   "outputs": [],
   "source": []
  },
  {
   "cell_type": "code",
   "execution_count": 5,
   "metadata": {},
   "outputs": [
    {
     "ename": "NameError",
     "evalue": "name 'final_state' is not defined",
     "output_type": "error",
     "traceback": [
      "\u001b[1;31m---------------------------------------------------------------------------\u001b[0m",
      "\u001b[1;31mNameError\u001b[0m                                 Traceback (most recent call last)",
      "\u001b[1;32m<ipython-input-5-77e0935938cc>\u001b[0m in \u001b[0;36m<module>\u001b[1;34m()\u001b[0m\n\u001b[1;32m----> 1\u001b[1;33m \u001b[0mfinal_state1\u001b[0m\u001b[1;33m=\u001b[0m\u001b[0mfinal_state\u001b[0m\u001b[1;33m.\u001b[0m\u001b[0mloc\u001b[0m\u001b[1;33m[\u001b[0m\u001b[1;33m~\u001b[0m\u001b[0mfinal_state\u001b[0m\u001b[1;33m[\u001b[0m\u001b[1;34m'state'\u001b[0m\u001b[1;33m]\u001b[0m\u001b[1;33m.\u001b[0m\u001b[0misin\u001b[0m\u001b[1;33m(\u001b[0m\u001b[1;33m[\u001b[0m\u001b[1;34m'New York'\u001b[0m\u001b[1;33m,\u001b[0m\u001b[1;34m'California'\u001b[0m\u001b[1;33m,\u001b[0m\u001b[1;34m'Florida'\u001b[0m\u001b[1;33m,\u001b[0m\u001b[1;34m'Texas'\u001b[0m\u001b[1;33m]\u001b[0m\u001b[1;33m)\u001b[0m\u001b[1;33m,\u001b[0m\u001b[1;33m:\u001b[0m\u001b[1;33m]\u001b[0m\u001b[1;33m\u001b[0m\u001b[0m\n\u001b[0m",
      "\u001b[1;31mNameError\u001b[0m: name 'final_state' is not defined"
     ]
    }
   ],
   "source": []
  },
  {
   "cell_type": "code",
   "execution_count": 94,
   "metadata": {},
   "outputs": [
    {
     "data": {
      "text/plain": [
       "(-23.81011947431303, 851.81011947431307)"
      ]
     },
     "execution_count": 94,
     "metadata": {},
     "output_type": "execute_result"
    },
    {
     "data": {
      "image/png": "[encoded data removed]",
      "text/plain": [
       "<matplotlib.figure.Figure at 0x272c01ff358>"
      ]
     },
     "metadata": {},
     "output_type": "display_data"
    }
   ],
   "source": []
  },
  {
   "cell_type": "code",
   "execution_count": 100,
   "metadata": {},
   "outputs": [
    {
     "data": {
      "text/plain": [
       "(-23.81011947431303, 851.81011947431307)"
      ]
     },
     "execution_count": 100,
     "metadata": {},
     "output_type": "execute_result"
    },
    {
     "data": {
      "image/png": "[encoded data removed]",
      "text/plain": [
       "<matplotlib.figure.Figure at 0x272bee73c18>"
      ]
     },
     "metadata": {},
     "output_type": "display_data"
    }
   ],
   "source": []
  },
  {
   "cell_type": "code",
   "execution_count": 4,
   "metadata": {},
   "outputs": [
    {
     "ename": "NameError",
     "evalue": "name 'final_state1' is not defined",
     "output_type": "error",
     "traceback": [
      "\u001b[1;31m---------------------------------------------------------------------------\u001b[0m",
      "\u001b[1;31mNameError\u001b[0m                                 Traceback (most recent call last)",
      "\u001b[1;32m<ipython-input-4-ddcf21814194>\u001b[0m in \u001b[0;36m<module>\u001b[1;34m()\u001b[0m\n\u001b[0;32m      5\u001b[0m \u001b[0max3\u001b[0m \u001b[1;33m=\u001b[0m \u001b[0mfig\u001b[0m\u001b[1;33m.\u001b[0m\u001b[0madd_subplot\u001b[0m\u001b[1;33m(\u001b[0m\u001b[1;36m223\u001b[0m\u001b[1;33m)\u001b[0m\u001b[1;33m\u001b[0m\u001b[0m\n\u001b[0;32m      6\u001b[0m \u001b[0max4\u001b[0m \u001b[1;33m=\u001b[0m \u001b[0mfig\u001b[0m\u001b[1;33m.\u001b[0m\u001b[0madd_subplot\u001b[0m\u001b[1;33m(\u001b[0m\u001b[1;36m224\u001b[0m\u001b[1;33m)\u001b[0m\u001b[1;33m\u001b[0m\u001b[0m\n\u001b[1;32m----> 7\u001b[1;33m \u001b[0max1\u001b[0m\u001b[1;33m.\u001b[0m\u001b[0mscatter\u001b[0m\u001b[1;33m(\u001b[0m\u001b[1;34m'total_engi'\u001b[0m\u001b[1;33m,\u001b[0m\u001b[1;34m'total_expand'\u001b[0m\u001b[1;33m,\u001b[0m\u001b[0mdata\u001b[0m\u001b[1;33m=\u001b[0m\u001b[0mfinal_state1\u001b[0m\u001b[1;33m)\u001b[0m\u001b[1;33m\u001b[0m\u001b[0m\n\u001b[0m\u001b[0;32m      8\u001b[0m \u001b[0max1\u001b[0m\u001b[1;33m.\u001b[0m\u001b[0mtitle\u001b[0m\u001b[1;33m.\u001b[0m\u001b[0mset_text\u001b[0m\u001b[1;33m(\u001b[0m\u001b[1;34m'gdp vs total expanding number of establishments'\u001b[0m\u001b[1;33m)\u001b[0m\u001b[1;33m\u001b[0m\u001b[0m\n\u001b[0;32m      9\u001b[0m \u001b[0max1\u001b[0m\u001b[1;33m.\u001b[0m\u001b[0mset_xlabel\u001b[0m\u001b[1;33m(\u001b[0m\u001b[1;34m'Gross domestic product'\u001b[0m\u001b[1;33m)\u001b[0m\u001b[1;33m\u001b[0m\u001b[0m\n",
      "\u001b[1;31mNameError\u001b[0m: name 'final_state1' is not defined"
     ]
    },
    {
     "data": {
      "image/png": "[encoded data removed]",
      "text/plain": [
       "<matplotlib.figure.Figure at 0x1aa17cebef0>"
      ]
     },
     "metadata": {},
     "output_type": "display_data"
    }
   ],
   "source": []
  }
 ],
 "metadata": {
  "kernelspec": {
   "display_name": "Python 3",
   "language": "python",
   "name": "python3"
  },
  "language_info": {
   "codemirror_mode": {
    "name": "ipython",
    "version": 3
   },
   "file_extension": ".py",
   "mimetype": "text/x-python",
   "name": "python",
   "nbconvert_exporter": "python",
   "pygments_lexer": "ipython3",
   "version": "3.6.3"
  }
 },
 "nbformat": 4,
 "nbformat_minor": 2
}
