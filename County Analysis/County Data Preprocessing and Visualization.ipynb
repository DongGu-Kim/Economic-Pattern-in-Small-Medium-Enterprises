{
 "cells": [
  {
   "cell_type": "markdown",
   "metadata": {},
   "source": [
    "## County Data and Small Businesses Growth\n",
    "\n",
    "This track intends to test the following hypotheses:\n",
    "\n",
    "1. Small businesses in counties with high urban population are more affected by the economic fluctuations\n",
    "2. Economic crisis had a stronger effect on average county salary with more small and medium busineses present\n",
    "3. The effect of growing Fortune 500 companies is rather drastic (negative in regards to small and medium businesses) "
   ]
  },
  {
   "cell_type": "code",
   "execution_count": null,
   "metadata": {
    "collapsed": true
   },
   "outputs": [],
   "source": []
  }
 ],
 "metadata": {
  "kernelspec": {
   "display_name": "Python 3",
   "language": "python",
   "name": "python3"
  },
  "language_info": {
   "codemirror_mode": {
    "name": "ipython",
    "version": 3
   },
   "file_extension": ".py",
   "mimetype": "text/x-python",
   "name": "python",
   "nbconvert_exporter": "python",
   "pygments_lexer": "ipython3",
   "version": "3.5.4"
  }
 },
 "nbformat": 4,
 "nbformat_minor": 0
}
